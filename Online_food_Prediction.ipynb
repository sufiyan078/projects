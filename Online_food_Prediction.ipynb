{
  "nbformat": 4,
  "nbformat_minor": 0,
  "metadata": {
    "colab": {
      "provenance": []
    },
    "kernelspec": {
      "name": "python3",
      "display_name": "Python 3"
    },
    "language_info": {
      "name": "python"
    }
  },
  "cells": [
    {
      "cell_type": "code",
      "execution_count": 1,
      "metadata": {
        "id": "lMbWhMa68TPS"
      },
      "outputs": [],
      "source": [
        "import numpy as np\n",
        "import pandas as pd"
      ]
    },
    {
      "cell_type": "code",
      "source": [
        "df=pd.read_csv('/content/Onilne food order prediction.csv')"
      ],
      "metadata": {
        "id": "7AgSMKLWC0Vm"
      },
      "execution_count": 2,
      "outputs": []
    },
    {
      "cell_type": "code",
      "source": [
        "df.columns"
      ],
      "metadata": {
        "colab": {
          "base_uri": "https://localhost:8080/"
        },
        "id": "-Y5QRJvoC3wN",
        "outputId": "50297996-4f79-4ee1-e32e-53700e6d0e81"
      },
      "execution_count": 3,
      "outputs": [
        {
          "output_type": "execute_result",
          "data": {
            "text/plain": [
              "Index(['COMMENT_ID', 'AUTHOR', 'DATE', 'CONTENT', 'CLASS', 'Unnamed: 5', 'Age',\n",
              "       'Gender', 'Marital Status', 'Occupation', 'Monthly Income',\n",
              "       'Educational Qualifications', 'Family size', 'latitude', 'longitude',\n",
              "       'Pin code', 'Output', 'Feedback', 'Unnamed: 18'],\n",
              "      dtype='object')"
            ]
          },
          "metadata": {},
          "execution_count": 3
        }
      ]
    },
    {
      "cell_type": "code",
      "source": [
        "df=df.drop(['COMMENT_ID','AUTHOR','DATE','CONTENT','CLASS','Unnamed: 5'],axis=1)"
      ],
      "metadata": {
        "id": "5kIxKxLvC7jq"
      },
      "execution_count": 4,
      "outputs": []
    },
    {
      "cell_type": "code",
      "source": [
        "df"
      ],
      "metadata": {
        "colab": {
          "base_uri": "https://localhost:8080/",
          "height": 485
        },
        "id": "VExDOSc5EUfm",
        "outputId": "127d72c7-b509-4145-8d8d-d16368239894"
      },
      "execution_count": 5,
      "outputs": [
        {
          "output_type": "execute_result",
          "data": {
            "text/plain": [
              "     Age  Gender Marital Status Occupation  Monthly Income  \\\n",
              "0     20  Female         Single    Student       No Income   \n",
              "1     24  Female         Single    Student  Below Rs.10000   \n",
              "2     22    Male         Single    Student  Below Rs.10000   \n",
              "3     22  Female         Single    Student       No Income   \n",
              "4     22    Male         Single    Student  Below Rs.10000   \n",
              "..   ...     ...            ...        ...             ...   \n",
              "383   23  Female         Single    Student       No Income   \n",
              "384   23  Female         Single    Student       No Income   \n",
              "385   22  Female         Single    Student       No Income   \n",
              "386   23    Male         Single    Student  Below Rs.10000   \n",
              "387   23    Male         Single    Student       No Income   \n",
              "\n",
              "    Educational Qualifications  Family size  latitude  longitude  Pin code  \\\n",
              "0                Post Graduate            4   12.9766    77.5993    560001   \n",
              "1                     Graduate            3   12.9770    77.5773    560009   \n",
              "2                Post Graduate            3   12.9551    77.6593    560017   \n",
              "3                     Graduate            6   12.9473    77.5616    560019   \n",
              "4                Post Graduate            4   12.9850    77.5533    560010   \n",
              "..                         ...          ...       ...        ...       ...   \n",
              "383              Post Graduate            2   12.9766    77.5993    560001   \n",
              "384              Post Graduate            4   12.9854    77.7081    560048   \n",
              "385              Post Graduate            5   12.9850    77.5533    560010   \n",
              "386              Post Graduate            2   12.9770    77.5773    560009   \n",
              "387              Post Graduate            5   12.8988    77.5764    560078   \n",
              "\n",
              "    Output   Feedback Unnamed: 18  \n",
              "0      Yes   Positive         Yes  \n",
              "1      Yes   Positive         Yes  \n",
              "2      Yes  Negative          Yes  \n",
              "3      Yes   Positive         Yes  \n",
              "4      Yes   Positive         Yes  \n",
              "..     ...        ...         ...  \n",
              "383    Yes   Positive         Yes  \n",
              "384    Yes   Positive         Yes  \n",
              "385    Yes   Positive         Yes  \n",
              "386    Yes   Positive         Yes  \n",
              "387    Yes   Positive         Yes  \n",
              "\n",
              "[388 rows x 13 columns]"
            ],
            "text/html": [
              "\n",
              "  <div id=\"df-2f3c6c0f-8e1a-4b95-83d0-a4dfb37e7a73\">\n",
              "    <div class=\"colab-df-container\">\n",
              "      <div>\n",
              "<style scoped>\n",
              "    .dataframe tbody tr th:only-of-type {\n",
              "        vertical-align: middle;\n",
              "    }\n",
              "\n",
              "    .dataframe tbody tr th {\n",
              "        vertical-align: top;\n",
              "    }\n",
              "\n",
              "    .dataframe thead th {\n",
              "        text-align: right;\n",
              "    }\n",
              "</style>\n",
              "<table border=\"1\" class=\"dataframe\">\n",
              "  <thead>\n",
              "    <tr style=\"text-align: right;\">\n",
              "      <th></th>\n",
              "      <th>Age</th>\n",
              "      <th>Gender</th>\n",
              "      <th>Marital Status</th>\n",
              "      <th>Occupation</th>\n",
              "      <th>Monthly Income</th>\n",
              "      <th>Educational Qualifications</th>\n",
              "      <th>Family size</th>\n",
              "      <th>latitude</th>\n",
              "      <th>longitude</th>\n",
              "      <th>Pin code</th>\n",
              "      <th>Output</th>\n",
              "      <th>Feedback</th>\n",
              "      <th>Unnamed: 18</th>\n",
              "    </tr>\n",
              "  </thead>\n",
              "  <tbody>\n",
              "    <tr>\n",
              "      <th>0</th>\n",
              "      <td>20</td>\n",
              "      <td>Female</td>\n",
              "      <td>Single</td>\n",
              "      <td>Student</td>\n",
              "      <td>No Income</td>\n",
              "      <td>Post Graduate</td>\n",
              "      <td>4</td>\n",
              "      <td>12.9766</td>\n",
              "      <td>77.5993</td>\n",
              "      <td>560001</td>\n",
              "      <td>Yes</td>\n",
              "      <td>Positive</td>\n",
              "      <td>Yes</td>\n",
              "    </tr>\n",
              "    <tr>\n",
              "      <th>1</th>\n",
              "      <td>24</td>\n",
              "      <td>Female</td>\n",
              "      <td>Single</td>\n",
              "      <td>Student</td>\n",
              "      <td>Below Rs.10000</td>\n",
              "      <td>Graduate</td>\n",
              "      <td>3</td>\n",
              "      <td>12.9770</td>\n",
              "      <td>77.5773</td>\n",
              "      <td>560009</td>\n",
              "      <td>Yes</td>\n",
              "      <td>Positive</td>\n",
              "      <td>Yes</td>\n",
              "    </tr>\n",
              "    <tr>\n",
              "      <th>2</th>\n",
              "      <td>22</td>\n",
              "      <td>Male</td>\n",
              "      <td>Single</td>\n",
              "      <td>Student</td>\n",
              "      <td>Below Rs.10000</td>\n",
              "      <td>Post Graduate</td>\n",
              "      <td>3</td>\n",
              "      <td>12.9551</td>\n",
              "      <td>77.6593</td>\n",
              "      <td>560017</td>\n",
              "      <td>Yes</td>\n",
              "      <td>Negative</td>\n",
              "      <td>Yes</td>\n",
              "    </tr>\n",
              "    <tr>\n",
              "      <th>3</th>\n",
              "      <td>22</td>\n",
              "      <td>Female</td>\n",
              "      <td>Single</td>\n",
              "      <td>Student</td>\n",
              "      <td>No Income</td>\n",
              "      <td>Graduate</td>\n",
              "      <td>6</td>\n",
              "      <td>12.9473</td>\n",
              "      <td>77.5616</td>\n",
              "      <td>560019</td>\n",
              "      <td>Yes</td>\n",
              "      <td>Positive</td>\n",
              "      <td>Yes</td>\n",
              "    </tr>\n",
              "    <tr>\n",
              "      <th>4</th>\n",
              "      <td>22</td>\n",
              "      <td>Male</td>\n",
              "      <td>Single</td>\n",
              "      <td>Student</td>\n",
              "      <td>Below Rs.10000</td>\n",
              "      <td>Post Graduate</td>\n",
              "      <td>4</td>\n",
              "      <td>12.9850</td>\n",
              "      <td>77.5533</td>\n",
              "      <td>560010</td>\n",
              "      <td>Yes</td>\n",
              "      <td>Positive</td>\n",
              "      <td>Yes</td>\n",
              "    </tr>\n",
              "    <tr>\n",
              "      <th>...</th>\n",
              "      <td>...</td>\n",
              "      <td>...</td>\n",
              "      <td>...</td>\n",
              "      <td>...</td>\n",
              "      <td>...</td>\n",
              "      <td>...</td>\n",
              "      <td>...</td>\n",
              "      <td>...</td>\n",
              "      <td>...</td>\n",
              "      <td>...</td>\n",
              "      <td>...</td>\n",
              "      <td>...</td>\n",
              "      <td>...</td>\n",
              "    </tr>\n",
              "    <tr>\n",
              "      <th>383</th>\n",
              "      <td>23</td>\n",
              "      <td>Female</td>\n",
              "      <td>Single</td>\n",
              "      <td>Student</td>\n",
              "      <td>No Income</td>\n",
              "      <td>Post Graduate</td>\n",
              "      <td>2</td>\n",
              "      <td>12.9766</td>\n",
              "      <td>77.5993</td>\n",
              "      <td>560001</td>\n",
              "      <td>Yes</td>\n",
              "      <td>Positive</td>\n",
              "      <td>Yes</td>\n",
              "    </tr>\n",
              "    <tr>\n",
              "      <th>384</th>\n",
              "      <td>23</td>\n",
              "      <td>Female</td>\n",
              "      <td>Single</td>\n",
              "      <td>Student</td>\n",
              "      <td>No Income</td>\n",
              "      <td>Post Graduate</td>\n",
              "      <td>4</td>\n",
              "      <td>12.9854</td>\n",
              "      <td>77.7081</td>\n",
              "      <td>560048</td>\n",
              "      <td>Yes</td>\n",
              "      <td>Positive</td>\n",
              "      <td>Yes</td>\n",
              "    </tr>\n",
              "    <tr>\n",
              "      <th>385</th>\n",
              "      <td>22</td>\n",
              "      <td>Female</td>\n",
              "      <td>Single</td>\n",
              "      <td>Student</td>\n",
              "      <td>No Income</td>\n",
              "      <td>Post Graduate</td>\n",
              "      <td>5</td>\n",
              "      <td>12.9850</td>\n",
              "      <td>77.5533</td>\n",
              "      <td>560010</td>\n",
              "      <td>Yes</td>\n",
              "      <td>Positive</td>\n",
              "      <td>Yes</td>\n",
              "    </tr>\n",
              "    <tr>\n",
              "      <th>386</th>\n",
              "      <td>23</td>\n",
              "      <td>Male</td>\n",
              "      <td>Single</td>\n",
              "      <td>Student</td>\n",
              "      <td>Below Rs.10000</td>\n",
              "      <td>Post Graduate</td>\n",
              "      <td>2</td>\n",
              "      <td>12.9770</td>\n",
              "      <td>77.5773</td>\n",
              "      <td>560009</td>\n",
              "      <td>Yes</td>\n",
              "      <td>Positive</td>\n",
              "      <td>Yes</td>\n",
              "    </tr>\n",
              "    <tr>\n",
              "      <th>387</th>\n",
              "      <td>23</td>\n",
              "      <td>Male</td>\n",
              "      <td>Single</td>\n",
              "      <td>Student</td>\n",
              "      <td>No Income</td>\n",
              "      <td>Post Graduate</td>\n",
              "      <td>5</td>\n",
              "      <td>12.8988</td>\n",
              "      <td>77.5764</td>\n",
              "      <td>560078</td>\n",
              "      <td>Yes</td>\n",
              "      <td>Positive</td>\n",
              "      <td>Yes</td>\n",
              "    </tr>\n",
              "  </tbody>\n",
              "</table>\n",
              "<p>388 rows × 13 columns</p>\n",
              "</div>\n",
              "      <button class=\"colab-df-convert\" onclick=\"convertToInteractive('df-2f3c6c0f-8e1a-4b95-83d0-a4dfb37e7a73')\"\n",
              "              title=\"Convert this dataframe to an interactive table.\"\n",
              "              style=\"display:none;\">\n",
              "        \n",
              "  <svg xmlns=\"http://www.w3.org/2000/svg\" height=\"24px\"viewBox=\"0 0 24 24\"\n",
              "       width=\"24px\">\n",
              "    <path d=\"M0 0h24v24H0V0z\" fill=\"none\"/>\n",
              "    <path d=\"M18.56 5.44l.94 2.06.94-2.06 2.06-.94-2.06-.94-.94-2.06-.94 2.06-2.06.94zm-11 1L8.5 8.5l.94-2.06 2.06-.94-2.06-.94L8.5 2.5l-.94 2.06-2.06.94zm10 10l.94 2.06.94-2.06 2.06-.94-2.06-.94-.94-2.06-.94 2.06-2.06.94z\"/><path d=\"M17.41 7.96l-1.37-1.37c-.4-.4-.92-.59-1.43-.59-.52 0-1.04.2-1.43.59L10.3 9.45l-7.72 7.72c-.78.78-.78 2.05 0 2.83L4 21.41c.39.39.9.59 1.41.59.51 0 1.02-.2 1.41-.59l7.78-7.78 2.81-2.81c.8-.78.8-2.07 0-2.86zM5.41 20L4 18.59l7.72-7.72 1.47 1.35L5.41 20z\"/>\n",
              "  </svg>\n",
              "      </button>\n",
              "      \n",
              "  <style>\n",
              "    .colab-df-container {\n",
              "      display:flex;\n",
              "      flex-wrap:wrap;\n",
              "      gap: 12px;\n",
              "    }\n",
              "\n",
              "    .colab-df-convert {\n",
              "      background-color: #E8F0FE;\n",
              "      border: none;\n",
              "      border-radius: 50%;\n",
              "      cursor: pointer;\n",
              "      display: none;\n",
              "      fill: #1967D2;\n",
              "      height: 32px;\n",
              "      padding: 0 0 0 0;\n",
              "      width: 32px;\n",
              "    }\n",
              "\n",
              "    .colab-df-convert:hover {\n",
              "      background-color: #E2EBFA;\n",
              "      box-shadow: 0px 1px 2px rgba(60, 64, 67, 0.3), 0px 1px 3px 1px rgba(60, 64, 67, 0.15);\n",
              "      fill: #174EA6;\n",
              "    }\n",
              "\n",
              "    [theme=dark] .colab-df-convert {\n",
              "      background-color: #3B4455;\n",
              "      fill: #D2E3FC;\n",
              "    }\n",
              "\n",
              "    [theme=dark] .colab-df-convert:hover {\n",
              "      background-color: #434B5C;\n",
              "      box-shadow: 0px 1px 3px 1px rgba(0, 0, 0, 0.15);\n",
              "      filter: drop-shadow(0px 1px 2px rgba(0, 0, 0, 0.3));\n",
              "      fill: #FFFFFF;\n",
              "    }\n",
              "  </style>\n",
              "\n",
              "      <script>\n",
              "        const buttonEl =\n",
              "          document.querySelector('#df-2f3c6c0f-8e1a-4b95-83d0-a4dfb37e7a73 button.colab-df-convert');\n",
              "        buttonEl.style.display =\n",
              "          google.colab.kernel.accessAllowed ? 'block' : 'none';\n",
              "\n",
              "        async function convertToInteractive(key) {\n",
              "          const element = document.querySelector('#df-2f3c6c0f-8e1a-4b95-83d0-a4dfb37e7a73');\n",
              "          const dataTable =\n",
              "            await google.colab.kernel.invokeFunction('convertToInteractive',\n",
              "                                                     [key], {});\n",
              "          if (!dataTable) return;\n",
              "\n",
              "          const docLinkHtml = 'Like what you see? Visit the ' +\n",
              "            '<a target=\"_blank\" href=https://colab.research.google.com/notebooks/data_table.ipynb>data table notebook</a>'\n",
              "            + ' to learn more about interactive tables.';\n",
              "          element.innerHTML = '';\n",
              "          dataTable['output_type'] = 'display_data';\n",
              "          await google.colab.output.renderOutput(dataTable, element);\n",
              "          const docLink = document.createElement('div');\n",
              "          docLink.innerHTML = docLinkHtml;\n",
              "          element.appendChild(docLink);\n",
              "        }\n",
              "      </script>\n",
              "    </div>\n",
              "  </div>\n",
              "  "
            ]
          },
          "metadata": {},
          "execution_count": 5
        }
      ]
    },
    {
      "cell_type": "code",
      "source": [
        "df.info()"
      ],
      "metadata": {
        "colab": {
          "base_uri": "https://localhost:8080/"
        },
        "id": "pPFKykOEEf0C",
        "outputId": "eb5cc372-edde-4578-c603-36e3c08638e0"
      },
      "execution_count": 6,
      "outputs": [
        {
          "output_type": "stream",
          "name": "stdout",
          "text": [
            "<class 'pandas.core.frame.DataFrame'>\n",
            "RangeIndex: 388 entries, 0 to 387\n",
            "Data columns (total 13 columns):\n",
            " #   Column                      Non-Null Count  Dtype  \n",
            "---  ------                      --------------  -----  \n",
            " 0   Age                         388 non-null    int64  \n",
            " 1   Gender                      388 non-null    object \n",
            " 2   Marital Status              388 non-null    object \n",
            " 3   Occupation                  388 non-null    object \n",
            " 4   Monthly Income              388 non-null    object \n",
            " 5   Educational Qualifications  388 non-null    object \n",
            " 6   Family size                 388 non-null    int64  \n",
            " 7   latitude                    388 non-null    float64\n",
            " 8   longitude                   388 non-null    float64\n",
            " 9   Pin code                    388 non-null    int64  \n",
            " 10  Output                      388 non-null    object \n",
            " 11  Feedback                    388 non-null    object \n",
            " 12  Unnamed: 18                 388 non-null    object \n",
            "dtypes: float64(2), int64(3), object(8)\n",
            "memory usage: 39.5+ KB\n"
          ]
        }
      ]
    },
    {
      "cell_type": "code",
      "source": [
        "df.isna().sum()"
      ],
      "metadata": {
        "colab": {
          "base_uri": "https://localhost:8080/"
        },
        "id": "YHXAuEL2EpwX",
        "outputId": "3a46e17d-2a78-4245-9c6d-230765bec6fb"
      },
      "execution_count": 7,
      "outputs": [
        {
          "output_type": "execute_result",
          "data": {
            "text/plain": [
              "Age                           0\n",
              "Gender                        0\n",
              "Marital Status                0\n",
              "Occupation                    0\n",
              "Monthly Income                0\n",
              "Educational Qualifications    0\n",
              "Family size                   0\n",
              "latitude                      0\n",
              "longitude                     0\n",
              "Pin code                      0\n",
              "Output                        0\n",
              "Feedback                      0\n",
              "Unnamed: 18                   0\n",
              "dtype: int64"
            ]
          },
          "metadata": {},
          "execution_count": 7
        }
      ]
    },
    {
      "cell_type": "markdown",
      "source": [
        "**For thorough inspection of the data i am going to use tableau for visiualization**\n"
      ],
      "metadata": {
        "id": "aAETLNFiFoam"
      }
    },
    {
      "cell_type": "markdown",
      "source": [
        "![image.png](data:image/png;base64,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)"
      ],
      "metadata": {
        "id": "CJFLIpOZalHl"
      }
    },
    {
      "cell_type": "markdown",
      "source": [
        "### **Observation**"
      ],
      "metadata": {
        "id": "vEk2IjHhXcsV"
      }
    },
    {
      "cell_type": "markdown",
      "source": [
        "**Online Food Order Decisions Based on the Age of the Customer** -- We can see that the age group of 22-25 ordered the food often again. It also means this age group is the target of online food delivery companies.\n",
        "\n",
        "**Online Food Order Decisions Based on the Size of the Family** -- Families with 2 and 3 members are ordering food often. These can be roommates, couples, or a family of three.\n",
        "\n",
        "**Who Orders Food Online More: Male Vs. Female** -- male customers are ordering more compared the females\n",
        "\n",
        "**Who Orders Food Online More: Married Vs. Singles** -- According to the above figure, 76.1% of the frequent customers are singles.\n",
        "\n",
        "**Which Income Group Orders Food Online More** -- According to the above figure, 54% of the customers don’t fall under any income group. They can be housewives or students."
      ],
      "metadata": {
        "id": "ocyTph7SXmYG"
      }
    },
    {
      "cell_type": "code",
      "source": [
        "df.info()"
      ],
      "metadata": {
        "colab": {
          "base_uri": "https://localhost:8080/"
        },
        "id": "Apm5TRdga8s4",
        "outputId": "8930d243-90a0-4e6c-f545-6f4ba5d0d093"
      },
      "execution_count": 8,
      "outputs": [
        {
          "output_type": "stream",
          "name": "stdout",
          "text": [
            "<class 'pandas.core.frame.DataFrame'>\n",
            "RangeIndex: 388 entries, 0 to 387\n",
            "Data columns (total 13 columns):\n",
            " #   Column                      Non-Null Count  Dtype  \n",
            "---  ------                      --------------  -----  \n",
            " 0   Age                         388 non-null    int64  \n",
            " 1   Gender                      388 non-null    object \n",
            " 2   Marital Status              388 non-null    object \n",
            " 3   Occupation                  388 non-null    object \n",
            " 4   Monthly Income              388 non-null    object \n",
            " 5   Educational Qualifications  388 non-null    object \n",
            " 6   Family size                 388 non-null    int64  \n",
            " 7   latitude                    388 non-null    float64\n",
            " 8   longitude                   388 non-null    float64\n",
            " 9   Pin code                    388 non-null    int64  \n",
            " 10  Output                      388 non-null    object \n",
            " 11  Feedback                    388 non-null    object \n",
            " 12  Unnamed: 18                 388 non-null    object \n",
            "dtypes: float64(2), int64(3), object(8)\n",
            "memory usage: 39.5+ KB\n"
          ]
        }
      ]
    },
    {
      "cell_type": "code",
      "source": [
        "df['Gender'].value_counts()"
      ],
      "metadata": {
        "colab": {
          "base_uri": "https://localhost:8080/"
        },
        "id": "Etq5w374bEfv",
        "outputId": "4be2f829-5164-410a-ac66-e01d20e3a196"
      },
      "execution_count": 9,
      "outputs": [
        {
          "output_type": "execute_result",
          "data": {
            "text/plain": [
              "Male      222\n",
              "Female    166\n",
              "Name: Gender, dtype: int64"
            ]
          },
          "metadata": {},
          "execution_count": 9
        }
      ]
    },
    {
      "cell_type": "code",
      "source": [
        "df['Gender'].replace(['Female', 'Male'],[0,1],inplace=True)"
      ],
      "metadata": {
        "id": "4K4m_1TEbJ-O"
      },
      "execution_count": 10,
      "outputs": []
    },
    {
      "cell_type": "code",
      "source": [
        "df['Gender'].value_counts()"
      ],
      "metadata": {
        "colab": {
          "base_uri": "https://localhost:8080/"
        },
        "id": "i7L4gEZ7bkru",
        "outputId": "c748269e-a542-4ea9-ef16-056fdfd72f79"
      },
      "execution_count": 11,
      "outputs": [
        {
          "output_type": "execute_result",
          "data": {
            "text/plain": [
              "1    222\n",
              "0    166\n",
              "Name: Gender, dtype: int64"
            ]
          },
          "metadata": {},
          "execution_count": 11
        }
      ]
    },
    {
      "cell_type": "code",
      "source": [
        "df['Marital Status'].value_counts()"
      ],
      "metadata": {
        "colab": {
          "base_uri": "https://localhost:8080/"
        },
        "id": "eHkZIxZldVjM",
        "outputId": "c638364f-f044-42f6-baee-62aad714c3a2"
      },
      "execution_count": 12,
      "outputs": [
        {
          "output_type": "execute_result",
          "data": {
            "text/plain": [
              "Single               268\n",
              "Married              108\n",
              "Prefer not to say     12\n",
              "Name: Marital Status, dtype: int64"
            ]
          },
          "metadata": {},
          "execution_count": 12
        }
      ]
    },
    {
      "cell_type": "code",
      "source": [
        "df['Marital Status'].replace(['Single','Married','Prefer not to say'],[1,2,0],inplace=True)"
      ],
      "metadata": {
        "id": "UymxuB9RdcBE"
      },
      "execution_count": 13,
      "outputs": []
    },
    {
      "cell_type": "code",
      "source": [
        "df['Marital Status'].value_counts()"
      ],
      "metadata": {
        "colab": {
          "base_uri": "https://localhost:8080/"
        },
        "id": "Wpz6Tsaud1Z6",
        "outputId": "0f35b497-bd4d-41d1-e218-f0ee5b84c27b"
      },
      "execution_count": 14,
      "outputs": [
        {
          "output_type": "execute_result",
          "data": {
            "text/plain": [
              "1    268\n",
              "2    108\n",
              "0     12\n",
              "Name: Marital Status, dtype: int64"
            ]
          },
          "metadata": {},
          "execution_count": 14
        }
      ]
    },
    {
      "cell_type": "code",
      "source": [
        "df['Occupation'].value_counts()"
      ],
      "metadata": {
        "colab": {
          "base_uri": "https://localhost:8080/"
        },
        "id": "xfu6HEEqd4qB",
        "outputId": "52d7748a-bd18-45e5-cf20-4f0bcca751dd"
      },
      "execution_count": 15,
      "outputs": [
        {
          "output_type": "execute_result",
          "data": {
            "text/plain": [
              "Student           207\n",
              "Employee          118\n",
              "Self Employeed     54\n",
              "House wife          9\n",
              "Name: Occupation, dtype: int64"
            ]
          },
          "metadata": {},
          "execution_count": 15
        }
      ]
    },
    {
      "cell_type": "code",
      "source": [
        "df['Occupation'].replace(['Student','Employee','Self Employeed','House wife'],[1,2,3,4],inplace=True)"
      ],
      "metadata": {
        "id": "8YlKvg1pd_Lw"
      },
      "execution_count": 16,
      "outputs": []
    },
    {
      "cell_type": "code",
      "source": [
        "df['Occupation'].value_counts()"
      ],
      "metadata": {
        "colab": {
          "base_uri": "https://localhost:8080/"
        },
        "id": "nkuZa3eUeRqi",
        "outputId": "790fdb26-1b4f-4503-982b-6b5c0bda9698"
      },
      "execution_count": 17,
      "outputs": [
        {
          "output_type": "execute_result",
          "data": {
            "text/plain": [
              "1    207\n",
              "2    118\n",
              "3     54\n",
              "4      9\n",
              "Name: Occupation, dtype: int64"
            ]
          },
          "metadata": {},
          "execution_count": 17
        }
      ]
    },
    {
      "cell_type": "code",
      "source": [
        "df['Monthly Income'].value_counts()"
      ],
      "metadata": {
        "colab": {
          "base_uri": "https://localhost:8080/"
        },
        "id": "zvqvfCP3edWH",
        "outputId": "b540e3c3-fde3-4b3b-d281-ca34c5e146bd"
      },
      "execution_count": 18,
      "outputs": [
        {
          "output_type": "execute_result",
          "data": {
            "text/plain": [
              "No Income          187\n",
              "25001 to 50000      69\n",
              "More than 50000     62\n",
              "10001 to 25000      45\n",
              "Below Rs.10000      25\n",
              "Name: Monthly Income, dtype: int64"
            ]
          },
          "metadata": {},
          "execution_count": 18
        }
      ]
    },
    {
      "cell_type": "code",
      "source": [
        "df['Monthly Income'].replace(['No Income','25001 to 50000','More than 50000','10001 to 25000','Below Rs.10000'],[0,5000,7000,25000,10000],inplace=True)"
      ],
      "metadata": {
        "id": "Ss7DfMC9eiex"
      },
      "execution_count": 19,
      "outputs": []
    },
    {
      "cell_type": "code",
      "source": [
        "df['Monthly Income'].value_counts()"
      ],
      "metadata": {
        "colab": {
          "base_uri": "https://localhost:8080/"
        },
        "id": "rN4MM8_Nfexg",
        "outputId": "675a63a9-6574-40cd-cc7c-63c191cedbc1"
      },
      "execution_count": 20,
      "outputs": [
        {
          "output_type": "execute_result",
          "data": {
            "text/plain": [
              "0        187\n",
              "5000      69\n",
              "7000      62\n",
              "25000     45\n",
              "10000     25\n",
              "Name: Monthly Income, dtype: int64"
            ]
          },
          "metadata": {},
          "execution_count": 20
        }
      ]
    },
    {
      "cell_type": "code",
      "source": [
        "df['Educational Qualifications'].value_counts()"
      ],
      "metadata": {
        "colab": {
          "base_uri": "https://localhost:8080/"
        },
        "id": "Q00Nvx2mfsU0",
        "outputId": "a90de964-2db7-466c-cbcb-d8d874cc0404"
      },
      "execution_count": 21,
      "outputs": [
        {
          "output_type": "execute_result",
          "data": {
            "text/plain": [
              "Graduate         177\n",
              "Post Graduate    174\n",
              "Ph.D              23\n",
              "School            12\n",
              "Uneducated         2\n",
              "Name: Educational Qualifications, dtype: int64"
            ]
          },
          "metadata": {},
          "execution_count": 21
        }
      ]
    },
    {
      "cell_type": "code",
      "source": [
        "df['Educational Qualifications'].replace(['Graduate','Post Graduate','Ph.D','School','Uneducated'],[1,2,3,4,5],inplace=True)"
      ],
      "metadata": {
        "id": "ceht1VtAf_Dd"
      },
      "execution_count": 22,
      "outputs": []
    },
    {
      "cell_type": "code",
      "source": [
        "df['Educational Qualifications'].value_counts()"
      ],
      "metadata": {
        "colab": {
          "base_uri": "https://localhost:8080/"
        },
        "id": "5bBwztFzgi20",
        "outputId": "7775e54a-8293-4648-8ebe-7bec740910d5"
      },
      "execution_count": 23,
      "outputs": [
        {
          "output_type": "execute_result",
          "data": {
            "text/plain": [
              "1    177\n",
              "2    174\n",
              "3     23\n",
              "4     12\n",
              "5      2\n",
              "Name: Educational Qualifications, dtype: int64"
            ]
          },
          "metadata": {},
          "execution_count": 23
        }
      ]
    },
    {
      "cell_type": "code",
      "source": [
        "df['Feedback'].value_counts()"
      ],
      "metadata": {
        "colab": {
          "base_uri": "https://localhost:8080/"
        },
        "id": "OFEFD3H8gkJt",
        "outputId": "05ce02d8-8ede-4e86-8728-19ec0a914e59"
      },
      "execution_count": 24,
      "outputs": [
        {
          "output_type": "execute_result",
          "data": {
            "text/plain": [
              "Positive     317\n",
              "Negative      71\n",
              "Name: Feedback, dtype: int64"
            ]
          },
          "metadata": {},
          "execution_count": 24
        }
      ]
    },
    {
      "cell_type": "code",
      "source": [
        "df['Feedback'].replace(['Positive','Negative '],[1,0],inplace=True)"
      ],
      "metadata": {
        "id": "cvcyg6ZUhTIf"
      },
      "execution_count": 30,
      "outputs": []
    },
    {
      "cell_type": "code",
      "source": [
        "df['Feedback'].value_counts()"
      ],
      "metadata": {
        "colab": {
          "base_uri": "https://localhost:8080/"
        },
        "id": "i_JVbyAeg1fR",
        "outputId": "c437a21d-b188-489e-f931-eeb287be2bb5"
      },
      "execution_count": 31,
      "outputs": [
        {
          "output_type": "execute_result",
          "data": {
            "text/plain": [
              "1    317\n",
              "0     71\n",
              "Name: Feedback, dtype: int64"
            ]
          },
          "metadata": {},
          "execution_count": 31
        }
      ]
    },
    {
      "cell_type": "code",
      "source": [
        "df.info()"
      ],
      "metadata": {
        "colab": {
          "base_uri": "https://localhost:8080/"
        },
        "id": "ST_qvF7Mh09k",
        "outputId": "5618bf99-09ad-4bae-8cfd-4c294873d75b"
      },
      "execution_count": 32,
      "outputs": [
        {
          "output_type": "stream",
          "name": "stdout",
          "text": [
            "<class 'pandas.core.frame.DataFrame'>\n",
            "RangeIndex: 388 entries, 0 to 387\n",
            "Data columns (total 13 columns):\n",
            " #   Column                      Non-Null Count  Dtype  \n",
            "---  ------                      --------------  -----  \n",
            " 0   Age                         388 non-null    int64  \n",
            " 1   Gender                      388 non-null    int64  \n",
            " 2   Marital Status              388 non-null    int64  \n",
            " 3   Occupation                  388 non-null    int64  \n",
            " 4   Monthly Income              388 non-null    int64  \n",
            " 5   Educational Qualifications  388 non-null    int64  \n",
            " 6   Family size                 388 non-null    int64  \n",
            " 7   latitude                    388 non-null    float64\n",
            " 8   longitude                   388 non-null    float64\n",
            " 9   Pin code                    388 non-null    int64  \n",
            " 10  Output                      388 non-null    object \n",
            " 11  Feedback                    388 non-null    int64  \n",
            " 12  Unnamed: 18                 388 non-null    object \n",
            "dtypes: float64(2), int64(9), object(2)\n",
            "memory usage: 39.5+ KB\n"
          ]
        }
      ]
    },
    {
      "cell_type": "markdown",
      "source": [
        "### **Online Food Order Prediction Model**"
      ],
      "metadata": {
        "id": "oKfGhFG4h6mG"
      }
    },
    {
      "cell_type": "code",
      "source": [
        "x = np.array(df[[\"Age\", \"Gender\", \"Marital Status\", \"Occupation\",\"Monthly Income\", \"Educational Qualifications\",\"Family size\", \"Pin code\", \"Feedback\"]])\n",
        "y = np.array(df[[\"Output\"]])"
      ],
      "metadata": {
        "id": "b_jAJ40PiG8V"
      },
      "execution_count": 34,
      "outputs": []
    },
    {
      "cell_type": "code",
      "source": [
        "from sklearn.model_selection import train_test_split\n",
        "X_train, X_test, y_train, y_test = train_test_split(x, y, test_size=0.3, random_state=1)"
      ],
      "metadata": {
        "id": "br3BpeqQiziv"
      },
      "execution_count": 35,
      "outputs": []
    },
    {
      "cell_type": "code",
      "source": [
        "from sklearn.ensemble import RandomForestClassifier\n",
        "rf_classifier = RandomForestClassifier(n_estimators = 500, criterion='entropy',random_state=0)"
      ],
      "metadata": {
        "id": "aZPDHlpzIFu5"
      },
      "execution_count": 36,
      "outputs": []
    },
    {
      "cell_type": "code",
      "source": [
        "rf_classifier.fit(X_train,y_train)"
      ],
      "metadata": {
        "colab": {
          "base_uri": "https://localhost:8080/",
          "height": 129
        },
        "id": "bWQVqX5yIcy4",
        "outputId": "5026fda2-906d-4604-8d39-5ae226396310"
      },
      "execution_count": 37,
      "outputs": [
        {
          "output_type": "stream",
          "name": "stderr",
          "text": [
            "<ipython-input-37-e6fcf1fcaf3b>:1: DataConversionWarning: A column-vector y was passed when a 1d array was expected. Please change the shape of y to (n_samples,), for example using ravel().\n",
            "  rf_classifier.fit(X_train,y_train)\n"
          ]
        },
        {
          "output_type": "execute_result",
          "data": {
            "text/plain": [
              "RandomForestClassifier(criterion='entropy', n_estimators=500, random_state=0)"
            ],
            "text/html": [
              "<style>#sk-container-id-1 {color: black;background-color: white;}#sk-container-id-1 pre{padding: 0;}#sk-container-id-1 div.sk-toggleable {background-color: white;}#sk-container-id-1 label.sk-toggleable__label {cursor: pointer;display: block;width: 100%;margin-bottom: 0;padding: 0.3em;box-sizing: border-box;text-align: center;}#sk-container-id-1 label.sk-toggleable__label-arrow:before {content: \"▸\";float: left;margin-right: 0.25em;color: #696969;}#sk-container-id-1 label.sk-toggleable__label-arrow:hover:before {color: black;}#sk-container-id-1 div.sk-estimator:hover label.sk-toggleable__label-arrow:before {color: black;}#sk-container-id-1 div.sk-toggleable__content {max-height: 0;max-width: 0;overflow: hidden;text-align: left;background-color: #f0f8ff;}#sk-container-id-1 div.sk-toggleable__content pre {margin: 0.2em;color: black;border-radius: 0.25em;background-color: #f0f8ff;}#sk-container-id-1 input.sk-toggleable__control:checked~div.sk-toggleable__content {max-height: 200px;max-width: 100%;overflow: auto;}#sk-container-id-1 input.sk-toggleable__control:checked~label.sk-toggleable__label-arrow:before {content: \"▾\";}#sk-container-id-1 div.sk-estimator input.sk-toggleable__control:checked~label.sk-toggleable__label {background-color: #d4ebff;}#sk-container-id-1 div.sk-label input.sk-toggleable__control:checked~label.sk-toggleable__label {background-color: #d4ebff;}#sk-container-id-1 input.sk-hidden--visually {border: 0;clip: rect(1px 1px 1px 1px);clip: rect(1px, 1px, 1px, 1px);height: 1px;margin: -1px;overflow: hidden;padding: 0;position: absolute;width: 1px;}#sk-container-id-1 div.sk-estimator {font-family: monospace;background-color: #f0f8ff;border: 1px dotted black;border-radius: 0.25em;box-sizing: border-box;margin-bottom: 0.5em;}#sk-container-id-1 div.sk-estimator:hover {background-color: #d4ebff;}#sk-container-id-1 div.sk-parallel-item::after {content: \"\";width: 100%;border-bottom: 1px solid gray;flex-grow: 1;}#sk-container-id-1 div.sk-label:hover label.sk-toggleable__label {background-color: #d4ebff;}#sk-container-id-1 div.sk-serial::before {content: \"\";position: absolute;border-left: 1px solid gray;box-sizing: border-box;top: 0;bottom: 0;left: 50%;z-index: 0;}#sk-container-id-1 div.sk-serial {display: flex;flex-direction: column;align-items: center;background-color: white;padding-right: 0.2em;padding-left: 0.2em;position: relative;}#sk-container-id-1 div.sk-item {position: relative;z-index: 1;}#sk-container-id-1 div.sk-parallel {display: flex;align-items: stretch;justify-content: center;background-color: white;position: relative;}#sk-container-id-1 div.sk-item::before, #sk-container-id-1 div.sk-parallel-item::before {content: \"\";position: absolute;border-left: 1px solid gray;box-sizing: border-box;top: 0;bottom: 0;left: 50%;z-index: -1;}#sk-container-id-1 div.sk-parallel-item {display: flex;flex-direction: column;z-index: 1;position: relative;background-color: white;}#sk-container-id-1 div.sk-parallel-item:first-child::after {align-self: flex-end;width: 50%;}#sk-container-id-1 div.sk-parallel-item:last-child::after {align-self: flex-start;width: 50%;}#sk-container-id-1 div.sk-parallel-item:only-child::after {width: 0;}#sk-container-id-1 div.sk-dashed-wrapped {border: 1px dashed gray;margin: 0 0.4em 0.5em 0.4em;box-sizing: border-box;padding-bottom: 0.4em;background-color: white;}#sk-container-id-1 div.sk-label label {font-family: monospace;font-weight: bold;display: inline-block;line-height: 1.2em;}#sk-container-id-1 div.sk-label-container {text-align: center;}#sk-container-id-1 div.sk-container {/* jupyter's `normalize.less` sets `[hidden] { display: none; }` but bootstrap.min.css set `[hidden] { display: none !important; }` so we also need the `!important` here to be able to override the default hidden behavior on the sphinx rendered scikit-learn.org. See: https://github.com/scikit-learn/scikit-learn/issues/21755 */display: inline-block !important;position: relative;}#sk-container-id-1 div.sk-text-repr-fallback {display: none;}</style><div id=\"sk-container-id-1\" class=\"sk-top-container\"><div class=\"sk-text-repr-fallback\"><pre>RandomForestClassifier(criterion=&#x27;entropy&#x27;, n_estimators=500, random_state=0)</pre><b>In a Jupyter environment, please rerun this cell to show the HTML representation or trust the notebook. <br />On GitHub, the HTML representation is unable to render, please try loading this page with nbviewer.org.</b></div><div class=\"sk-container\" hidden><div class=\"sk-item\"><div class=\"sk-estimator sk-toggleable\"><input class=\"sk-toggleable__control sk-hidden--visually\" id=\"sk-estimator-id-1\" type=\"checkbox\" checked><label for=\"sk-estimator-id-1\" class=\"sk-toggleable__label sk-toggleable__label-arrow\">RandomForestClassifier</label><div class=\"sk-toggleable__content\"><pre>RandomForestClassifier(criterion=&#x27;entropy&#x27;, n_estimators=500, random_state=0)</pre></div></div></div></div></div>"
            ]
          },
          "metadata": {},
          "execution_count": 37
        }
      ]
    },
    {
      "cell_type": "code",
      "source": [
        "y_pred = rf_classifier.predict(X_test)"
      ],
      "metadata": {
        "id": "T_SHlvw7IlIt"
      },
      "execution_count": 38,
      "outputs": []
    },
    {
      "cell_type": "code",
      "source": [
        "from sklearn.metrics import accuracy_score\n",
        "accuracy_score(y_test, y_pred)"
      ],
      "metadata": {
        "colab": {
          "base_uri": "https://localhost:8080/"
        },
        "id": "B_Xd133ljdPm",
        "outputId": "3a48fc6f-d01f-40b5-c349-c9ea060c5b82"
      },
      "execution_count": 39,
      "outputs": [
        {
          "output_type": "execute_result",
          "data": {
            "text/plain": [
              "0.8888888888888888"
            ]
          },
          "metadata": {},
          "execution_count": 39
        }
      ]
    },
    {
      "cell_type": "markdown",
      "source": [
        "### **Now let’s prepare a form to input the data of the customer and predict whether the customer will order the food again or not:**"
      ],
      "metadata": {
        "id": "v7uZ2Jcgjjs9"
      }
    },
    {
      "cell_type": "code",
      "source": [
        "print(\"Enter Customer Details to Predict If the Customer Will Order Again\")\n",
        "a = int(input(\"Enter the Age of the Customer: \"))\n",
        "b = int(input(\"Enter the Gender of the Customer (1 = Male, 0 = Female): \"))\n",
        "c = int(input(\"Marital Status of the Customer (1 = Single, 2 = Married, 3 = Not Revealed): \"))\n",
        "d = int(input(\"Occupation of the Customer (Student = 1, Employee = 2, Self Employeed = 3, House wife = 4): \"))\n",
        "e = int(input(\"Monthly Income: \"))\n",
        "f = int(input(\"Educational Qualification (Graduate = 1, Post Graduate = 2, Ph.D = 3, School = 4, Uneducated = 5): \"))\n",
        "g = int(input(\"Family Size: \"))\n",
        "h = int(input(\"Pin Code: \"))\n",
        "i = int(input(\"Review of the Last Order (1 = Positive, 0 = Negative): \"))\n",
        "features = np.array([[a, b, c, d, e, f, g, h, i]])\n",
        "print(\"Finding if the customer will order again: \", rf_classifier.predict(features))"
      ],
      "metadata": {
        "colab": {
          "base_uri": "https://localhost:8080/"
        },
        "id": "_i9f5asdjne4",
        "outputId": "1c2f4ce2-4259-4ac2-e68e-3cd1a0942021"
      },
      "execution_count": 43,
      "outputs": [
        {
          "output_type": "stream",
          "name": "stdout",
          "text": [
            "Enter Customer Details to Predict If the Customer Will Order Again\n",
            "Enter the Age of the Customer: 21\n",
            "Enter the Gender of the Customer (1 = Male, 0 = Female): 1\n",
            "Marital Status of the Customer (1 = Single, 2 = Married, 3 = Not Revealed): 1\n",
            "Occupation of the Customer (Student = 1, Employee = 2, Self Employeed = 3, House wife = 4): 2\n",
            "Monthly Income: 40000\n",
            "Educational Qualification (Graduate = 1, Post Graduate = 2, Ph.D = 3, School = 4, Uneducated = 5): 1\n",
            "Family Size: 4\n",
            "Pin Code: 500061\n",
            "Review of the Last Order (1 = Positive, 0 = Negative): 1\n",
            "Finding if the customer will order again:  ['Yes']\n"
          ]
        }
      ]
    },
    {
      "cell_type": "markdown",
      "source": [
        "# **Summary**\n",
        "\n",
        "So this is how you can predict whether a customer will order food online again or not. The food order prediction system is one of the useful techniques food delivery companies can use to make the entire delivery process fast."
      ],
      "metadata": {
        "id": "4041xCEIksGC"
      }
    }
  ]
}