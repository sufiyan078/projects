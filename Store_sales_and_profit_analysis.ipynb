{
  "nbformat": 4,
  "nbformat_minor": 0,
  "metadata": {
    "colab": {
      "provenance": []
    },
    "kernelspec": {
      "name": "python3",
      "display_name": "Python 3"
    },
    "language_info": {
      "name": "python"
    }
  },
  "cells": [
    {
      "cell_type": "code",
      "execution_count": 1,
      "metadata": {
        "id": "PHhc4J_N4f1x"
      },
      "outputs": [],
      "source": [
        "import numpy as np\n",
        "import pandas as pd"
      ]
    },
    {
      "cell_type": "code",
      "source": [
        "df=pd.read_excel('/content/Sample - Superstore.xls')"
      ],
      "metadata": {
        "id": "AJL_ITkm9Zgw"
      },
      "execution_count": 2,
      "outputs": []
    },
    {
      "cell_type": "code",
      "source": [
        "df"
      ],
      "metadata": {
        "colab": {
          "base_uri": "https://localhost:8080/",
          "height": 1000
        },
        "id": "-GNe6b_j9ran",
        "outputId": "bb6f8a76-1f5c-473c-ff61-fc4ff6394d79"
      },
      "execution_count": 3,
      "outputs": [
        {
          "output_type": "execute_result",
          "data": {
            "text/plain": [
              "      Row ID        Order ID Order Date  Ship Date       Ship Mode  \\\n",
              "0          1  CA-2016-152156 2016-11-08 2016-11-11    Second Class   \n",
              "1          2  CA-2016-152156 2016-11-08 2016-11-11    Second Class   \n",
              "2          3  CA-2016-138688 2016-06-12 2016-06-16    Second Class   \n",
              "3          4  US-2015-108966 2015-10-11 2015-10-18  Standard Class   \n",
              "4          5  US-2015-108966 2015-10-11 2015-10-18  Standard Class   \n",
              "...      ...             ...        ...        ...             ...   \n",
              "9989    9990  CA-2014-110422 2014-01-21 2014-01-23    Second Class   \n",
              "9990    9991  CA-2017-121258 2017-02-26 2017-03-03  Standard Class   \n",
              "9991    9992  CA-2017-121258 2017-02-26 2017-03-03  Standard Class   \n",
              "9992    9993  CA-2017-121258 2017-02-26 2017-03-03  Standard Class   \n",
              "9993    9994  CA-2017-119914 2017-05-04 2017-05-09    Second Class   \n",
              "\n",
              "     Customer ID     Customer Name    Segment        Country             City  \\\n",
              "0       CG-12520       Claire Gute   Consumer  United States        Henderson   \n",
              "1       CG-12520       Claire Gute   Consumer  United States        Henderson   \n",
              "2       DV-13045   Darrin Van Huff  Corporate  United States      Los Angeles   \n",
              "3       SO-20335    Sean O'Donnell   Consumer  United States  Fort Lauderdale   \n",
              "4       SO-20335    Sean O'Donnell   Consumer  United States  Fort Lauderdale   \n",
              "...          ...               ...        ...            ...              ...   \n",
              "9989    TB-21400  Tom Boeckenhauer   Consumer  United States            Miami   \n",
              "9990    DB-13060       Dave Brooks   Consumer  United States       Costa Mesa   \n",
              "9991    DB-13060       Dave Brooks   Consumer  United States       Costa Mesa   \n",
              "9992    DB-13060       Dave Brooks   Consumer  United States       Costa Mesa   \n",
              "9993    CC-12220      Chris Cortes   Consumer  United States      Westminster   \n",
              "\n",
              "      ... Postal Code  Region       Product ID         Category Sub-Category  \\\n",
              "0     ...       42420   South  FUR-BO-10001798        Furniture    Bookcases   \n",
              "1     ...       42420   South  FUR-CH-10000454        Furniture       Chairs   \n",
              "2     ...       90036    West  OFF-LA-10000240  Office Supplies       Labels   \n",
              "3     ...       33311   South  FUR-TA-10000577        Furniture       Tables   \n",
              "4     ...       33311   South  OFF-ST-10000760  Office Supplies      Storage   \n",
              "...   ...         ...     ...              ...              ...          ...   \n",
              "9989  ...       33180   South  FUR-FU-10001889        Furniture  Furnishings   \n",
              "9990  ...       92627    West  FUR-FU-10000747        Furniture  Furnishings   \n",
              "9991  ...       92627    West  TEC-PH-10003645       Technology       Phones   \n",
              "9992  ...       92627    West  OFF-PA-10004041  Office Supplies        Paper   \n",
              "9993  ...       92683    West  OFF-AP-10002684  Office Supplies   Appliances   \n",
              "\n",
              "                                           Product Name     Sales  Quantity  \\\n",
              "0                     Bush Somerset Collection Bookcase  261.9600         2   \n",
              "1     Hon Deluxe Fabric Upholstered Stacking Chairs,...  731.9400         3   \n",
              "2     Self-Adhesive Address Labels for Typewriters b...   14.6200         2   \n",
              "3         Bretford CR4500 Series Slim Rectangular Table  957.5775         5   \n",
              "4                        Eldon Fold 'N Roll Cart System   22.3680         2   \n",
              "...                                                 ...       ...       ...   \n",
              "9989                             Ultra Door Pull Handle   25.2480         3   \n",
              "9990  Tenex B1-RE Series Chair Mats for Low Pile Car...   91.9600         2   \n",
              "9991                              Aastra 57i VoIP phone  258.5760         2   \n",
              "9992  It's Hot Message Books with Stickers, 2 3/4\" x 5\"   29.6000         4   \n",
              "9993  Acco 7-Outlet Masterpiece Power Center, Wihtou...  243.1600         2   \n",
              "\n",
              "      Discount    Profit  \n",
              "0         0.00   41.9136  \n",
              "1         0.00  219.5820  \n",
              "2         0.00    6.8714  \n",
              "3         0.45 -383.0310  \n",
              "4         0.20    2.5164  \n",
              "...        ...       ...  \n",
              "9989      0.20    4.1028  \n",
              "9990      0.00   15.6332  \n",
              "9991      0.20   19.3932  \n",
              "9992      0.00   13.3200  \n",
              "9993      0.00   72.9480  \n",
              "\n",
              "[9994 rows x 21 columns]"
            ],
            "text/html": [
              "\n",
              "  <div id=\"df-6182724e-1235-4876-b395-3e80ca13b5fc\">\n",
              "    <div class=\"colab-df-container\">\n",
              "      <div>\n",
              "<style scoped>\n",
              "    .dataframe tbody tr th:only-of-type {\n",
              "        vertical-align: middle;\n",
              "    }\n",
              "\n",
              "    .dataframe tbody tr th {\n",
              "        vertical-align: top;\n",
              "    }\n",
              "\n",
              "    .dataframe thead th {\n",
              "        text-align: right;\n",
              "    }\n",
              "</style>\n",
              "<table border=\"1\" class=\"dataframe\">\n",
              "  <thead>\n",
              "    <tr style=\"text-align: right;\">\n",
              "      <th></th>\n",
              "      <th>Row ID</th>\n",
              "      <th>Order ID</th>\n",
              "      <th>Order Date</th>\n",
              "      <th>Ship Date</th>\n",
              "      <th>Ship Mode</th>\n",
              "      <th>Customer ID</th>\n",
              "      <th>Customer Name</th>\n",
              "      <th>Segment</th>\n",
              "      <th>Country</th>\n",
              "      <th>City</th>\n",
              "      <th>...</th>\n",
              "      <th>Postal Code</th>\n",
              "      <th>Region</th>\n",
              "      <th>Product ID</th>\n",
              "      <th>Category</th>\n",
              "      <th>Sub-Category</th>\n",
              "      <th>Product Name</th>\n",
              "      <th>Sales</th>\n",
              "      <th>Quantity</th>\n",
              "      <th>Discount</th>\n",
              "      <th>Profit</th>\n",
              "    </tr>\n",
              "  </thead>\n",
              "  <tbody>\n",
              "    <tr>\n",
              "      <th>0</th>\n",
              "      <td>1</td>\n",
              "      <td>CA-2016-152156</td>\n",
              "      <td>2016-11-08</td>\n",
              "      <td>2016-11-11</td>\n",
              "      <td>Second Class</td>\n",
              "      <td>CG-12520</td>\n",
              "      <td>Claire Gute</td>\n",
              "      <td>Consumer</td>\n",
              "      <td>United States</td>\n",
              "      <td>Henderson</td>\n",
              "      <td>...</td>\n",
              "      <td>42420</td>\n",
              "      <td>South</td>\n",
              "      <td>FUR-BO-10001798</td>\n",
              "      <td>Furniture</td>\n",
              "      <td>Bookcases</td>\n",
              "      <td>Bush Somerset Collection Bookcase</td>\n",
              "      <td>261.9600</td>\n",
              "      <td>2</td>\n",
              "      <td>0.00</td>\n",
              "      <td>41.9136</td>\n",
              "    </tr>\n",
              "    <tr>\n",
              "      <th>1</th>\n",
              "      <td>2</td>\n",
              "      <td>CA-2016-152156</td>\n",
              "      <td>2016-11-08</td>\n",
              "      <td>2016-11-11</td>\n",
              "      <td>Second Class</td>\n",
              "      <td>CG-12520</td>\n",
              "      <td>Claire Gute</td>\n",
              "      <td>Consumer</td>\n",
              "      <td>United States</td>\n",
              "      <td>Henderson</td>\n",
              "      <td>...</td>\n",
              "      <td>42420</td>\n",
              "      <td>South</td>\n",
              "      <td>FUR-CH-10000454</td>\n",
              "      <td>Furniture</td>\n",
              "      <td>Chairs</td>\n",
              "      <td>Hon Deluxe Fabric Upholstered Stacking Chairs,...</td>\n",
              "      <td>731.9400</td>\n",
              "      <td>3</td>\n",
              "      <td>0.00</td>\n",
              "      <td>219.5820</td>\n",
              "    </tr>\n",
              "    <tr>\n",
              "      <th>2</th>\n",
              "      <td>3</td>\n",
              "      <td>CA-2016-138688</td>\n",
              "      <td>2016-06-12</td>\n",
              "      <td>2016-06-16</td>\n",
              "      <td>Second Class</td>\n",
              "      <td>DV-13045</td>\n",
              "      <td>Darrin Van Huff</td>\n",
              "      <td>Corporate</td>\n",
              "      <td>United States</td>\n",
              "      <td>Los Angeles</td>\n",
              "      <td>...</td>\n",
              "      <td>90036</td>\n",
              "      <td>West</td>\n",
              "      <td>OFF-LA-10000240</td>\n",
              "      <td>Office Supplies</td>\n",
              "      <td>Labels</td>\n",
              "      <td>Self-Adhesive Address Labels for Typewriters b...</td>\n",
              "      <td>14.6200</td>\n",
              "      <td>2</td>\n",
              "      <td>0.00</td>\n",
              "      <td>6.8714</td>\n",
              "    </tr>\n",
              "    <tr>\n",
              "      <th>3</th>\n",
              "      <td>4</td>\n",
              "      <td>US-2015-108966</td>\n",
              "      <td>2015-10-11</td>\n",
              "      <td>2015-10-18</td>\n",
              "      <td>Standard Class</td>\n",
              "      <td>SO-20335</td>\n",
              "      <td>Sean O'Donnell</td>\n",
              "      <td>Consumer</td>\n",
              "      <td>United States</td>\n",
              "      <td>Fort Lauderdale</td>\n",
              "      <td>...</td>\n",
              "      <td>33311</td>\n",
              "      <td>South</td>\n",
              "      <td>FUR-TA-10000577</td>\n",
              "      <td>Furniture</td>\n",
              "      <td>Tables</td>\n",
              "      <td>Bretford CR4500 Series Slim Rectangular Table</td>\n",
              "      <td>957.5775</td>\n",
              "      <td>5</td>\n",
              "      <td>0.45</td>\n",
              "      <td>-383.0310</td>\n",
              "    </tr>\n",
              "    <tr>\n",
              "      <th>4</th>\n",
              "      <td>5</td>\n",
              "      <td>US-2015-108966</td>\n",
              "      <td>2015-10-11</td>\n",
              "      <td>2015-10-18</td>\n",
              "      <td>Standard Class</td>\n",
              "      <td>SO-20335</td>\n",
              "      <td>Sean O'Donnell</td>\n",
              "      <td>Consumer</td>\n",
              "      <td>United States</td>\n",
              "      <td>Fort Lauderdale</td>\n",
              "      <td>...</td>\n",
              "      <td>33311</td>\n",
              "      <td>South</td>\n",
              "      <td>OFF-ST-10000760</td>\n",
              "      <td>Office Supplies</td>\n",
              "      <td>Storage</td>\n",
              "      <td>Eldon Fold 'N Roll Cart System</td>\n",
              "      <td>22.3680</td>\n",
              "      <td>2</td>\n",
              "      <td>0.20</td>\n",
              "      <td>2.5164</td>\n",
              "    </tr>\n",
              "    <tr>\n",
              "      <th>...</th>\n",
              "      <td>...</td>\n",
              "      <td>...</td>\n",
              "      <td>...</td>\n",
              "      <td>...</td>\n",
              "      <td>...</td>\n",
              "      <td>...</td>\n",
              "      <td>...</td>\n",
              "      <td>...</td>\n",
              "      <td>...</td>\n",
              "      <td>...</td>\n",
              "      <td>...</td>\n",
              "      <td>...</td>\n",
              "      <td>...</td>\n",
              "      <td>...</td>\n",
              "      <td>...</td>\n",
              "      <td>...</td>\n",
              "      <td>...</td>\n",
              "      <td>...</td>\n",
              "      <td>...</td>\n",
              "      <td>...</td>\n",
              "      <td>...</td>\n",
              "    </tr>\n",
              "    <tr>\n",
              "      <th>9989</th>\n",
              "      <td>9990</td>\n",
              "      <td>CA-2014-110422</td>\n",
              "      <td>2014-01-21</td>\n",
              "      <td>2014-01-23</td>\n",
              "      <td>Second Class</td>\n",
              "      <td>TB-21400</td>\n",
              "      <td>Tom Boeckenhauer</td>\n",
              "      <td>Consumer</td>\n",
              "      <td>United States</td>\n",
              "      <td>Miami</td>\n",
              "      <td>...</td>\n",
              "      <td>33180</td>\n",
              "      <td>South</td>\n",
              "      <td>FUR-FU-10001889</td>\n",
              "      <td>Furniture</td>\n",
              "      <td>Furnishings</td>\n",
              "      <td>Ultra Door Pull Handle</td>\n",
              "      <td>25.2480</td>\n",
              "      <td>3</td>\n",
              "      <td>0.20</td>\n",
              "      <td>4.1028</td>\n",
              "    </tr>\n",
              "    <tr>\n",
              "      <th>9990</th>\n",
              "      <td>9991</td>\n",
              "      <td>CA-2017-121258</td>\n",
              "      <td>2017-02-26</td>\n",
              "      <td>2017-03-03</td>\n",
              "      <td>Standard Class</td>\n",
              "      <td>DB-13060</td>\n",
              "      <td>Dave Brooks</td>\n",
              "      <td>Consumer</td>\n",
              "      <td>United States</td>\n",
              "      <td>Costa Mesa</td>\n",
              "      <td>...</td>\n",
              "      <td>92627</td>\n",
              "      <td>West</td>\n",
              "      <td>FUR-FU-10000747</td>\n",
              "      <td>Furniture</td>\n",
              "      <td>Furnishings</td>\n",
              "      <td>Tenex B1-RE Series Chair Mats for Low Pile Car...</td>\n",
              "      <td>91.9600</td>\n",
              "      <td>2</td>\n",
              "      <td>0.00</td>\n",
              "      <td>15.6332</td>\n",
              "    </tr>\n",
              "    <tr>\n",
              "      <th>9991</th>\n",
              "      <td>9992</td>\n",
              "      <td>CA-2017-121258</td>\n",
              "      <td>2017-02-26</td>\n",
              "      <td>2017-03-03</td>\n",
              "      <td>Standard Class</td>\n",
              "      <td>DB-13060</td>\n",
              "      <td>Dave Brooks</td>\n",
              "      <td>Consumer</td>\n",
              "      <td>United States</td>\n",
              "      <td>Costa Mesa</td>\n",
              "      <td>...</td>\n",
              "      <td>92627</td>\n",
              "      <td>West</td>\n",
              "      <td>TEC-PH-10003645</td>\n",
              "      <td>Technology</td>\n",
              "      <td>Phones</td>\n",
              "      <td>Aastra 57i VoIP phone</td>\n",
              "      <td>258.5760</td>\n",
              "      <td>2</td>\n",
              "      <td>0.20</td>\n",
              "      <td>19.3932</td>\n",
              "    </tr>\n",
              "    <tr>\n",
              "      <th>9992</th>\n",
              "      <td>9993</td>\n",
              "      <td>CA-2017-121258</td>\n",
              "      <td>2017-02-26</td>\n",
              "      <td>2017-03-03</td>\n",
              "      <td>Standard Class</td>\n",
              "      <td>DB-13060</td>\n",
              "      <td>Dave Brooks</td>\n",
              "      <td>Consumer</td>\n",
              "      <td>United States</td>\n",
              "      <td>Costa Mesa</td>\n",
              "      <td>...</td>\n",
              "      <td>92627</td>\n",
              "      <td>West</td>\n",
              "      <td>OFF-PA-10004041</td>\n",
              "      <td>Office Supplies</td>\n",
              "      <td>Paper</td>\n",
              "      <td>It's Hot Message Books with Stickers, 2 3/4\" x 5\"</td>\n",
              "      <td>29.6000</td>\n",
              "      <td>4</td>\n",
              "      <td>0.00</td>\n",
              "      <td>13.3200</td>\n",
              "    </tr>\n",
              "    <tr>\n",
              "      <th>9993</th>\n",
              "      <td>9994</td>\n",
              "      <td>CA-2017-119914</td>\n",
              "      <td>2017-05-04</td>\n",
              "      <td>2017-05-09</td>\n",
              "      <td>Second Class</td>\n",
              "      <td>CC-12220</td>\n",
              "      <td>Chris Cortes</td>\n",
              "      <td>Consumer</td>\n",
              "      <td>United States</td>\n",
              "      <td>Westminster</td>\n",
              "      <td>...</td>\n",
              "      <td>92683</td>\n",
              "      <td>West</td>\n",
              "      <td>OFF-AP-10002684</td>\n",
              "      <td>Office Supplies</td>\n",
              "      <td>Appliances</td>\n",
              "      <td>Acco 7-Outlet Masterpiece Power Center, Wihtou...</td>\n",
              "      <td>243.1600</td>\n",
              "      <td>2</td>\n",
              "      <td>0.00</td>\n",
              "      <td>72.9480</td>\n",
              "    </tr>\n",
              "  </tbody>\n",
              "</table>\n",
              "<p>9994 rows × 21 columns</p>\n",
              "</div>\n",
              "      <button class=\"colab-df-convert\" onclick=\"convertToInteractive('df-6182724e-1235-4876-b395-3e80ca13b5fc')\"\n",
              "              title=\"Convert this dataframe to an interactive table.\"\n",
              "              style=\"display:none;\">\n",
              "        \n",
              "  <svg xmlns=\"http://www.w3.org/2000/svg\" height=\"24px\"viewBox=\"0 0 24 24\"\n",
              "       width=\"24px\">\n",
              "    <path d=\"M0 0h24v24H0V0z\" fill=\"none\"/>\n",
              "    <path d=\"M18.56 5.44l.94 2.06.94-2.06 2.06-.94-2.06-.94-.94-2.06-.94 2.06-2.06.94zm-11 1L8.5 8.5l.94-2.06 2.06-.94-2.06-.94L8.5 2.5l-.94 2.06-2.06.94zm10 10l.94 2.06.94-2.06 2.06-.94-2.06-.94-.94-2.06-.94 2.06-2.06.94z\"/><path d=\"M17.41 7.96l-1.37-1.37c-.4-.4-.92-.59-1.43-.59-.52 0-1.04.2-1.43.59L10.3 9.45l-7.72 7.72c-.78.78-.78 2.05 0 2.83L4 21.41c.39.39.9.59 1.41.59.51 0 1.02-.2 1.41-.59l7.78-7.78 2.81-2.81c.8-.78.8-2.07 0-2.86zM5.41 20L4 18.59l7.72-7.72 1.47 1.35L5.41 20z\"/>\n",
              "  </svg>\n",
              "      </button>\n",
              "      \n",
              "  <style>\n",
              "    .colab-df-container {\n",
              "      display:flex;\n",
              "      flex-wrap:wrap;\n",
              "      gap: 12px;\n",
              "    }\n",
              "\n",
              "    .colab-df-convert {\n",
              "      background-color: #E8F0FE;\n",
              "      border: none;\n",
              "      border-radius: 50%;\n",
              "      cursor: pointer;\n",
              "      display: none;\n",
              "      fill: #1967D2;\n",
              "      height: 32px;\n",
              "      padding: 0 0 0 0;\n",
              "      width: 32px;\n",
              "    }\n",
              "\n",
              "    .colab-df-convert:hover {\n",
              "      background-color: #E2EBFA;\n",
              "      box-shadow: 0px 1px 2px rgba(60, 64, 67, 0.3), 0px 1px 3px 1px rgba(60, 64, 67, 0.15);\n",
              "      fill: #174EA6;\n",
              "    }\n",
              "\n",
              "    [theme=dark] .colab-df-convert {\n",
              "      background-color: #3B4455;\n",
              "      fill: #D2E3FC;\n",
              "    }\n",
              "\n",
              "    [theme=dark] .colab-df-convert:hover {\n",
              "      background-color: #434B5C;\n",
              "      box-shadow: 0px 1px 3px 1px rgba(0, 0, 0, 0.15);\n",
              "      filter: drop-shadow(0px 1px 2px rgba(0, 0, 0, 0.3));\n",
              "      fill: #FFFFFF;\n",
              "    }\n",
              "  </style>\n",
              "\n",
              "      <script>\n",
              "        const buttonEl =\n",
              "          document.querySelector('#df-6182724e-1235-4876-b395-3e80ca13b5fc button.colab-df-convert');\n",
              "        buttonEl.style.display =\n",
              "          google.colab.kernel.accessAllowed ? 'block' : 'none';\n",
              "\n",
              "        async function convertToInteractive(key) {\n",
              "          const element = document.querySelector('#df-6182724e-1235-4876-b395-3e80ca13b5fc');\n",
              "          const dataTable =\n",
              "            await google.colab.kernel.invokeFunction('convertToInteractive',\n",
              "                                                     [key], {});\n",
              "          if (!dataTable) return;\n",
              "\n",
              "          const docLinkHtml = 'Like what you see? Visit the ' +\n",
              "            '<a target=\"_blank\" href=https://colab.research.google.com/notebooks/data_table.ipynb>data table notebook</a>'\n",
              "            + ' to learn more about interactive tables.';\n",
              "          element.innerHTML = '';\n",
              "          dataTable['output_type'] = 'display_data';\n",
              "          await google.colab.output.renderOutput(dataTable, element);\n",
              "          const docLink = document.createElement('div');\n",
              "          docLink.innerHTML = docLinkHtml;\n",
              "          element.appendChild(docLink);\n",
              "        }\n",
              "      </script>\n",
              "    </div>\n",
              "  </div>\n",
              "  "
            ]
          },
          "metadata": {},
          "execution_count": 3
        }
      ]
    },
    {
      "cell_type": "code",
      "source": [
        "df.info()"
      ],
      "metadata": {
        "colab": {
          "base_uri": "https://localhost:8080/"
        },
        "id": "-4pFG5Zp9zKb",
        "outputId": "fbe478bf-bd16-4868-fd55-b6046b0daa57"
      },
      "execution_count": 4,
      "outputs": [
        {
          "output_type": "stream",
          "name": "stdout",
          "text": [
            "<class 'pandas.core.frame.DataFrame'>\n",
            "RangeIndex: 9994 entries, 0 to 9993\n",
            "Data columns (total 21 columns):\n",
            " #   Column         Non-Null Count  Dtype         \n",
            "---  ------         --------------  -----         \n",
            " 0   Row ID         9994 non-null   int64         \n",
            " 1   Order ID       9994 non-null   object        \n",
            " 2   Order Date     9994 non-null   datetime64[ns]\n",
            " 3   Ship Date      9994 non-null   datetime64[ns]\n",
            " 4   Ship Mode      9994 non-null   object        \n",
            " 5   Customer ID    9994 non-null   object        \n",
            " 6   Customer Name  9994 non-null   object        \n",
            " 7   Segment        9994 non-null   object        \n",
            " 8   Country        9994 non-null   object        \n",
            " 9   City           9994 non-null   object        \n",
            " 10  State          9994 non-null   object        \n",
            " 11  Postal Code    9994 non-null   int64         \n",
            " 12  Region         9994 non-null   object        \n",
            " 13  Product ID     9994 non-null   object        \n",
            " 14  Category       9994 non-null   object        \n",
            " 15  Sub-Category   9994 non-null   object        \n",
            " 16  Product Name   9994 non-null   object        \n",
            " 17  Sales          9994 non-null   float64       \n",
            " 18  Quantity       9994 non-null   int64         \n",
            " 19  Discount       9994 non-null   float64       \n",
            " 20  Profit         9994 non-null   float64       \n",
            "dtypes: datetime64[ns](2), float64(3), int64(3), object(13)\n",
            "memory usage: 1.6+ MB\n"
          ]
        }
      ]
    },
    {
      "cell_type": "code",
      "source": [
        "df.describe()"
      ],
      "metadata": {
        "colab": {
          "base_uri": "https://localhost:8080/",
          "height": 300
        },
        "id": "9txcXmuW95Vq",
        "outputId": "644fd59e-8df4-40e7-faf7-113d586f7a98"
      },
      "execution_count": 5,
      "outputs": [
        {
          "output_type": "execute_result",
          "data": {
            "text/plain": [
              "            Row ID   Postal Code         Sales     Quantity     Discount  \\\n",
              "count  9994.000000   9994.000000   9994.000000  9994.000000  9994.000000   \n",
              "mean   4997.500000  55190.379428    229.858001     3.789574     0.156203   \n",
              "std    2885.163629  32063.693350    623.245101     2.225110     0.206452   \n",
              "min       1.000000   1040.000000      0.444000     1.000000     0.000000   \n",
              "25%    2499.250000  23223.000000     17.280000     2.000000     0.000000   \n",
              "50%    4997.500000  56430.500000     54.490000     3.000000     0.200000   \n",
              "75%    7495.750000  90008.000000    209.940000     5.000000     0.200000   \n",
              "max    9994.000000  99301.000000  22638.480000    14.000000     0.800000   \n",
              "\n",
              "            Profit  \n",
              "count  9994.000000  \n",
              "mean     28.656896  \n",
              "std     234.260108  \n",
              "min   -6599.978000  \n",
              "25%       1.728750  \n",
              "50%       8.666500  \n",
              "75%      29.364000  \n",
              "max    8399.976000  "
            ],
            "text/html": [
              "\n",
              "  <div id=\"df-5cd9ee7f-7b4b-49b5-99ee-9b287c052a88\">\n",
              "    <div class=\"colab-df-container\">\n",
              "      <div>\n",
              "<style scoped>\n",
              "    .dataframe tbody tr th:only-of-type {\n",
              "        vertical-align: middle;\n",
              "    }\n",
              "\n",
              "    .dataframe tbody tr th {\n",
              "        vertical-align: top;\n",
              "    }\n",
              "\n",
              "    .dataframe thead th {\n",
              "        text-align: right;\n",
              "    }\n",
              "</style>\n",
              "<table border=\"1\" class=\"dataframe\">\n",
              "  <thead>\n",
              "    <tr style=\"text-align: right;\">\n",
              "      <th></th>\n",
              "      <th>Row ID</th>\n",
              "      <th>Postal Code</th>\n",
              "      <th>Sales</th>\n",
              "      <th>Quantity</th>\n",
              "      <th>Discount</th>\n",
              "      <th>Profit</th>\n",
              "    </tr>\n",
              "  </thead>\n",
              "  <tbody>\n",
              "    <tr>\n",
              "      <th>count</th>\n",
              "      <td>9994.000000</td>\n",
              "      <td>9994.000000</td>\n",
              "      <td>9994.000000</td>\n",
              "      <td>9994.000000</td>\n",
              "      <td>9994.000000</td>\n",
              "      <td>9994.000000</td>\n",
              "    </tr>\n",
              "    <tr>\n",
              "      <th>mean</th>\n",
              "      <td>4997.500000</td>\n",
              "      <td>55190.379428</td>\n",
              "      <td>229.858001</td>\n",
              "      <td>3.789574</td>\n",
              "      <td>0.156203</td>\n",
              "      <td>28.656896</td>\n",
              "    </tr>\n",
              "    <tr>\n",
              "      <th>std</th>\n",
              "      <td>2885.163629</td>\n",
              "      <td>32063.693350</td>\n",
              "      <td>623.245101</td>\n",
              "      <td>2.225110</td>\n",
              "      <td>0.206452</td>\n",
              "      <td>234.260108</td>\n",
              "    </tr>\n",
              "    <tr>\n",
              "      <th>min</th>\n",
              "      <td>1.000000</td>\n",
              "      <td>1040.000000</td>\n",
              "      <td>0.444000</td>\n",
              "      <td>1.000000</td>\n",
              "      <td>0.000000</td>\n",
              "      <td>-6599.978000</td>\n",
              "    </tr>\n",
              "    <tr>\n",
              "      <th>25%</th>\n",
              "      <td>2499.250000</td>\n",
              "      <td>23223.000000</td>\n",
              "      <td>17.280000</td>\n",
              "      <td>2.000000</td>\n",
              "      <td>0.000000</td>\n",
              "      <td>1.728750</td>\n",
              "    </tr>\n",
              "    <tr>\n",
              "      <th>50%</th>\n",
              "      <td>4997.500000</td>\n",
              "      <td>56430.500000</td>\n",
              "      <td>54.490000</td>\n",
              "      <td>3.000000</td>\n",
              "      <td>0.200000</td>\n",
              "      <td>8.666500</td>\n",
              "    </tr>\n",
              "    <tr>\n",
              "      <th>75%</th>\n",
              "      <td>7495.750000</td>\n",
              "      <td>90008.000000</td>\n",
              "      <td>209.940000</td>\n",
              "      <td>5.000000</td>\n",
              "      <td>0.200000</td>\n",
              "      <td>29.364000</td>\n",
              "    </tr>\n",
              "    <tr>\n",
              "      <th>max</th>\n",
              "      <td>9994.000000</td>\n",
              "      <td>99301.000000</td>\n",
              "      <td>22638.480000</td>\n",
              "      <td>14.000000</td>\n",
              "      <td>0.800000</td>\n",
              "      <td>8399.976000</td>\n",
              "    </tr>\n",
              "  </tbody>\n",
              "</table>\n",
              "</div>\n",
              "      <button class=\"colab-df-convert\" onclick=\"convertToInteractive('df-5cd9ee7f-7b4b-49b5-99ee-9b287c052a88')\"\n",
              "              title=\"Convert this dataframe to an interactive table.\"\n",
              "              style=\"display:none;\">\n",
              "        \n",
              "  <svg xmlns=\"http://www.w3.org/2000/svg\" height=\"24px\"viewBox=\"0 0 24 24\"\n",
              "       width=\"24px\">\n",
              "    <path d=\"M0 0h24v24H0V0z\" fill=\"none\"/>\n",
              "    <path d=\"M18.56 5.44l.94 2.06.94-2.06 2.06-.94-2.06-.94-.94-2.06-.94 2.06-2.06.94zm-11 1L8.5 8.5l.94-2.06 2.06-.94-2.06-.94L8.5 2.5l-.94 2.06-2.06.94zm10 10l.94 2.06.94-2.06 2.06-.94-2.06-.94-.94-2.06-.94 2.06-2.06.94z\"/><path d=\"M17.41 7.96l-1.37-1.37c-.4-.4-.92-.59-1.43-.59-.52 0-1.04.2-1.43.59L10.3 9.45l-7.72 7.72c-.78.78-.78 2.05 0 2.83L4 21.41c.39.39.9.59 1.41.59.51 0 1.02-.2 1.41-.59l7.78-7.78 2.81-2.81c.8-.78.8-2.07 0-2.86zM5.41 20L4 18.59l7.72-7.72 1.47 1.35L5.41 20z\"/>\n",
              "  </svg>\n",
              "      </button>\n",
              "      \n",
              "  <style>\n",
              "    .colab-df-container {\n",
              "      display:flex;\n",
              "      flex-wrap:wrap;\n",
              "      gap: 12px;\n",
              "    }\n",
              "\n",
              "    .colab-df-convert {\n",
              "      background-color: #E8F0FE;\n",
              "      border: none;\n",
              "      border-radius: 50%;\n",
              "      cursor: pointer;\n",
              "      display: none;\n",
              "      fill: #1967D2;\n",
              "      height: 32px;\n",
              "      padding: 0 0 0 0;\n",
              "      width: 32px;\n",
              "    }\n",
              "\n",
              "    .colab-df-convert:hover {\n",
              "      background-color: #E2EBFA;\n",
              "      box-shadow: 0px 1px 2px rgba(60, 64, 67, 0.3), 0px 1px 3px 1px rgba(60, 64, 67, 0.15);\n",
              "      fill: #174EA6;\n",
              "    }\n",
              "\n",
              "    [theme=dark] .colab-df-convert {\n",
              "      background-color: #3B4455;\n",
              "      fill: #D2E3FC;\n",
              "    }\n",
              "\n",
              "    [theme=dark] .colab-df-convert:hover {\n",
              "      background-color: #434B5C;\n",
              "      box-shadow: 0px 1px 3px 1px rgba(0, 0, 0, 0.15);\n",
              "      filter: drop-shadow(0px 1px 2px rgba(0, 0, 0, 0.3));\n",
              "      fill: #FFFFFF;\n",
              "    }\n",
              "  </style>\n",
              "\n",
              "      <script>\n",
              "        const buttonEl =\n",
              "          document.querySelector('#df-5cd9ee7f-7b4b-49b5-99ee-9b287c052a88 button.colab-df-convert');\n",
              "        buttonEl.style.display =\n",
              "          google.colab.kernel.accessAllowed ? 'block' : 'none';\n",
              "\n",
              "        async function convertToInteractive(key) {\n",
              "          const element = document.querySelector('#df-5cd9ee7f-7b4b-49b5-99ee-9b287c052a88');\n",
              "          const dataTable =\n",
              "            await google.colab.kernel.invokeFunction('convertToInteractive',\n",
              "                                                     [key], {});\n",
              "          if (!dataTable) return;\n",
              "\n",
              "          const docLinkHtml = 'Like what you see? Visit the ' +\n",
              "            '<a target=\"_blank\" href=https://colab.research.google.com/notebooks/data_table.ipynb>data table notebook</a>'\n",
              "            + ' to learn more about interactive tables.';\n",
              "          element.innerHTML = '';\n",
              "          dataTable['output_type'] = 'display_data';\n",
              "          await google.colab.output.renderOutput(dataTable, element);\n",
              "          const docLink = document.createElement('div');\n",
              "          docLink.innerHTML = docLinkHtml;\n",
              "          element.appendChild(docLink);\n",
              "        }\n",
              "      </script>\n",
              "    </div>\n",
              "  </div>\n",
              "  "
            ]
          },
          "metadata": {},
          "execution_count": 5
        }
      ]
    },
    {
      "cell_type": "markdown",
      "source": [
        "# Data Exploration"
      ],
      "metadata": {
        "id": "_VctQ1Vz_-vT"
      }
    },
    {
      "cell_type": "code",
      "source": [
        "df.columns"
      ],
      "metadata": {
        "colab": {
          "base_uri": "https://localhost:8080/"
        },
        "id": "6ZmUWfLt9-SA",
        "outputId": "db594dca-cc74-47f9-faaf-452f5d6dfdd2"
      },
      "execution_count": 6,
      "outputs": [
        {
          "output_type": "execute_result",
          "data": {
            "text/plain": [
              "Index(['Row ID', 'Order ID', 'Order Date', 'Ship Date', 'Ship Mode',\n",
              "       'Customer ID', 'Customer Name', 'Segment', 'Country', 'City', 'State',\n",
              "       'Postal Code', 'Region', 'Product ID', 'Category', 'Sub-Category',\n",
              "       'Product Name', 'Sales', 'Quantity', 'Discount', 'Profit'],\n",
              "      dtype='object')"
            ]
          },
          "metadata": {},
          "execution_count": 6
        }
      ]
    },
    {
      "cell_type": "code",
      "source": [
        "df['Row ID'].unique()"
      ],
      "metadata": {
        "colab": {
          "base_uri": "https://localhost:8080/"
        },
        "id": "WTBULt76_CX6",
        "outputId": "4f68df41-07ea-472f-c097-36df948dfb68"
      },
      "execution_count": 7,
      "outputs": [
        {
          "output_type": "execute_result",
          "data": {
            "text/plain": [
              "array([   1,    2,    3, ..., 9992, 9993, 9994])"
            ]
          },
          "metadata": {},
          "execution_count": 7
        }
      ]
    },
    {
      "cell_type": "code",
      "source": [
        "df['Order Date'].unique()"
      ],
      "metadata": {
        "colab": {
          "base_uri": "https://localhost:8080/"
        },
        "id": "SfKZz98f_J2N",
        "outputId": "6e43a2a7-17ad-464c-9646-9fc57c39a32a"
      },
      "execution_count": 14,
      "outputs": [
        {
          "output_type": "execute_result",
          "data": {
            "text/plain": [
              "array(['2016-11-08T00:00:00.000000000', '2016-06-12T00:00:00.000000000',\n",
              "       '2015-10-11T00:00:00.000000000', ...,\n",
              "       '2016-06-03T00:00:00.000000000', '2015-04-12T00:00:00.000000000',\n",
              "       '2014-01-21T00:00:00.000000000'], dtype='datetime64[ns]')"
            ]
          },
          "metadata": {},
          "execution_count": 14
        }
      ]
    },
    {
      "cell_type": "code",
      "source": [
        "df['Order Date']=pd.to_datetime(df['Order Date'])"
      ],
      "metadata": {
        "id": "AYb-dq-y-a-e"
      },
      "execution_count": 15,
      "outputs": []
    },
    {
      "cell_type": "code",
      "source": [
        "df['Order Date'].unique()"
      ],
      "metadata": {
        "colab": {
          "base_uri": "https://localhost:8080/"
        },
        "id": "GPunSlNJAN61",
        "outputId": "96704f3e-6151-4361-e511-983a6a799453"
      },
      "execution_count": 16,
      "outputs": [
        {
          "output_type": "execute_result",
          "data": {
            "text/plain": [
              "array(['2016-11-08T00:00:00.000000000', '2016-06-12T00:00:00.000000000',\n",
              "       '2015-10-11T00:00:00.000000000', ...,\n",
              "       '2016-06-03T00:00:00.000000000', '2015-04-12T00:00:00.000000000',\n",
              "       '2014-01-21T00:00:00.000000000'], dtype='datetime64[ns]')"
            ]
          },
          "metadata": {},
          "execution_count": 16
        }
      ]
    },
    {
      "cell_type": "code",
      "source": [
        "df['Ship Date'].unique()"
      ],
      "metadata": {
        "colab": {
          "base_uri": "https://localhost:8080/"
        },
        "id": "Z7Vd2p7f_SY2",
        "outputId": "c22c524c-4ac9-4aa3-90d3-6343349e0687"
      },
      "execution_count": 17,
      "outputs": [
        {
          "output_type": "execute_result",
          "data": {
            "text/plain": [
              "array(['2016-11-11T00:00:00.000000000', '2016-06-16T00:00:00.000000000',\n",
              "       '2015-10-18T00:00:00.000000000', ...,\n",
              "       '2015-05-23T00:00:00.000000000', '2014-01-23T00:00:00.000000000',\n",
              "       '2017-03-03T00:00:00.000000000'], dtype='datetime64[ns]')"
            ]
          },
          "metadata": {},
          "execution_count": 17
        }
      ]
    },
    {
      "cell_type": "code",
      "source": [
        "df['Ship Date']=pd.to_datetime(df['Ship Date'])"
      ],
      "metadata": {
        "id": "xEjzo5Ry-mNn"
      },
      "execution_count": 18,
      "outputs": []
    },
    {
      "cell_type": "code",
      "source": [
        "df['Ship Date'].unique()"
      ],
      "metadata": {
        "colab": {
          "base_uri": "https://localhost:8080/"
        },
        "id": "pEL9mbD8AZ8Z",
        "outputId": "7f037204-7c49-459f-9b7a-8c23a9e14b96"
      },
      "execution_count": 19,
      "outputs": [
        {
          "output_type": "execute_result",
          "data": {
            "text/plain": [
              "array(['2016-11-11T00:00:00.000000000', '2016-06-16T00:00:00.000000000',\n",
              "       '2015-10-18T00:00:00.000000000', ...,\n",
              "       '2015-05-23T00:00:00.000000000', '2014-01-23T00:00:00.000000000',\n",
              "       '2017-03-03T00:00:00.000000000'], dtype='datetime64[ns]')"
            ]
          },
          "metadata": {},
          "execution_count": 19
        }
      ]
    },
    {
      "cell_type": "code",
      "source": [
        "df['Ship Mode'].unique()"
      ],
      "metadata": {
        "colab": {
          "base_uri": "https://localhost:8080/"
        },
        "id": "pjILX81G_h4e",
        "outputId": "1aaeab18-e364-4184-9224-ef4052160d44"
      },
      "execution_count": 13,
      "outputs": [
        {
          "output_type": "execute_result",
          "data": {
            "text/plain": [
              "array(['Second Class', 'Standard Class', 'First Class', 'Same Day'],\n",
              "      dtype=object)"
            ]
          },
          "metadata": {},
          "execution_count": 13
        }
      ]
    },
    {
      "cell_type": "code",
      "source": [
        "df['Customer Name'].unique()\n",
        "df['Customer Name'].duplicated().sum()"
      ],
      "metadata": {
        "colab": {
          "base_uri": "https://localhost:8080/"
        },
        "id": "kBUhFX4Z_pUK",
        "outputId": "2c394de7-aee8-4790-df1c-25fbd53f9b31"
      },
      "execution_count": 22,
      "outputs": [
        {
          "output_type": "execute_result",
          "data": {
            "text/plain": [
              "9201"
            ]
          },
          "metadata": {},
          "execution_count": 22
        }
      ]
    },
    {
      "cell_type": "code",
      "source": [
        "df['Segment'].unique()"
      ],
      "metadata": {
        "colab": {
          "base_uri": "https://localhost:8080/"
        },
        "id": "GAoGLPGoA-DS",
        "outputId": "37aca09c-ccbe-424d-f71a-abb085134c82"
      },
      "execution_count": 23,
      "outputs": [
        {
          "output_type": "execute_result",
          "data": {
            "text/plain": [
              "array(['Consumer', 'Corporate', 'Home Office'], dtype=object)"
            ]
          },
          "metadata": {},
          "execution_count": 23
        }
      ]
    },
    {
      "cell_type": "code",
      "source": [
        "df['Country'].unique()"
      ],
      "metadata": {
        "colab": {
          "base_uri": "https://localhost:8080/"
        },
        "id": "X45Oo3geBEK0",
        "outputId": "42146350-0f41-477d-ff56-98f0d7a4380b"
      },
      "execution_count": 24,
      "outputs": [
        {
          "output_type": "execute_result",
          "data": {
            "text/plain": [
              "array(['United States'], dtype=object)"
            ]
          },
          "metadata": {},
          "execution_count": 24
        }
      ]
    },
    {
      "cell_type": "code",
      "source": [
        "df['City'].unique()"
      ],
      "metadata": {
        "colab": {
          "base_uri": "https://localhost:8080/"
        },
        "id": "xIgxWGZcBNVd",
        "outputId": "f73189c0-eb31-497b-f638-6a03b2b88d91"
      },
      "execution_count": 25,
      "outputs": [
        {
          "output_type": "execute_result",
          "data": {
            "text/plain": [
              "array(['Henderson', 'Los Angeles', 'Fort Lauderdale', 'Concord',\n",
              "       'Seattle', 'Fort Worth', 'Madison', 'West Jordan', 'San Francisco',\n",
              "       'Fremont', 'Philadelphia', 'Orem', 'Houston', 'Richardson',\n",
              "       'Naperville', 'Melbourne', 'Eagan', 'Westland', 'Dover',\n",
              "       'New Albany', 'New York City', 'Troy', 'Chicago', 'Gilbert',\n",
              "       'Springfield', 'Jackson', 'Memphis', 'Decatur', 'Durham',\n",
              "       'Columbia', 'Rochester', 'Minneapolis', 'Portland', 'Saint Paul',\n",
              "       'Aurora', 'Charlotte', 'Orland Park', 'Urbandale', 'Columbus',\n",
              "       'Bristol', 'Wilmington', 'Bloomington', 'Phoenix', 'Roseville',\n",
              "       'Independence', 'Pasadena', 'Newark', 'Franklin', 'Scottsdale',\n",
              "       'San Jose', 'Edmond', 'Carlsbad', 'San Antonio', 'Monroe',\n",
              "       'Fairfield', 'Grand Prairie', 'Redlands', 'Hamilton', 'Westfield',\n",
              "       'Akron', 'Denver', 'Dallas', 'Whittier', 'Saginaw', 'Medina',\n",
              "       'Dublin', 'Detroit', 'Tampa', 'Santa Clara', 'Lakeville',\n",
              "       'San Diego', 'Brentwood', 'Chapel Hill', 'Morristown',\n",
              "       'Cincinnati', 'Inglewood', 'Tamarac', 'Colorado Springs',\n",
              "       'Belleville', 'Taylor', 'Lakewood', 'Arlington', 'Arvada',\n",
              "       'Hackensack', 'Saint Petersburg', 'Long Beach', 'Hesperia',\n",
              "       'Murfreesboro', 'Layton', 'Austin', 'Lowell', 'Manchester',\n",
              "       'Harlingen', 'Tucson', 'Quincy', 'Pembroke Pines', 'Des Moines',\n",
              "       'Peoria', 'Las Vegas', 'Warwick', 'Miami', 'Huntington Beach',\n",
              "       'Richmond', 'Louisville', 'Lawrence', 'Canton', 'New Rochelle',\n",
              "       'Gastonia', 'Jacksonville', 'Auburn', 'Norman', 'Park Ridge',\n",
              "       'Amarillo', 'Lindenhurst', 'Huntsville', 'Fayetteville',\n",
              "       'Costa Mesa', 'Parker', 'Atlanta', 'Gladstone', 'Great Falls',\n",
              "       'Lakeland', 'Montgomery', 'Mesa', 'Green Bay', 'Anaheim',\n",
              "       'Marysville', 'Salem', 'Laredo', 'Grove City', 'Dearborn',\n",
              "       'Warner Robins', 'Vallejo', 'Mission Viejo', 'Rochester Hills',\n",
              "       'Plainfield', 'Sierra Vista', 'Vancouver', 'Cleveland', 'Tyler',\n",
              "       'Burlington', 'Waynesboro', 'Chester', 'Cary', 'Palm Coast',\n",
              "       'Mount Vernon', 'Hialeah', 'Oceanside', 'Evanston', 'Trenton',\n",
              "       'Cottage Grove', 'Bossier City', 'Lancaster', 'Asheville',\n",
              "       'Lake Elsinore', 'Omaha', 'Edmonds', 'Santa Ana', 'Milwaukee',\n",
              "       'Florence', 'Lorain', 'Linden', 'Salinas', 'New Brunswick',\n",
              "       'Garland', 'Norwich', 'Alexandria', 'Toledo', 'Farmington',\n",
              "       'Riverside', 'Torrance', 'Round Rock', 'Boca Raton',\n",
              "       'Virginia Beach', 'Murrieta', 'Olympia', 'Washington',\n",
              "       'Jefferson City', 'Saint Peters', 'Rockford', 'Brownsville',\n",
              "       'Yonkers', 'Oakland', 'Clinton', 'Encinitas', 'Roswell',\n",
              "       'Jonesboro', 'Antioch', 'Homestead', 'La Porte', 'Lansing',\n",
              "       'Cuyahoga Falls', 'Reno', 'Harrisonburg', 'Escondido', 'Royal Oak',\n",
              "       'Rockville', 'Coral Springs', 'Buffalo', 'Boynton Beach',\n",
              "       'Gulfport', 'Fresno', 'Greenville', 'Macon', 'Cedar Rapids',\n",
              "       'Providence', 'Pueblo', 'Deltona', 'Murray', 'Middletown',\n",
              "       'Freeport', 'Pico Rivera', 'Provo', 'Pleasant Grove', 'Smyrna',\n",
              "       'Parma', 'Mobile', 'New Bedford', 'Irving', 'Vineland', 'Glendale',\n",
              "       'Niagara Falls', 'Thomasville', 'Westminster', 'Coppell', 'Pomona',\n",
              "       'North Las Vegas', 'Allentown', 'Tempe', 'Laguna Niguel',\n",
              "       'Bridgeton', 'Everett', 'Watertown', 'Appleton', 'Bellevue',\n",
              "       'Allen', 'El Paso', 'Grapevine', 'Carrollton', 'Kent', 'Lafayette',\n",
              "       'Tigard', 'Skokie', 'Plano', 'Suffolk', 'Indianapolis', 'Bayonne',\n",
              "       'Greensboro', 'Baltimore', 'Kenosha', 'Olathe', 'Tulsa', 'Redmond',\n",
              "       'Raleigh', 'Muskogee', 'Meriden', 'Bowling Green', 'South Bend',\n",
              "       'Spokane', 'Keller', 'Port Orange', 'Medford', 'Charlottesville',\n",
              "       'Missoula', 'Apopka', 'Reading', 'Broomfield', 'Paterson',\n",
              "       'Oklahoma City', 'Chesapeake', 'Lubbock', 'Johnson City',\n",
              "       'San Bernardino', 'Leominster', 'Bozeman', 'Perth Amboy',\n",
              "       'Ontario', 'Rancho Cucamonga', 'Moorhead', 'Mesquite', 'Stockton',\n",
              "       'Ormond Beach', 'Sunnyvale', 'York', 'College Station',\n",
              "       'Saint Louis', 'Manteca', 'San Angelo', 'Salt Lake City',\n",
              "       'Knoxville', 'Little Rock', 'Lincoln Park', 'Marion', 'Littleton',\n",
              "       'Bangor', 'Southaven', 'New Castle', 'Midland', 'Sioux Falls',\n",
              "       'Fort Collins', 'Clarksville', 'Sacramento', 'Thousand Oaks',\n",
              "       'Malden', 'Holyoke', 'Albuquerque', 'Sparks', 'Coachella',\n",
              "       'Elmhurst', 'Passaic', 'North Charleston', 'Newport News',\n",
              "       'Jamestown', 'Mishawaka', 'La Quinta', 'Tallahassee', 'Nashville',\n",
              "       'Bellingham', 'Woodstock', 'Haltom City', 'Wheeling',\n",
              "       'Summerville', 'Hot Springs', 'Englewood', 'Las Cruces', 'Hoover',\n",
              "       'Frisco', 'Vacaville', 'Waukesha', 'Bakersfield', 'Pompano Beach',\n",
              "       'Corpus Christi', 'Redondo Beach', 'Orlando', 'Orange',\n",
              "       'Lake Charles', 'Highland Park', 'Hempstead', 'Noblesville',\n",
              "       'Apple Valley', 'Mount Pleasant', 'Sterling Heights', 'Eau Claire',\n",
              "       'Pharr', 'Billings', 'Gresham', 'Chattanooga', 'Meridian',\n",
              "       'Bolingbrook', 'Maple Grove', 'Woodland', 'Missouri City',\n",
              "       'Pearland', 'San Mateo', 'Grand Rapids', 'Visalia',\n",
              "       'Overland Park', 'Temecula', 'Yucaipa', 'Revere', 'Conroe',\n",
              "       'Tinley Park', 'Dubuque', 'Dearborn Heights', 'Santa Fe',\n",
              "       'Hickory', 'Carol Stream', 'Saint Cloud', 'North Miami',\n",
              "       'Plantation', 'Port Saint Lucie', 'Rock Hill', 'Odessa',\n",
              "       'West Allis', 'Chula Vista', 'Manhattan', 'Altoona', 'Thornton',\n",
              "       'Champaign', 'Texarkana', 'Edinburg', 'Baytown', 'Greenwood',\n",
              "       'Woonsocket', 'Superior', 'Bedford', 'Covington', 'Broken Arrow',\n",
              "       'Miramar', 'Hollywood', 'Deer Park', 'Wichita', 'Mcallen',\n",
              "       'Iowa City', 'Boise', 'Cranston', 'Port Arthur', 'Citrus Heights',\n",
              "       'The Colony', 'Daytona Beach', 'Bullhead City', 'Portage', 'Fargo',\n",
              "       'Elkhart', 'San Gabriel', 'Margate', 'Sandy Springs', 'Mentor',\n",
              "       'Lawton', 'Hampton', 'Rome', 'La Crosse', 'Lewiston',\n",
              "       'Hattiesburg', 'Danville', 'Logan', 'Waterbury', 'Athens',\n",
              "       'Avondale', 'Marietta', 'Yuma', 'Wausau', 'Pasco', 'Oak Park',\n",
              "       'Pensacola', 'League City', 'Gaithersburg', 'Lehi', 'Tuscaloosa',\n",
              "       'Moreno Valley', 'Georgetown', 'Loveland', 'Chandler', 'Helena',\n",
              "       'Kirkwood', 'Waco', 'Frankfort', 'Bethlehem', 'Grand Island',\n",
              "       'Woodbury', 'Rogers', 'Clovis', 'Jupiter', 'Santa Barbara',\n",
              "       'Cedar Hill', 'Norfolk', 'Draper', 'Ann Arbor', 'La Mesa',\n",
              "       'Pocatello', 'Holland', 'Milford', 'Buffalo Grove', 'Lake Forest',\n",
              "       'Redding', 'Chico', 'Utica', 'Conway', 'Cheyenne', 'Owensboro',\n",
              "       'Caldwell', 'Kenner', 'Nashua', 'Bartlett', 'Redwood City',\n",
              "       'Lebanon', 'Santa Maria', 'Des Plaines', 'Longview',\n",
              "       'Hendersonville', 'Waterloo', 'Cambridge', 'Palatine', 'Beverly',\n",
              "       'Eugene', 'Oxnard', 'Renton', 'Glenview', 'Delray Beach',\n",
              "       'Commerce City', 'Texas City', 'Wilson', 'Rio Rancho', 'Goldsboro',\n",
              "       'Montebello', 'El Cajon', 'Beaumont', 'West Palm Beach', 'Abilene',\n",
              "       'Normal', 'Saint Charles', 'Camarillo', 'Hillsboro', 'Burbank',\n",
              "       'Modesto', 'Garden City', 'Atlantic City', 'Longmont', 'Davis',\n",
              "       'Morgan Hill', 'Clifton', 'Sheboygan', 'East Point', 'Rapid City',\n",
              "       'Andover', 'Kissimmee', 'Shelton', 'Danbury', 'Sanford',\n",
              "       'San Marcos', 'Greeley', 'Mansfield', 'Elyria', 'Twin Falls',\n",
              "       'Coral Gables', 'Romeoville', 'Marlborough', 'Laurel', 'Bryan',\n",
              "       'Pine Bluff', 'Aberdeen', 'Hagerstown', 'East Orange',\n",
              "       'Arlington Heights', 'Oswego', 'Coon Rapids', 'San Clemente',\n",
              "       'San Luis Obispo', 'Springdale', 'Lodi', 'Mason'], dtype=object)"
            ]
          },
          "metadata": {},
          "execution_count": 25
        }
      ]
    },
    {
      "cell_type": "code",
      "source": [
        "df['State'].unique()"
      ],
      "metadata": {
        "colab": {
          "base_uri": "https://localhost:8080/"
        },
        "id": "QA31XrSvBTyq",
        "outputId": "a5898dbe-78cc-4685-c79b-656c33202b0c"
      },
      "execution_count": 26,
      "outputs": [
        {
          "output_type": "execute_result",
          "data": {
            "text/plain": [
              "array(['Kentucky', 'California', 'Florida', 'North Carolina',\n",
              "       'Washington', 'Texas', 'Wisconsin', 'Utah', 'Nebraska',\n",
              "       'Pennsylvania', 'Illinois', 'Minnesota', 'Michigan', 'Delaware',\n",
              "       'Indiana', 'New York', 'Arizona', 'Virginia', 'Tennessee',\n",
              "       'Alabama', 'South Carolina', 'Oregon', 'Colorado', 'Iowa', 'Ohio',\n",
              "       'Missouri', 'Oklahoma', 'New Mexico', 'Louisiana', 'Connecticut',\n",
              "       'New Jersey', 'Massachusetts', 'Georgia', 'Nevada', 'Rhode Island',\n",
              "       'Mississippi', 'Arkansas', 'Montana', 'New Hampshire', 'Maryland',\n",
              "       'District of Columbia', 'Kansas', 'Vermont', 'Maine',\n",
              "       'South Dakota', 'Idaho', 'North Dakota', 'Wyoming',\n",
              "       'West Virginia'], dtype=object)"
            ]
          },
          "metadata": {},
          "execution_count": 26
        }
      ]
    },
    {
      "cell_type": "code",
      "source": [
        "df['Category'].unique()"
      ],
      "metadata": {
        "colab": {
          "base_uri": "https://localhost:8080/"
        },
        "id": "qcSIZPXhBeX3",
        "outputId": "cabcd8a2-b788-4958-e423-6f33a3d85380"
      },
      "execution_count": 27,
      "outputs": [
        {
          "output_type": "execute_result",
          "data": {
            "text/plain": [
              "array(['Furniture', 'Office Supplies', 'Technology'], dtype=object)"
            ]
          },
          "metadata": {},
          "execution_count": 27
        }
      ]
    },
    {
      "cell_type": "code",
      "source": [
        "df['Sub-Category'].unique()"
      ],
      "metadata": {
        "colab": {
          "base_uri": "https://localhost:8080/"
        },
        "id": "oDzuspYZBniE",
        "outputId": "fc47ca06-5a70-4767-f0af-a3d6d8128864"
      },
      "execution_count": 28,
      "outputs": [
        {
          "output_type": "execute_result",
          "data": {
            "text/plain": [
              "array(['Bookcases', 'Chairs', 'Labels', 'Tables', 'Storage',\n",
              "       'Furnishings', 'Art', 'Phones', 'Binders', 'Appliances', 'Paper',\n",
              "       'Accessories', 'Envelopes', 'Fasteners', 'Supplies', 'Machines',\n",
              "       'Copiers'], dtype=object)"
            ]
          },
          "metadata": {},
          "execution_count": 28
        }
      ]
    },
    {
      "cell_type": "code",
      "source": [
        "df['Product Name'].unique()"
      ],
      "metadata": {
        "colab": {
          "base_uri": "https://localhost:8080/"
        },
        "id": "9ySIJC0qBvP2",
        "outputId": "5515fa90-1f8e-42fd-a5e6-652f09d3b849"
      },
      "execution_count": 29,
      "outputs": [
        {
          "output_type": "execute_result",
          "data": {
            "text/plain": [
              "array(['Bush Somerset Collection Bookcase',\n",
              "       'Hon Deluxe Fabric Upholstered Stacking Chairs, Rounded Back',\n",
              "       'Self-Adhesive Address Labels for Typewriters by Universal', ...,\n",
              "       'Eureka Hand Vacuum, Bagless', 'LG G2',\n",
              "       'Eldon Jumbo ProFile Portable File Boxes Graphite/Black'],\n",
              "      dtype=object)"
            ]
          },
          "metadata": {},
          "execution_count": 29
        }
      ]
    },
    {
      "cell_type": "code",
      "source": [
        "df.isna().sum()"
      ],
      "metadata": {
        "colab": {
          "base_uri": "https://localhost:8080/"
        },
        "id": "ZLLYlZRb-BWF",
        "outputId": "8fdcd78b-7e70-45e9-855b-f5bbe8c8540c"
      },
      "execution_count": 22,
      "outputs": [
        {
          "output_type": "execute_result",
          "data": {
            "text/plain": [
              "Row ID           0\n",
              "Order ID         0\n",
              "Order Date       0\n",
              "Ship Date        0\n",
              "Ship Mode        0\n",
              "Customer ID      0\n",
              "Customer Name    0\n",
              "Segment          0\n",
              "Country          0\n",
              "City             0\n",
              "State            0\n",
              "Postal Code      0\n",
              "Region           0\n",
              "Product ID       0\n",
              "Category         0\n",
              "Sub-Category     0\n",
              "Product Name     0\n",
              "Sales            0\n",
              "Quantity         0\n",
              "Discount         0\n",
              "Profit           0\n",
              "dtype: int64"
            ]
          },
          "metadata": {},
          "execution_count": 22
        }
      ]
    },
    {
      "cell_type": "markdown",
      "source": [
        "**The dataset has an order date column. We can use this column to create new columns like order month, order year, and order day, which will be very valuable for sales and profit analysis according to time periods. So let’s add these columns**"
      ],
      "metadata": {
        "id": "ESmghhfzB_Y-"
      }
    },
    {
      "cell_type": "code",
      "source": [
        "df['Order Month'] = df['Order Date'].dt.month \n",
        "df['Order Year'] = df['Order Date'].dt.year\n",
        "df['Order Day of Week'] = df['Order Date'].dt.dayofweek"
      ],
      "metadata": {
        "id": "dQXKZvcT-3io"
      },
      "execution_count": 30,
      "outputs": []
    },
    {
      "cell_type": "code",
      "source": [
        "df.columns"
      ],
      "metadata": {
        "colab": {
          "base_uri": "https://localhost:8080/"
        },
        "id": "z6Gg-Ej5COjO",
        "outputId": "ca902ced-0156-4b6b-e650-7b7100653197"
      },
      "execution_count": 31,
      "outputs": [
        {
          "output_type": "execute_result",
          "data": {
            "text/plain": [
              "Index(['Row ID', 'Order ID', 'Order Date', 'Ship Date', 'Ship Mode',\n",
              "       'Customer ID', 'Customer Name', 'Segment', 'Country', 'City', 'State',\n",
              "       'Postal Code', 'Region', 'Product ID', 'Category', 'Sub-Category',\n",
              "       'Product Name', 'Sales', 'Quantity', 'Discount', 'Profit',\n",
              "       'Order Month', 'Order Year', 'Order Day of Week'],\n",
              "      dtype='object')"
            ]
          },
          "metadata": {},
          "execution_count": 31
        }
      ]
    },
    {
      "cell_type": "code",
      "source": [
        "df.tail(5)"
      ],
      "metadata": {
        "colab": {
          "base_uri": "https://localhost:8080/",
          "height": 647
        },
        "id": "E-BHD8dFCTXY",
        "outputId": "293fea8d-641a-478a-b54c-5bc974d6d7eb"
      },
      "execution_count": 35,
      "outputs": [
        {
          "output_type": "execute_result",
          "data": {
            "text/plain": [
              "      Row ID        Order ID Order Date  Ship Date       Ship Mode  \\\n",
              "9989    9990  CA-2014-110422 2014-01-21 2014-01-23    Second Class   \n",
              "9990    9991  CA-2017-121258 2017-02-26 2017-03-03  Standard Class   \n",
              "9991    9992  CA-2017-121258 2017-02-26 2017-03-03  Standard Class   \n",
              "9992    9993  CA-2017-121258 2017-02-26 2017-03-03  Standard Class   \n",
              "9993    9994  CA-2017-119914 2017-05-04 2017-05-09    Second Class   \n",
              "\n",
              "     Customer ID     Customer Name   Segment        Country         City  ...  \\\n",
              "9989    TB-21400  Tom Boeckenhauer  Consumer  United States        Miami  ...   \n",
              "9990    DB-13060       Dave Brooks  Consumer  United States   Costa Mesa  ...   \n",
              "9991    DB-13060       Dave Brooks  Consumer  United States   Costa Mesa  ...   \n",
              "9992    DB-13060       Dave Brooks  Consumer  United States   Costa Mesa  ...   \n",
              "9993    CC-12220      Chris Cortes  Consumer  United States  Westminster  ...   \n",
              "\n",
              "             Category  Sub-Category  \\\n",
              "9989        Furniture   Furnishings   \n",
              "9990        Furniture   Furnishings   \n",
              "9991       Technology        Phones   \n",
              "9992  Office Supplies         Paper   \n",
              "9993  Office Supplies    Appliances   \n",
              "\n",
              "                                           Product Name    Sales Quantity  \\\n",
              "9989                             Ultra Door Pull Handle   25.248        3   \n",
              "9990  Tenex B1-RE Series Chair Mats for Low Pile Car...   91.960        2   \n",
              "9991                              Aastra 57i VoIP phone  258.576        2   \n",
              "9992  It's Hot Message Books with Stickers, 2 3/4\" x 5\"   29.600        4   \n",
              "9993  Acco 7-Outlet Masterpiece Power Center, Wihtou...  243.160        2   \n",
              "\n",
              "     Discount   Profit  Order Month  Order Year  Order Day of Week  \n",
              "9989      0.2   4.1028            1        2014                  1  \n",
              "9990      0.0  15.6332            2        2017                  6  \n",
              "9991      0.2  19.3932            2        2017                  6  \n",
              "9992      0.0  13.3200            2        2017                  6  \n",
              "9993      0.0  72.9480            5        2017                  3  \n",
              "\n",
              "[5 rows x 24 columns]"
            ],
            "text/html": [
              "\n",
              "  <div id=\"df-1dcdc692-56d7-4a19-989e-35dafbce9a78\">\n",
              "    <div class=\"colab-df-container\">\n",
              "      <div>\n",
              "<style scoped>\n",
              "    .dataframe tbody tr th:only-of-type {\n",
              "        vertical-align: middle;\n",
              "    }\n",
              "\n",
              "    .dataframe tbody tr th {\n",
              "        vertical-align: top;\n",
              "    }\n",
              "\n",
              "    .dataframe thead th {\n",
              "        text-align: right;\n",
              "    }\n",
              "</style>\n",
              "<table border=\"1\" class=\"dataframe\">\n",
              "  <thead>\n",
              "    <tr style=\"text-align: right;\">\n",
              "      <th></th>\n",
              "      <th>Row ID</th>\n",
              "      <th>Order ID</th>\n",
              "      <th>Order Date</th>\n",
              "      <th>Ship Date</th>\n",
              "      <th>Ship Mode</th>\n",
              "      <th>Customer ID</th>\n",
              "      <th>Customer Name</th>\n",
              "      <th>Segment</th>\n",
              "      <th>Country</th>\n",
              "      <th>City</th>\n",
              "      <th>...</th>\n",
              "      <th>Category</th>\n",
              "      <th>Sub-Category</th>\n",
              "      <th>Product Name</th>\n",
              "      <th>Sales</th>\n",
              "      <th>Quantity</th>\n",
              "      <th>Discount</th>\n",
              "      <th>Profit</th>\n",
              "      <th>Order Month</th>\n",
              "      <th>Order Year</th>\n",
              "      <th>Order Day of Week</th>\n",
              "    </tr>\n",
              "  </thead>\n",
              "  <tbody>\n",
              "    <tr>\n",
              "      <th>9989</th>\n",
              "      <td>9990</td>\n",
              "      <td>CA-2014-110422</td>\n",
              "      <td>2014-01-21</td>\n",
              "      <td>2014-01-23</td>\n",
              "      <td>Second Class</td>\n",
              "      <td>TB-21400</td>\n",
              "      <td>Tom Boeckenhauer</td>\n",
              "      <td>Consumer</td>\n",
              "      <td>United States</td>\n",
              "      <td>Miami</td>\n",
              "      <td>...</td>\n",
              "      <td>Furniture</td>\n",
              "      <td>Furnishings</td>\n",
              "      <td>Ultra Door Pull Handle</td>\n",
              "      <td>25.248</td>\n",
              "      <td>3</td>\n",
              "      <td>0.2</td>\n",
              "      <td>4.1028</td>\n",
              "      <td>1</td>\n",
              "      <td>2014</td>\n",
              "      <td>1</td>\n",
              "    </tr>\n",
              "    <tr>\n",
              "      <th>9990</th>\n",
              "      <td>9991</td>\n",
              "      <td>CA-2017-121258</td>\n",
              "      <td>2017-02-26</td>\n",
              "      <td>2017-03-03</td>\n",
              "      <td>Standard Class</td>\n",
              "      <td>DB-13060</td>\n",
              "      <td>Dave Brooks</td>\n",
              "      <td>Consumer</td>\n",
              "      <td>United States</td>\n",
              "      <td>Costa Mesa</td>\n",
              "      <td>...</td>\n",
              "      <td>Furniture</td>\n",
              "      <td>Furnishings</td>\n",
              "      <td>Tenex B1-RE Series Chair Mats for Low Pile Car...</td>\n",
              "      <td>91.960</td>\n",
              "      <td>2</td>\n",
              "      <td>0.0</td>\n",
              "      <td>15.6332</td>\n",
              "      <td>2</td>\n",
              "      <td>2017</td>\n",
              "      <td>6</td>\n",
              "    </tr>\n",
              "    <tr>\n",
              "      <th>9991</th>\n",
              "      <td>9992</td>\n",
              "      <td>CA-2017-121258</td>\n",
              "      <td>2017-02-26</td>\n",
              "      <td>2017-03-03</td>\n",
              "      <td>Standard Class</td>\n",
              "      <td>DB-13060</td>\n",
              "      <td>Dave Brooks</td>\n",
              "      <td>Consumer</td>\n",
              "      <td>United States</td>\n",
              "      <td>Costa Mesa</td>\n",
              "      <td>...</td>\n",
              "      <td>Technology</td>\n",
              "      <td>Phones</td>\n",
              "      <td>Aastra 57i VoIP phone</td>\n",
              "      <td>258.576</td>\n",
              "      <td>2</td>\n",
              "      <td>0.2</td>\n",
              "      <td>19.3932</td>\n",
              "      <td>2</td>\n",
              "      <td>2017</td>\n",
              "      <td>6</td>\n",
              "    </tr>\n",
              "    <tr>\n",
              "      <th>9992</th>\n",
              "      <td>9993</td>\n",
              "      <td>CA-2017-121258</td>\n",
              "      <td>2017-02-26</td>\n",
              "      <td>2017-03-03</td>\n",
              "      <td>Standard Class</td>\n",
              "      <td>DB-13060</td>\n",
              "      <td>Dave Brooks</td>\n",
              "      <td>Consumer</td>\n",
              "      <td>United States</td>\n",
              "      <td>Costa Mesa</td>\n",
              "      <td>...</td>\n",
              "      <td>Office Supplies</td>\n",
              "      <td>Paper</td>\n",
              "      <td>It's Hot Message Books with Stickers, 2 3/4\" x 5\"</td>\n",
              "      <td>29.600</td>\n",
              "      <td>4</td>\n",
              "      <td>0.0</td>\n",
              "      <td>13.3200</td>\n",
              "      <td>2</td>\n",
              "      <td>2017</td>\n",
              "      <td>6</td>\n",
              "    </tr>\n",
              "    <tr>\n",
              "      <th>9993</th>\n",
              "      <td>9994</td>\n",
              "      <td>CA-2017-119914</td>\n",
              "      <td>2017-05-04</td>\n",
              "      <td>2017-05-09</td>\n",
              "      <td>Second Class</td>\n",
              "      <td>CC-12220</td>\n",
              "      <td>Chris Cortes</td>\n",
              "      <td>Consumer</td>\n",
              "      <td>United States</td>\n",
              "      <td>Westminster</td>\n",
              "      <td>...</td>\n",
              "      <td>Office Supplies</td>\n",
              "      <td>Appliances</td>\n",
              "      <td>Acco 7-Outlet Masterpiece Power Center, Wihtou...</td>\n",
              "      <td>243.160</td>\n",
              "      <td>2</td>\n",
              "      <td>0.0</td>\n",
              "      <td>72.9480</td>\n",
              "      <td>5</td>\n",
              "      <td>2017</td>\n",
              "      <td>3</td>\n",
              "    </tr>\n",
              "  </tbody>\n",
              "</table>\n",
              "<p>5 rows × 24 columns</p>\n",
              "</div>\n",
              "      <button class=\"colab-df-convert\" onclick=\"convertToInteractive('df-1dcdc692-56d7-4a19-989e-35dafbce9a78')\"\n",
              "              title=\"Convert this dataframe to an interactive table.\"\n",
              "              style=\"display:none;\">\n",
              "        \n",
              "  <svg xmlns=\"http://www.w3.org/2000/svg\" height=\"24px\"viewBox=\"0 0 24 24\"\n",
              "       width=\"24px\">\n",
              "    <path d=\"M0 0h24v24H0V0z\" fill=\"none\"/>\n",
              "    <path d=\"M18.56 5.44l.94 2.06.94-2.06 2.06-.94-2.06-.94-.94-2.06-.94 2.06-2.06.94zm-11 1L8.5 8.5l.94-2.06 2.06-.94-2.06-.94L8.5 2.5l-.94 2.06-2.06.94zm10 10l.94 2.06.94-2.06 2.06-.94-2.06-.94-.94-2.06-.94 2.06-2.06.94z\"/><path d=\"M17.41 7.96l-1.37-1.37c-.4-.4-.92-.59-1.43-.59-.52 0-1.04.2-1.43.59L10.3 9.45l-7.72 7.72c-.78.78-.78 2.05 0 2.83L4 21.41c.39.39.9.59 1.41.59.51 0 1.02-.2 1.41-.59l7.78-7.78 2.81-2.81c.8-.78.8-2.07 0-2.86zM5.41 20L4 18.59l7.72-7.72 1.47 1.35L5.41 20z\"/>\n",
              "  </svg>\n",
              "      </button>\n",
              "      \n",
              "  <style>\n",
              "    .colab-df-container {\n",
              "      display:flex;\n",
              "      flex-wrap:wrap;\n",
              "      gap: 12px;\n",
              "    }\n",
              "\n",
              "    .colab-df-convert {\n",
              "      background-color: #E8F0FE;\n",
              "      border: none;\n",
              "      border-radius: 50%;\n",
              "      cursor: pointer;\n",
              "      display: none;\n",
              "      fill: #1967D2;\n",
              "      height: 32px;\n",
              "      padding: 0 0 0 0;\n",
              "      width: 32px;\n",
              "    }\n",
              "\n",
              "    .colab-df-convert:hover {\n",
              "      background-color: #E2EBFA;\n",
              "      box-shadow: 0px 1px 2px rgba(60, 64, 67, 0.3), 0px 1px 3px 1px rgba(60, 64, 67, 0.15);\n",
              "      fill: #174EA6;\n",
              "    }\n",
              "\n",
              "    [theme=dark] .colab-df-convert {\n",
              "      background-color: #3B4455;\n",
              "      fill: #D2E3FC;\n",
              "    }\n",
              "\n",
              "    [theme=dark] .colab-df-convert:hover {\n",
              "      background-color: #434B5C;\n",
              "      box-shadow: 0px 1px 3px 1px rgba(0, 0, 0, 0.15);\n",
              "      filter: drop-shadow(0px 1px 2px rgba(0, 0, 0, 0.3));\n",
              "      fill: #FFFFFF;\n",
              "    }\n",
              "  </style>\n",
              "\n",
              "      <script>\n",
              "        const buttonEl =\n",
              "          document.querySelector('#df-1dcdc692-56d7-4a19-989e-35dafbce9a78 button.colab-df-convert');\n",
              "        buttonEl.style.display =\n",
              "          google.colab.kernel.accessAllowed ? 'block' : 'none';\n",
              "\n",
              "        async function convertToInteractive(key) {\n",
              "          const element = document.querySelector('#df-1dcdc692-56d7-4a19-989e-35dafbce9a78');\n",
              "          const dataTable =\n",
              "            await google.colab.kernel.invokeFunction('convertToInteractive',\n",
              "                                                     [key], {});\n",
              "          if (!dataTable) return;\n",
              "\n",
              "          const docLinkHtml = 'Like what you see? Visit the ' +\n",
              "            '<a target=\"_blank\" href=https://colab.research.google.com/notebooks/data_table.ipynb>data table notebook</a>'\n",
              "            + ' to learn more about interactive tables.';\n",
              "          element.innerHTML = '';\n",
              "          dataTable['output_type'] = 'display_data';\n",
              "          await google.colab.output.renderOutput(dataTable, element);\n",
              "          const docLink = document.createElement('div');\n",
              "          docLink.innerHTML = docLinkHtml;\n",
              "          element.appendChild(docLink);\n",
              "        }\n",
              "      </script>\n",
              "    </div>\n",
              "  </div>\n",
              "  "
            ]
          },
          "metadata": {},
          "execution_count": 35
        }
      ]
    },
    {
      "cell_type": "code",
      "source": [
        "writer = pd.ExcelWriter('store sales and profit analysis.xlsx')"
      ],
      "metadata": {
        "id": "LZKQQff9CnUA"
      },
      "execution_count": 36,
      "outputs": []
    },
    {
      "cell_type": "code",
      "source": [
        "df.to_excel(writer)"
      ],
      "metadata": {
        "id": "mU_fdLUPDFLm"
      },
      "execution_count": 37,
      "outputs": []
    },
    {
      "cell_type": "code",
      "source": [
        "writer.save()\n",
        "print('DataFrame is written successfully to Excel File.')"
      ],
      "metadata": {
        "colab": {
          "base_uri": "https://localhost:8080/"
        },
        "id": "5NIeg-pCDITX",
        "outputId": "6e82d511-0363-450a-c86e-c7a4b6b70188"
      },
      "execution_count": 38,
      "outputs": [
        {
          "output_type": "stream",
          "name": "stderr",
          "text": [
            "<ipython-input-38-a23b5e58f680>:1: FutureWarning: save is not part of the public API, usage can give unexpected results and will be removed in a future version\n",
            "  writer.save()\n"
          ]
        },
        {
          "output_type": "stream",
          "name": "stdout",
          "text": [
            "DataFrame is written successfully to Excel File.\n"
          ]
        }
      ]
    },
    {
      "cell_type": "markdown",
      "source": [
        "Analyzing the data by data visiualization"
      ],
      "metadata": {
        "id": "7RrW1fFJDrXN"
      }
    },
    {
      "cell_type": "markdown",
      "source": [
        "https://public.tableau.com/views/storesalesandprofitanalysis/Dashboard2?:language=en-GB&publish=yes&:display_count=n&:origin=viz_share_link"
      ],
      "metadata": {
        "id": "0P5gIuOsQ272"
      }
    },
    {
      "cell_type": "markdown",
      "source": [
        "# Summary\n",
        "\n",
        "Store sales and profit analysis help businesses identify areas for improvement and make data-driven decisions to optimize their operations, pricing, marketing, and inventory management strategies to drive revenue and growth. I hope you liked this article on the task of analyzing the sales and profit of a store using Python. Feel free to ask valuable questions in the comments section below."
      ],
      "metadata": {
        "id": "5kr5rYXuQ5YO"
      }
    }
  ]
}