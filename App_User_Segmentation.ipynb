{
  "nbformat": 4,
  "nbformat_minor": 0,
  "metadata": {
    "colab": {
      "provenance": []
    },
    "kernelspec": {
      "name": "python3",
      "display_name": "Python 3"
    },
    "language_info": {
      "name": "python"
    }
  },
  "cells": [
    {
      "cell_type": "markdown",
      "source": [
        "App user segmentation is the task of grouping users based on how they engage with the app. It helps find retained users, find the user segment for a marketing campaign, and solve many other business problems where you need to search for users based on similar characteristics. "
      ],
      "metadata": {
        "id": "ZbIOtGswvKo-"
      }
    },
    {
      "cell_type": "code",
      "execution_count": 2,
      "metadata": {
        "id": "N4oMzuNbu241"
      },
      "outputs": [],
      "source": [
        "import numpy as np\n",
        "import pandas as pd"
      ]
    },
    {
      "cell_type": "code",
      "source": [
        "import zipfile\n",
        "with zipfile.ZipFile('/content/user-behaviour.zip') as zip_file:\n",
        "    file_list = zip_file.namelist()\n",
        "\n",
        "file_list"
      ],
      "metadata": {
        "colab": {
          "base_uri": "https://localhost:8080/"
        },
        "id": "CGzaGyiKvlC4",
        "outputId": "9edb3400-e7dd-465c-8bc1-c935e87bcb46"
      },
      "execution_count": 1,
      "outputs": [
        {
          "output_type": "execute_result",
          "data": {
            "text/plain": [
              "['user behaviour/',\n",
              " 'user behaviour/userbehaviour.csv',\n",
              " '__MACOSX/user behaviour/._userbehaviour.csv']"
            ]
          },
          "metadata": {},
          "execution_count": 1
        }
      ]
    },
    {
      "cell_type": "code",
      "source": [
        "import pandas as pd\n",
        "with zipfile.ZipFile('/content/user-behaviour.zip') as zip_file:\n",
        "    df = pd.read_csv(zip_file.open('user behaviour/userbehaviour.csv'))"
      ],
      "metadata": {
        "id": "pqafUVGxv3z8"
      },
      "execution_count": 3,
      "outputs": []
    },
    {
      "cell_type": "code",
      "source": [
        "df.head()"
      ],
      "metadata": {
        "colab": {
          "base_uri": "https://localhost:8080/",
          "height": 206
        },
        "id": "MxXWwjs2wF3u",
        "outputId": "06f61ab9-1284-41b8-cb45-20372936409a"
      },
      "execution_count": 4,
      "outputs": [
        {
          "output_type": "execute_result",
          "data": {
            "text/plain": [
              "   userid  Average Screen Time  Average Spent on App (INR)  Left Review  \\\n",
              "0    1001                 17.0                       634.0            1   \n",
              "1    1002                  0.0                        54.0            0   \n",
              "2    1003                 37.0                       207.0            0   \n",
              "3    1004                 32.0                       445.0            1   \n",
              "4    1005                 45.0                       427.0            1   \n",
              "\n",
              "   Ratings  New Password Request  Last Visited Minutes       Status  \n",
              "0        9                     7                  2990    Installed  \n",
              "1        4                     8                 24008  Uninstalled  \n",
              "2        8                     5                   971    Installed  \n",
              "3        6                     2                   799    Installed  \n",
              "4        5                     6                  3668    Installed  "
            ],
            "text/html": [
              "\n",
              "  <div id=\"df-76939da6-814d-419f-9d34-31359f456fa2\">\n",
              "    <div class=\"colab-df-container\">\n",
              "      <div>\n",
              "<style scoped>\n",
              "    .dataframe tbody tr th:only-of-type {\n",
              "        vertical-align: middle;\n",
              "    }\n",
              "\n",
              "    .dataframe tbody tr th {\n",
              "        vertical-align: top;\n",
              "    }\n",
              "\n",
              "    .dataframe thead th {\n",
              "        text-align: right;\n",
              "    }\n",
              "</style>\n",
              "<table border=\"1\" class=\"dataframe\">\n",
              "  <thead>\n",
              "    <tr style=\"text-align: right;\">\n",
              "      <th></th>\n",
              "      <th>userid</th>\n",
              "      <th>Average Screen Time</th>\n",
              "      <th>Average Spent on App (INR)</th>\n",
              "      <th>Left Review</th>\n",
              "      <th>Ratings</th>\n",
              "      <th>New Password Request</th>\n",
              "      <th>Last Visited Minutes</th>\n",
              "      <th>Status</th>\n",
              "    </tr>\n",
              "  </thead>\n",
              "  <tbody>\n",
              "    <tr>\n",
              "      <th>0</th>\n",
              "      <td>1001</td>\n",
              "      <td>17.0</td>\n",
              "      <td>634.0</td>\n",
              "      <td>1</td>\n",
              "      <td>9</td>\n",
              "      <td>7</td>\n",
              "      <td>2990</td>\n",
              "      <td>Installed</td>\n",
              "    </tr>\n",
              "    <tr>\n",
              "      <th>1</th>\n",
              "      <td>1002</td>\n",
              "      <td>0.0</td>\n",
              "      <td>54.0</td>\n",
              "      <td>0</td>\n",
              "      <td>4</td>\n",
              "      <td>8</td>\n",
              "      <td>24008</td>\n",
              "      <td>Uninstalled</td>\n",
              "    </tr>\n",
              "    <tr>\n",
              "      <th>2</th>\n",
              "      <td>1003</td>\n",
              "      <td>37.0</td>\n",
              "      <td>207.0</td>\n",
              "      <td>0</td>\n",
              "      <td>8</td>\n",
              "      <td>5</td>\n",
              "      <td>971</td>\n",
              "      <td>Installed</td>\n",
              "    </tr>\n",
              "    <tr>\n",
              "      <th>3</th>\n",
              "      <td>1004</td>\n",
              "      <td>32.0</td>\n",
              "      <td>445.0</td>\n",
              "      <td>1</td>\n",
              "      <td>6</td>\n",
              "      <td>2</td>\n",
              "      <td>799</td>\n",
              "      <td>Installed</td>\n",
              "    </tr>\n",
              "    <tr>\n",
              "      <th>4</th>\n",
              "      <td>1005</td>\n",
              "      <td>45.0</td>\n",
              "      <td>427.0</td>\n",
              "      <td>1</td>\n",
              "      <td>5</td>\n",
              "      <td>6</td>\n",
              "      <td>3668</td>\n",
              "      <td>Installed</td>\n",
              "    </tr>\n",
              "  </tbody>\n",
              "</table>\n",
              "</div>\n",
              "      <button class=\"colab-df-convert\" onclick=\"convertToInteractive('df-76939da6-814d-419f-9d34-31359f456fa2')\"\n",
              "              title=\"Convert this dataframe to an interactive table.\"\n",
              "              style=\"display:none;\">\n",
              "        \n",
              "  <svg xmlns=\"http://www.w3.org/2000/svg\" height=\"24px\"viewBox=\"0 0 24 24\"\n",
              "       width=\"24px\">\n",
              "    <path d=\"M0 0h24v24H0V0z\" fill=\"none\"/>\n",
              "    <path d=\"M18.56 5.44l.94 2.06.94-2.06 2.06-.94-2.06-.94-.94-2.06-.94 2.06-2.06.94zm-11 1L8.5 8.5l.94-2.06 2.06-.94-2.06-.94L8.5 2.5l-.94 2.06-2.06.94zm10 10l.94 2.06.94-2.06 2.06-.94-2.06-.94-.94-2.06-.94 2.06-2.06.94z\"/><path d=\"M17.41 7.96l-1.37-1.37c-.4-.4-.92-.59-1.43-.59-.52 0-1.04.2-1.43.59L10.3 9.45l-7.72 7.72c-.78.78-.78 2.05 0 2.83L4 21.41c.39.39.9.59 1.41.59.51 0 1.02-.2 1.41-.59l7.78-7.78 2.81-2.81c.8-.78.8-2.07 0-2.86zM5.41 20L4 18.59l7.72-7.72 1.47 1.35L5.41 20z\"/>\n",
              "  </svg>\n",
              "      </button>\n",
              "      \n",
              "  <style>\n",
              "    .colab-df-container {\n",
              "      display:flex;\n",
              "      flex-wrap:wrap;\n",
              "      gap: 12px;\n",
              "    }\n",
              "\n",
              "    .colab-df-convert {\n",
              "      background-color: #E8F0FE;\n",
              "      border: none;\n",
              "      border-radius: 50%;\n",
              "      cursor: pointer;\n",
              "      display: none;\n",
              "      fill: #1967D2;\n",
              "      height: 32px;\n",
              "      padding: 0 0 0 0;\n",
              "      width: 32px;\n",
              "    }\n",
              "\n",
              "    .colab-df-convert:hover {\n",
              "      background-color: #E2EBFA;\n",
              "      box-shadow: 0px 1px 2px rgba(60, 64, 67, 0.3), 0px 1px 3px 1px rgba(60, 64, 67, 0.15);\n",
              "      fill: #174EA6;\n",
              "    }\n",
              "\n",
              "    [theme=dark] .colab-df-convert {\n",
              "      background-color: #3B4455;\n",
              "      fill: #D2E3FC;\n",
              "    }\n",
              "\n",
              "    [theme=dark] .colab-df-convert:hover {\n",
              "      background-color: #434B5C;\n",
              "      box-shadow: 0px 1px 3px 1px rgba(0, 0, 0, 0.15);\n",
              "      filter: drop-shadow(0px 1px 2px rgba(0, 0, 0, 0.3));\n",
              "      fill: #FFFFFF;\n",
              "    }\n",
              "  </style>\n",
              "\n",
              "      <script>\n",
              "        const buttonEl =\n",
              "          document.querySelector('#df-76939da6-814d-419f-9d34-31359f456fa2 button.colab-df-convert');\n",
              "        buttonEl.style.display =\n",
              "          google.colab.kernel.accessAllowed ? 'block' : 'none';\n",
              "\n",
              "        async function convertToInteractive(key) {\n",
              "          const element = document.querySelector('#df-76939da6-814d-419f-9d34-31359f456fa2');\n",
              "          const dataTable =\n",
              "            await google.colab.kernel.invokeFunction('convertToInteractive',\n",
              "                                                     [key], {});\n",
              "          if (!dataTable) return;\n",
              "\n",
              "          const docLinkHtml = 'Like what you see? Visit the ' +\n",
              "            '<a target=\"_blank\" href=https://colab.research.google.com/notebooks/data_table.ipynb>data table notebook</a>'\n",
              "            + ' to learn more about interactive tables.';\n",
              "          element.innerHTML = '';\n",
              "          dataTable['output_type'] = 'display_data';\n",
              "          await google.colab.output.renderOutput(dataTable, element);\n",
              "          const docLink = document.createElement('div');\n",
              "          docLink.innerHTML = docLinkHtml;\n",
              "          element.appendChild(docLink);\n",
              "        }\n",
              "      </script>\n",
              "    </div>\n",
              "  </div>\n",
              "  "
            ]
          },
          "metadata": {},
          "execution_count": 4
        }
      ]
    },
    {
      "cell_type": "code",
      "source": [
        "df.shape"
      ],
      "metadata": {
        "colab": {
          "base_uri": "https://localhost:8080/"
        },
        "id": "VNM80AWWwlKJ",
        "outputId": "e4b88b65-92f5-47d0-fe6a-2da19456cd94"
      },
      "execution_count": 5,
      "outputs": [
        {
          "output_type": "execute_result",
          "data": {
            "text/plain": [
              "(999, 8)"
            ]
          },
          "metadata": {},
          "execution_count": 5
        }
      ]
    },
    {
      "cell_type": "code",
      "source": [
        "df.isna().sum()"
      ],
      "metadata": {
        "colab": {
          "base_uri": "https://localhost:8080/"
        },
        "id": "sSDhKlbkwWg3",
        "outputId": "faf54226-0321-4fd2-c2f2-7b723f1d0bae"
      },
      "execution_count": 6,
      "outputs": [
        {
          "output_type": "execute_result",
          "data": {
            "text/plain": [
              "userid                        0\n",
              "Average Screen Time           0\n",
              "Average Spent on App (INR)    0\n",
              "Left Review                   0\n",
              "Ratings                       0\n",
              "New Password Request          0\n",
              "Last Visited Minutes          0\n",
              "Status                        0\n",
              "dtype: int64"
            ]
          },
          "metadata": {},
          "execution_count": 6
        }
      ]
    },
    {
      "cell_type": "code",
      "source": [
        "df.describe()"
      ],
      "metadata": {
        "colab": {
          "base_uri": "https://localhost:8080/",
          "height": 300
        },
        "id": "1TgxpPnvwQKx",
        "outputId": "4f69bc9b-f637-4809-fd23-7af7c80da964"
      },
      "execution_count": 7,
      "outputs": [
        {
          "output_type": "execute_result",
          "data": {
            "text/plain": [
              "            userid  Average Screen Time  Average Spent on App (INR)  \\\n",
              "count   999.000000           999.000000                  999.000000   \n",
              "mean   1500.000000            24.390390                  424.415415   \n",
              "std     288.530761            14.235415                  312.365695   \n",
              "min    1001.000000             0.000000                    0.000000   \n",
              "25%    1250.500000            12.000000                   96.000000   \n",
              "50%    1500.000000            24.000000                  394.000000   \n",
              "75%    1749.500000            36.000000                  717.500000   \n",
              "max    1999.000000            50.000000                  998.000000   \n",
              "\n",
              "       Left Review     Ratings  New Password Request  Last Visited Minutes  \n",
              "count   999.000000  999.000000            999.000000            999.000000  \n",
              "mean      0.497497    6.513514              4.941942           5110.898899  \n",
              "std       0.500244    2.701511              2.784626           8592.036516  \n",
              "min       0.000000    0.000000              1.000000            201.000000  \n",
              "25%       0.000000    5.000000              3.000000           1495.500000  \n",
              "50%       0.000000    7.000000              5.000000           2865.000000  \n",
              "75%       1.000000    9.000000              7.000000           4198.000000  \n",
              "max       1.000000   10.000000             15.000000          49715.000000  "
            ],
            "text/html": [
              "\n",
              "  <div id=\"df-08f212f1-a02b-4fdd-838a-6dfc0e11104c\">\n",
              "    <div class=\"colab-df-container\">\n",
              "      <div>\n",
              "<style scoped>\n",
              "    .dataframe tbody tr th:only-of-type {\n",
              "        vertical-align: middle;\n",
              "    }\n",
              "\n",
              "    .dataframe tbody tr th {\n",
              "        vertical-align: top;\n",
              "    }\n",
              "\n",
              "    .dataframe thead th {\n",
              "        text-align: right;\n",
              "    }\n",
              "</style>\n",
              "<table border=\"1\" class=\"dataframe\">\n",
              "  <thead>\n",
              "    <tr style=\"text-align: right;\">\n",
              "      <th></th>\n",
              "      <th>userid</th>\n",
              "      <th>Average Screen Time</th>\n",
              "      <th>Average Spent on App (INR)</th>\n",
              "      <th>Left Review</th>\n",
              "      <th>Ratings</th>\n",
              "      <th>New Password Request</th>\n",
              "      <th>Last Visited Minutes</th>\n",
              "    </tr>\n",
              "  </thead>\n",
              "  <tbody>\n",
              "    <tr>\n",
              "      <th>count</th>\n",
              "      <td>999.000000</td>\n",
              "      <td>999.000000</td>\n",
              "      <td>999.000000</td>\n",
              "      <td>999.000000</td>\n",
              "      <td>999.000000</td>\n",
              "      <td>999.000000</td>\n",
              "      <td>999.000000</td>\n",
              "    </tr>\n",
              "    <tr>\n",
              "      <th>mean</th>\n",
              "      <td>1500.000000</td>\n",
              "      <td>24.390390</td>\n",
              "      <td>424.415415</td>\n",
              "      <td>0.497497</td>\n",
              "      <td>6.513514</td>\n",
              "      <td>4.941942</td>\n",
              "      <td>5110.898899</td>\n",
              "    </tr>\n",
              "    <tr>\n",
              "      <th>std</th>\n",
              "      <td>288.530761</td>\n",
              "      <td>14.235415</td>\n",
              "      <td>312.365695</td>\n",
              "      <td>0.500244</td>\n",
              "      <td>2.701511</td>\n",
              "      <td>2.784626</td>\n",
              "      <td>8592.036516</td>\n",
              "    </tr>\n",
              "    <tr>\n",
              "      <th>min</th>\n",
              "      <td>1001.000000</td>\n",
              "      <td>0.000000</td>\n",
              "      <td>0.000000</td>\n",
              "      <td>0.000000</td>\n",
              "      <td>0.000000</td>\n",
              "      <td>1.000000</td>\n",
              "      <td>201.000000</td>\n",
              "    </tr>\n",
              "    <tr>\n",
              "      <th>25%</th>\n",
              "      <td>1250.500000</td>\n",
              "      <td>12.000000</td>\n",
              "      <td>96.000000</td>\n",
              "      <td>0.000000</td>\n",
              "      <td>5.000000</td>\n",
              "      <td>3.000000</td>\n",
              "      <td>1495.500000</td>\n",
              "    </tr>\n",
              "    <tr>\n",
              "      <th>50%</th>\n",
              "      <td>1500.000000</td>\n",
              "      <td>24.000000</td>\n",
              "      <td>394.000000</td>\n",
              "      <td>0.000000</td>\n",
              "      <td>7.000000</td>\n",
              "      <td>5.000000</td>\n",
              "      <td>2865.000000</td>\n",
              "    </tr>\n",
              "    <tr>\n",
              "      <th>75%</th>\n",
              "      <td>1749.500000</td>\n",
              "      <td>36.000000</td>\n",
              "      <td>717.500000</td>\n",
              "      <td>1.000000</td>\n",
              "      <td>9.000000</td>\n",
              "      <td>7.000000</td>\n",
              "      <td>4198.000000</td>\n",
              "    </tr>\n",
              "    <tr>\n",
              "      <th>max</th>\n",
              "      <td>1999.000000</td>\n",
              "      <td>50.000000</td>\n",
              "      <td>998.000000</td>\n",
              "      <td>1.000000</td>\n",
              "      <td>10.000000</td>\n",
              "      <td>15.000000</td>\n",
              "      <td>49715.000000</td>\n",
              "    </tr>\n",
              "  </tbody>\n",
              "</table>\n",
              "</div>\n",
              "      <button class=\"colab-df-convert\" onclick=\"convertToInteractive('df-08f212f1-a02b-4fdd-838a-6dfc0e11104c')\"\n",
              "              title=\"Convert this dataframe to an interactive table.\"\n",
              "              style=\"display:none;\">\n",
              "        \n",
              "  <svg xmlns=\"http://www.w3.org/2000/svg\" height=\"24px\"viewBox=\"0 0 24 24\"\n",
              "       width=\"24px\">\n",
              "    <path d=\"M0 0h24v24H0V0z\" fill=\"none\"/>\n",
              "    <path d=\"M18.56 5.44l.94 2.06.94-2.06 2.06-.94-2.06-.94-.94-2.06-.94 2.06-2.06.94zm-11 1L8.5 8.5l.94-2.06 2.06-.94-2.06-.94L8.5 2.5l-.94 2.06-2.06.94zm10 10l.94 2.06.94-2.06 2.06-.94-2.06-.94-.94-2.06-.94 2.06-2.06.94z\"/><path d=\"M17.41 7.96l-1.37-1.37c-.4-.4-.92-.59-1.43-.59-.52 0-1.04.2-1.43.59L10.3 9.45l-7.72 7.72c-.78.78-.78 2.05 0 2.83L4 21.41c.39.39.9.59 1.41.59.51 0 1.02-.2 1.41-.59l7.78-7.78 2.81-2.81c.8-.78.8-2.07 0-2.86zM5.41 20L4 18.59l7.72-7.72 1.47 1.35L5.41 20z\"/>\n",
              "  </svg>\n",
              "      </button>\n",
              "      \n",
              "  <style>\n",
              "    .colab-df-container {\n",
              "      display:flex;\n",
              "      flex-wrap:wrap;\n",
              "      gap: 12px;\n",
              "    }\n",
              "\n",
              "    .colab-df-convert {\n",
              "      background-color: #E8F0FE;\n",
              "      border: none;\n",
              "      border-radius: 50%;\n",
              "      cursor: pointer;\n",
              "      display: none;\n",
              "      fill: #1967D2;\n",
              "      height: 32px;\n",
              "      padding: 0 0 0 0;\n",
              "      width: 32px;\n",
              "    }\n",
              "\n",
              "    .colab-df-convert:hover {\n",
              "      background-color: #E2EBFA;\n",
              "      box-shadow: 0px 1px 2px rgba(60, 64, 67, 0.3), 0px 1px 3px 1px rgba(60, 64, 67, 0.15);\n",
              "      fill: #174EA6;\n",
              "    }\n",
              "\n",
              "    [theme=dark] .colab-df-convert {\n",
              "      background-color: #3B4455;\n",
              "      fill: #D2E3FC;\n",
              "    }\n",
              "\n",
              "    [theme=dark] .colab-df-convert:hover {\n",
              "      background-color: #434B5C;\n",
              "      box-shadow: 0px 1px 3px 1px rgba(0, 0, 0, 0.15);\n",
              "      filter: drop-shadow(0px 1px 2px rgba(0, 0, 0, 0.3));\n",
              "      fill: #FFFFFF;\n",
              "    }\n",
              "  </style>\n",
              "\n",
              "      <script>\n",
              "        const buttonEl =\n",
              "          document.querySelector('#df-08f212f1-a02b-4fdd-838a-6dfc0e11104c button.colab-df-convert');\n",
              "        buttonEl.style.display =\n",
              "          google.colab.kernel.accessAllowed ? 'block' : 'none';\n",
              "\n",
              "        async function convertToInteractive(key) {\n",
              "          const element = document.querySelector('#df-08f212f1-a02b-4fdd-838a-6dfc0e11104c');\n",
              "          const dataTable =\n",
              "            await google.colab.kernel.invokeFunction('convertToInteractive',\n",
              "                                                     [key], {});\n",
              "          if (!dataTable) return;\n",
              "\n",
              "          const docLinkHtml = 'Like what you see? Visit the ' +\n",
              "            '<a target=\"_blank\" href=https://colab.research.google.com/notebooks/data_table.ipynb>data table notebook</a>'\n",
              "            + ' to learn more about interactive tables.';\n",
              "          element.innerHTML = '';\n",
              "          dataTable['output_type'] = 'display_data';\n",
              "          await google.colab.output.renderOutput(dataTable, element);\n",
              "          const docLink = document.createElement('div');\n",
              "          docLink.innerHTML = docLinkHtml;\n",
              "          element.appendChild(docLink);\n",
              "        }\n",
              "      </script>\n",
              "    </div>\n",
              "  </div>\n",
              "  "
            ]
          },
          "metadata": {},
          "execution_count": 7
        }
      ]
    },
    {
      "cell_type": "code",
      "source": [
        "df.info()"
      ],
      "metadata": {
        "colab": {
          "base_uri": "https://localhost:8080/"
        },
        "id": "5M6sne2cwTqf",
        "outputId": "034b1dda-838d-49c5-ab79-5a58f1ba88d1"
      },
      "execution_count": 8,
      "outputs": [
        {
          "output_type": "stream",
          "name": "stdout",
          "text": [
            "<class 'pandas.core.frame.DataFrame'>\n",
            "RangeIndex: 999 entries, 0 to 998\n",
            "Data columns (total 8 columns):\n",
            " #   Column                      Non-Null Count  Dtype  \n",
            "---  ------                      --------------  -----  \n",
            " 0   userid                      999 non-null    int64  \n",
            " 1   Average Screen Time         999 non-null    float64\n",
            " 2   Average Spent on App (INR)  999 non-null    float64\n",
            " 3   Left Review                 999 non-null    int64  \n",
            " 4   Ratings                     999 non-null    int64  \n",
            " 5   New Password Request        999 non-null    int64  \n",
            " 6   Last Visited Minutes        999 non-null    int64  \n",
            " 7   Status                      999 non-null    object \n",
            "dtypes: float64(2), int64(5), object(1)\n",
            "memory usage: 62.6+ KB\n"
          ]
        }
      ]
    },
    {
      "cell_type": "code",
      "source": [
        "df['Status'].value_counts()"
      ],
      "metadata": {
        "colab": {
          "base_uri": "https://localhost:8080/"
        },
        "id": "6z-9yZxxLGST",
        "outputId": "21dec548-6dd3-4f31-f785-76c7023b8897"
      },
      "execution_count": 9,
      "outputs": [
        {
          "output_type": "execute_result",
          "data": {
            "text/plain": [
              "Installed      916\n",
              "Uninstalled     83\n",
              "Name: Status, dtype: int64"
            ]
          },
          "metadata": {},
          "execution_count": 9
        }
      ]
    },
    {
      "cell_type": "markdown",
      "source": [
        "Let’s start by looking at the highest, lowest, and average screen time of all the users:\n",
        "\n"
      ],
      "metadata": {
        "id": "DuLQnf-XMid3"
      }
    },
    {
      "cell_type": "code",
      "source": [
        "print(f'Average screen time : {df[\"Average Screen Time\"].mean()}')\n",
        "print(f'Maximum screen time : {df[\"Average Screen Time\"].max()}')\n",
        "print(f'Minimum screen time : {df[\"Average Screen Time\"].min()}')"
      ],
      "metadata": {
        "colab": {
          "base_uri": "https://localhost:8080/"
        },
        "id": "oJVO6i0NLzIE",
        "outputId": "8d6e5808-9df3-4b4a-ddc1-c15e1c9fc165"
      },
      "execution_count": 17,
      "outputs": [
        {
          "output_type": "stream",
          "name": "stdout",
          "text": [
            "Average screen time : 24.39039039039039\n",
            "Maximum screen time : 50.0\n",
            "Minimum screen time : 0.0\n"
          ]
        }
      ]
    },
    {
      "cell_type": "markdown",
      "source": [
        "Now let’s have a look at the highest, lowest, and the average amount spent by all the users:\n",
        "\n"
      ],
      "metadata": {
        "id": "eXI4v5OPMfjE"
      }
    },
    {
      "cell_type": "code",
      "source": [
        "print(f'Average spend of user : {df[\"Average Spent on App (INR)\"].mean()}')\n",
        "print(f'Maximum spend of user : {df[\"Average Spent on App (INR)\"].max()}')\n",
        "print(f'Minimum spend of user : {df[\"Average Spent on App (INR)\"].min()}')"
      ],
      "metadata": {
        "colab": {
          "base_uri": "https://localhost:8080/"
        },
        "id": "BCJL7-XnMZ2F",
        "outputId": "eea26aa2-9c9c-45dc-ca13-fd8b68a00367"
      },
      "execution_count": 18,
      "outputs": [
        {
          "output_type": "stream",
          "name": "stdout",
          "text": [
            "Average spend of user : 424.4154154154154\n",
            "Maximum spend of user : 998.0\n",
            "Minimum spend of user : 0.0\n"
          ]
        }
      ]
    },
    {
      "cell_type": "markdown",
      "source": [
        "Now let’s move forward to App User segmentation to find the users that the app retained and lost forever. I will be using the K-means clustering algorithm in Machine Learning for this task:"
      ],
      "metadata": {
        "id": "wdOqgxpNQH2-"
      }
    },
    {
      "cell_type": "code",
      "source": [
        "df.columns"
      ],
      "metadata": {
        "colab": {
          "base_uri": "https://localhost:8080/"
        },
        "id": "97ZAYBj_QPla",
        "outputId": "593bfa15-7a4a-4865-de68-e3c630f7cf43"
      },
      "execution_count": 23,
      "outputs": [
        {
          "output_type": "execute_result",
          "data": {
            "text/plain": [
              "Index(['userid', 'Average Screen Time', 'Average Spent on App (INR)',\n",
              "       'Left Review', 'Ratings', 'New Password Request',\n",
              "       'Last Visited Minutes', 'Status'],\n",
              "      dtype='object')"
            ]
          },
          "metadata": {},
          "execution_count": 23
        }
      ]
    },
    {
      "cell_type": "code",
      "source": [
        "clustering_data = df[['Average Screen Time', 'Average Spent on App (INR)','Left Review', 'Ratings', 'New Password Request','Last Visited Minutes']]"
      ],
      "metadata": {
        "id": "4ORu7afwQKTZ"
      },
      "execution_count": 24,
      "outputs": []
    },
    {
      "cell_type": "code",
      "source": [
        "from sklearn.preprocessing import MinMaxScaler\n",
        "for i in clustering_data.columns:\n",
        "    MinMaxScaler(i)"
      ],
      "metadata": {
        "id": "-hMfVtU7RDY_"
      },
      "execution_count": 27,
      "outputs": []
    },
    {
      "cell_type": "code",
      "source": [
        "from sklearn.cluster import KMeans\n",
        "kmeans = KMeans(n_clusters=3)\n",
        "clusters = kmeans.fit_predict(clustering_data)\n",
        "df[\"Segments\"] = clusters"
      ],
      "metadata": {
        "colab": {
          "base_uri": "https://localhost:8080/"
        },
        "id": "4VcvIxs-RPyi",
        "outputId": "36095a8f-a5ae-483b-c947-b1a4e65a693a"
      },
      "execution_count": 28,
      "outputs": [
        {
          "output_type": "stream",
          "name": "stderr",
          "text": [
            "/usr/local/lib/python3.10/dist-packages/sklearn/cluster/_kmeans.py:870: FutureWarning: The default value of `n_init` will change from 10 to 'auto' in 1.4. Set the value of `n_init` explicitly to suppress the warning\n",
            "  warnings.warn(\n"
          ]
        }
      ]
    },
    {
      "cell_type": "code",
      "source": [
        "df.head(10)"
      ],
      "metadata": {
        "colab": {
          "base_uri": "https://localhost:8080/",
          "height": 363
        },
        "id": "AZ1uXlNlRX5U",
        "outputId": "bb48ae1a-d97b-412f-8867-e112c43f71ee"
      },
      "execution_count": 30,
      "outputs": [
        {
          "output_type": "execute_result",
          "data": {
            "text/plain": [
              "   userid  Average Screen Time  Average Spent on App (INR)  Left Review  \\\n",
              "0    1001                 17.0                       634.0            1   \n",
              "1    1002                  0.0                        54.0            0   \n",
              "2    1003                 37.0                       207.0            0   \n",
              "3    1004                 32.0                       445.0            1   \n",
              "4    1005                 45.0                       427.0            1   \n",
              "5    1006                 28.0                       599.0            0   \n",
              "6    1007                 49.0                       887.0            1   \n",
              "7    1008                  8.0                        31.0            0   \n",
              "8    1009                 28.0                       741.0            1   \n",
              "9    1010                 28.0                       524.0            1   \n",
              "\n",
              "   Ratings  New Password Request  Last Visited Minutes       Status  Segments  \n",
              "0        9                     7                  2990    Installed         1  \n",
              "1        4                     8                 24008  Uninstalled         2  \n",
              "2        8                     5                   971    Installed         1  \n",
              "3        6                     2                   799    Installed         1  \n",
              "4        5                     6                  3668    Installed         1  \n",
              "5        9                     4                  2878    Installed         1  \n",
              "6        9                     6                  4481    Installed         1  \n",
              "7        2                     1                  1715    Installed         1  \n",
              "8        8                     2                   801    Installed         1  \n",
              "9        8                     4                  4621    Installed         1  "
            ],
            "text/html": [
              "\n",
              "  <div id=\"df-a88819c3-0411-4055-9b03-c1af5180470f\">\n",
              "    <div class=\"colab-df-container\">\n",
              "      <div>\n",
              "<style scoped>\n",
              "    .dataframe tbody tr th:only-of-type {\n",
              "        vertical-align: middle;\n",
              "    }\n",
              "\n",
              "    .dataframe tbody tr th {\n",
              "        vertical-align: top;\n",
              "    }\n",
              "\n",
              "    .dataframe thead th {\n",
              "        text-align: right;\n",
              "    }\n",
              "</style>\n",
              "<table border=\"1\" class=\"dataframe\">\n",
              "  <thead>\n",
              "    <tr style=\"text-align: right;\">\n",
              "      <th></th>\n",
              "      <th>userid</th>\n",
              "      <th>Average Screen Time</th>\n",
              "      <th>Average Spent on App (INR)</th>\n",
              "      <th>Left Review</th>\n",
              "      <th>Ratings</th>\n",
              "      <th>New Password Request</th>\n",
              "      <th>Last Visited Minutes</th>\n",
              "      <th>Status</th>\n",
              "      <th>Segments</th>\n",
              "    </tr>\n",
              "  </thead>\n",
              "  <tbody>\n",
              "    <tr>\n",
              "      <th>0</th>\n",
              "      <td>1001</td>\n",
              "      <td>17.0</td>\n",
              "      <td>634.0</td>\n",
              "      <td>1</td>\n",
              "      <td>9</td>\n",
              "      <td>7</td>\n",
              "      <td>2990</td>\n",
              "      <td>Installed</td>\n",
              "      <td>1</td>\n",
              "    </tr>\n",
              "    <tr>\n",
              "      <th>1</th>\n",
              "      <td>1002</td>\n",
              "      <td>0.0</td>\n",
              "      <td>54.0</td>\n",
              "      <td>0</td>\n",
              "      <td>4</td>\n",
              "      <td>8</td>\n",
              "      <td>24008</td>\n",
              "      <td>Uninstalled</td>\n",
              "      <td>2</td>\n",
              "    </tr>\n",
              "    <tr>\n",
              "      <th>2</th>\n",
              "      <td>1003</td>\n",
              "      <td>37.0</td>\n",
              "      <td>207.0</td>\n",
              "      <td>0</td>\n",
              "      <td>8</td>\n",
              "      <td>5</td>\n",
              "      <td>971</td>\n",
              "      <td>Installed</td>\n",
              "      <td>1</td>\n",
              "    </tr>\n",
              "    <tr>\n",
              "      <th>3</th>\n",
              "      <td>1004</td>\n",
              "      <td>32.0</td>\n",
              "      <td>445.0</td>\n",
              "      <td>1</td>\n",
              "      <td>6</td>\n",
              "      <td>2</td>\n",
              "      <td>799</td>\n",
              "      <td>Installed</td>\n",
              "      <td>1</td>\n",
              "    </tr>\n",
              "    <tr>\n",
              "      <th>4</th>\n",
              "      <td>1005</td>\n",
              "      <td>45.0</td>\n",
              "      <td>427.0</td>\n",
              "      <td>1</td>\n",
              "      <td>5</td>\n",
              "      <td>6</td>\n",
              "      <td>3668</td>\n",
              "      <td>Installed</td>\n",
              "      <td>1</td>\n",
              "    </tr>\n",
              "    <tr>\n",
              "      <th>5</th>\n",
              "      <td>1006</td>\n",
              "      <td>28.0</td>\n",
              "      <td>599.0</td>\n",
              "      <td>0</td>\n",
              "      <td>9</td>\n",
              "      <td>4</td>\n",
              "      <td>2878</td>\n",
              "      <td>Installed</td>\n",
              "      <td>1</td>\n",
              "    </tr>\n",
              "    <tr>\n",
              "      <th>6</th>\n",
              "      <td>1007</td>\n",
              "      <td>49.0</td>\n",
              "      <td>887.0</td>\n",
              "      <td>1</td>\n",
              "      <td>9</td>\n",
              "      <td>6</td>\n",
              "      <td>4481</td>\n",
              "      <td>Installed</td>\n",
              "      <td>1</td>\n",
              "    </tr>\n",
              "    <tr>\n",
              "      <th>7</th>\n",
              "      <td>1008</td>\n",
              "      <td>8.0</td>\n",
              "      <td>31.0</td>\n",
              "      <td>0</td>\n",
              "      <td>2</td>\n",
              "      <td>1</td>\n",
              "      <td>1715</td>\n",
              "      <td>Installed</td>\n",
              "      <td>1</td>\n",
              "    </tr>\n",
              "    <tr>\n",
              "      <th>8</th>\n",
              "      <td>1009</td>\n",
              "      <td>28.0</td>\n",
              "      <td>741.0</td>\n",
              "      <td>1</td>\n",
              "      <td>8</td>\n",
              "      <td>2</td>\n",
              "      <td>801</td>\n",
              "      <td>Installed</td>\n",
              "      <td>1</td>\n",
              "    </tr>\n",
              "    <tr>\n",
              "      <th>9</th>\n",
              "      <td>1010</td>\n",
              "      <td>28.0</td>\n",
              "      <td>524.0</td>\n",
              "      <td>1</td>\n",
              "      <td>8</td>\n",
              "      <td>4</td>\n",
              "      <td>4621</td>\n",
              "      <td>Installed</td>\n",
              "      <td>1</td>\n",
              "    </tr>\n",
              "  </tbody>\n",
              "</table>\n",
              "</div>\n",
              "      <button class=\"colab-df-convert\" onclick=\"convertToInteractive('df-a88819c3-0411-4055-9b03-c1af5180470f')\"\n",
              "              title=\"Convert this dataframe to an interactive table.\"\n",
              "              style=\"display:none;\">\n",
              "        \n",
              "  <svg xmlns=\"http://www.w3.org/2000/svg\" height=\"24px\"viewBox=\"0 0 24 24\"\n",
              "       width=\"24px\">\n",
              "    <path d=\"M0 0h24v24H0V0z\" fill=\"none\"/>\n",
              "    <path d=\"M18.56 5.44l.94 2.06.94-2.06 2.06-.94-2.06-.94-.94-2.06-.94 2.06-2.06.94zm-11 1L8.5 8.5l.94-2.06 2.06-.94-2.06-.94L8.5 2.5l-.94 2.06-2.06.94zm10 10l.94 2.06.94-2.06 2.06-.94-2.06-.94-.94-2.06-.94 2.06-2.06.94z\"/><path d=\"M17.41 7.96l-1.37-1.37c-.4-.4-.92-.59-1.43-.59-.52 0-1.04.2-1.43.59L10.3 9.45l-7.72 7.72c-.78.78-.78 2.05 0 2.83L4 21.41c.39.39.9.59 1.41.59.51 0 1.02-.2 1.41-.59l7.78-7.78 2.81-2.81c.8-.78.8-2.07 0-2.86zM5.41 20L4 18.59l7.72-7.72 1.47 1.35L5.41 20z\"/>\n",
              "  </svg>\n",
              "      </button>\n",
              "      \n",
              "  <style>\n",
              "    .colab-df-container {\n",
              "      display:flex;\n",
              "      flex-wrap:wrap;\n",
              "      gap: 12px;\n",
              "    }\n",
              "\n",
              "    .colab-df-convert {\n",
              "      background-color: #E8F0FE;\n",
              "      border: none;\n",
              "      border-radius: 50%;\n",
              "      cursor: pointer;\n",
              "      display: none;\n",
              "      fill: #1967D2;\n",
              "      height: 32px;\n",
              "      padding: 0 0 0 0;\n",
              "      width: 32px;\n",
              "    }\n",
              "\n",
              "    .colab-df-convert:hover {\n",
              "      background-color: #E2EBFA;\n",
              "      box-shadow: 0px 1px 2px rgba(60, 64, 67, 0.3), 0px 1px 3px 1px rgba(60, 64, 67, 0.15);\n",
              "      fill: #174EA6;\n",
              "    }\n",
              "\n",
              "    [theme=dark] .colab-df-convert {\n",
              "      background-color: #3B4455;\n",
              "      fill: #D2E3FC;\n",
              "    }\n",
              "\n",
              "    [theme=dark] .colab-df-convert:hover {\n",
              "      background-color: #434B5C;\n",
              "      box-shadow: 0px 1px 3px 1px rgba(0, 0, 0, 0.15);\n",
              "      filter: drop-shadow(0px 1px 2px rgba(0, 0, 0, 0.3));\n",
              "      fill: #FFFFFF;\n",
              "    }\n",
              "  </style>\n",
              "\n",
              "      <script>\n",
              "        const buttonEl =\n",
              "          document.querySelector('#df-a88819c3-0411-4055-9b03-c1af5180470f button.colab-df-convert');\n",
              "        buttonEl.style.display =\n",
              "          google.colab.kernel.accessAllowed ? 'block' : 'none';\n",
              "\n",
              "        async function convertToInteractive(key) {\n",
              "          const element = document.querySelector('#df-a88819c3-0411-4055-9b03-c1af5180470f');\n",
              "          const dataTable =\n",
              "            await google.colab.kernel.invokeFunction('convertToInteractive',\n",
              "                                                     [key], {});\n",
              "          if (!dataTable) return;\n",
              "\n",
              "          const docLinkHtml = 'Like what you see? Visit the ' +\n",
              "            '<a target=\"_blank\" href=https://colab.research.google.com/notebooks/data_table.ipynb>data table notebook</a>'\n",
              "            + ' to learn more about interactive tables.';\n",
              "          element.innerHTML = '';\n",
              "          dataTable['output_type'] = 'display_data';\n",
              "          await google.colab.output.renderOutput(dataTable, element);\n",
              "          const docLink = document.createElement('div');\n",
              "          docLink.innerHTML = docLinkHtml;\n",
              "          element.appendChild(docLink);\n",
              "        }\n",
              "      </script>\n",
              "    </div>\n",
              "  </div>\n",
              "  "
            ]
          },
          "metadata": {},
          "execution_count": 30
        }
      ]
    },
    {
      "cell_type": "code",
      "source": [
        "df['Segments'].value_counts()"
      ],
      "metadata": {
        "colab": {
          "base_uri": "https://localhost:8080/"
        },
        "id": "m632xFe9RfcI",
        "outputId": "7a6d7720-4517-4a94-b7d2-443333aa4527"
      },
      "execution_count": 31,
      "outputs": [
        {
          "output_type": "execute_result",
          "data": {
            "text/plain": [
              "1    910\n",
              "0     45\n",
              "2     44\n",
              "Name: Segments, dtype: int64"
            ]
          },
          "metadata": {},
          "execution_count": 31
        }
      ]
    },
    {
      "cell_type": "code",
      "source": [
        "df[\"Segments\"].replace([0,1,2],[\"Retained\",\"Churn\",\"Needs Attention\"],inplace=True)"
      ],
      "metadata": {
        "id": "PkFno9YERs6S"
      },
      "execution_count": 32,
      "outputs": []
    },
    {
      "cell_type": "code",
      "source": [
        "df['Segments'].value_counts()"
      ],
      "metadata": {
        "colab": {
          "base_uri": "https://localhost:8080/"
        },
        "id": "Fhpg7t4ySFGB",
        "outputId": "c8090c0e-a16a-4a33-e07d-e1a91c83200f"
      },
      "execution_count": 33,
      "outputs": [
        {
          "output_type": "execute_result",
          "data": {
            "text/plain": [
              "Churn              910\n",
              "Retained            45\n",
              "Needs Attention     44\n",
              "Name: Segments, dtype: int64"
            ]
          },
          "metadata": {},
          "execution_count": 33
        }
      ]
    },
    {
      "cell_type": "code",
      "source": [
        "import plotly.graph_objects as go\n",
        "import plotly.express as px\n",
        "import plotly.io as pio"
      ],
      "metadata": {
        "id": "R5bykJ36TY6J"
      },
      "execution_count": 43,
      "outputs": []
    },
    {
      "cell_type": "code",
      "source": [
        "PLOT = go.Figure()\n",
        "for i in list(df[\"Segments\"].unique()):\n",
        "    \n",
        "\n",
        "    PLOT.add_trace(go.Scatter(x = df[df[\"Segments\"]== i]['Last Visited Minutes'],y = df[df[\"Segments\"] == i]['Average Spent on App (INR)'],\n",
        "                                mode = 'markers',marker_size = 6, marker_line_width = 1,\n",
        "                                name = str(i)))\n",
        "    \n",
        "PLOT.update_traces(hovertemplate='Last Visited Minutes: %{x} <br>Average Spent on App (INR): %{y}')\n",
        "\n",
        "    \n",
        "PLOT.update_layout(width = 800, height = 800, autosize = True, showlegend = True,\n",
        "                   yaxis_title = 'Average Spent on App (INR)',\n",
        "                   xaxis_title = 'Last Visited Minutes',\n",
        "                   scene = dict(xaxis=dict(title = 'Last Visited Minutes', titlefont_color = 'black'),\n",
        "                                yaxis=dict(title = 'Average Spent on App (INR)', titlefont_color = 'black')))"
      ],
      "metadata": {
        "colab": {
          "base_uri": "https://localhost:8080/",
          "height": 817
        },
        "id": "xmRX3JJuTMdg",
        "outputId": "3916d177-2051-429e-bf47-f0e377524784"
      },
      "execution_count": 45,
      "outputs": [
        {
          "output_type": "display_data",
          "data": {
            "text/html": [
              "<html>\n",
              "<head><meta charset=\"utf-8\" /></head>\n",
              "<body>\n",
              "    <div>            <script src=\"https://cdnjs.cloudflare.com/ajax/libs/mathjax/2.7.5/MathJax.js?config=TeX-AMS-MML_SVG\"></script><script type=\"text/javascript\">if (window.MathJax && window.MathJax.Hub && window.MathJax.Hub.Config) {window.MathJax.Hub.Config({SVG: {font: \"STIX-Web\"}});}</script>                <script type=\"text/javascript\">window.PlotlyConfig = {MathJaxConfig: 'local'};</script>\n",
              "        <script src=\"https://cdn.plot.ly/plotly-2.18.2.min.js\"></script>                <div id=\"7e8c1a18-3cf0-470a-aa3a-22d241ffadd8\" class=\"plotly-graph-div\" style=\"height:800px; width:800px;\"></div>            <script type=\"text/javascript\">                                    window.PLOTLYENV=window.PLOTLYENV || {};                                    if (document.getElementById(\"7e8c1a18-3cf0-470a-aa3a-22d241ffadd8\")) {                    Plotly.newPlot(                        \"7e8c1a18-3cf0-470a-aa3a-22d241ffadd8\",                        [{\"marker\":{\"line\":{\"width\":1},\"size\":6},\"mode\":\"markers\",\"name\":\"Churn\",\"x\":[2990,971,799,3668,2878,4481,1715,801,4621,1293,4214,9008,3107,2595,577,2965,3124,3460,1925,631,4057,2946,4702,4189,2894,1049,419,3273,4060,1148,4784,2808,2920,4096,767,3650,4107,2425,3511,3471,2571,520,1553,4478,1197,3489,644,3408,1353,1356,3575,3339,2587,4704,3410,4131,873,4991,3847,1759,2126,794,2483,1847,4962,4237,1290,453,479,4574,4302,4513,4076,4913,3660,550,1477,1710,1070,1757,893,2273,3506,517,4258,3292,353,4370,3800,2961,2836,6836,4354,670,2449,1806,4806,1481,3872,1829,2148,2754,727,3982,3589,229,4598,3545,2905,1096,3008,1011,2592,1515,2356,4027,2147,3234,432,2739,963,1363,1992,3452,2308,3105,2276,1742,721,3309,823,3312,1178,4270,3428,1547,3163,835,4848,4795,2041,3900,1261,253,3385,2008,3529,360,3241,4975,684,2905,2354,4004,2221,3853,3559,3737,2687,4566,2351,4818,4299,873,4624,592,1425,437,1791,2640,553,1194,1185,1267,617,1751,3735,4059,1340,4078,2979,1393,1136,2437,1306,203,4378,3225,2020,2263,2608,3642,622,769,3850,3549,3150,1746,2530,2984,3909,2805,622,1872,3815,407,674,4092,1713,4452,3002,2849,1014,2119,3937,3981,413,1559,1072,4896,1254,2373,4692,3265,859,1818,3839,242,2268,1027,1008,1523,3562,2310,4136,1391,2432,991,3295,1324,4941,2463,4230,2769,1754,1828,4539,3001,4269,1728,1459,1776,2284,2119,2833,3766,1042,2998,4154,873,2641,3919,942,220,3144,673,4166,4058,479,1769,1256,3299,5099,1526,4629,5843,272,828,1312,3933,4074,4906,2294,4180,3556,3438,1845,4340,614,3127,3663,4578,931,1008,2780,1976,4557,4769,450,4684,4297,4344,2190,2290,542,1764,4885,3049,2628,4024,4155,3756,640,3173,3890,4818,252,4047,1642,4705,1115,2953,4551,2295,426,1022,4502,2555,577,2163,714,4988,3300,789,862,1744,4270,4581,2166,430,697,1944,4647,4989,2546,4526,1658,2828,400,1790,2901,2942,2768,1414,6641,4080,1791,6207,3670,4247,935,2983,969,3179,1857,4911,2865,1883,1135,1949,680,395,4244,5048,967,3111,4067,4950,586,1586,2716,2310,3519,2005,572,857,4324,3279,2006,222,1541,1316,4893,4060,3949,3840,2102,1376,4389,2123,3737,1902,3761,3489,4602,3935,2120,1049,4198,507,906,650,1842,2521,4164,1668,679,1552,301,2932,3131,1778,4891,2681,2220,1597,1416,3999,3942,1434,2603,524,721,4812,952,4734,2188,3392,949,3457,1919,4346,2620,4897,2601,956,2602,500,2569,2581,2196,4646,302,466,4826,1038,226,1085,3756,4645,4409,3604,1655,2847,2934,3340,2057,3067,927,1420,3785,1904,835,1030,760,2468,4446,3209,4105,2431,4957,3626,926,4643,1275,4097,3238,4096,995,2552,398,1732,4605,4470,3962,4637,1497,1349,3052,2231,3754,2222,1735,1162,4754,2230,1869,1981,4025,4686,888,356,204,4660,4662,1809,1498,4877,2864,540,2629,1176,2502,4877,2568,379,568,1851,427,1981,4937,3496,4863,1536,4716,4272,3609,4488,2423,4789,4266,2646,4706,4065,2725,3769,3854,3600,3678,3723,273,4524,1533,1014,774,4007,3644,1267,454,4426,2457,3328,1994,4821,4568,355,4069,2036,4626,3713,1203,1871,3805,646,1403,1409,1839,1005,1494,4241,1006,4688,2859,2128,910,654,681,3415,3923,2633,4222,3199,4926,3759,547,1024,337,4041,2755,706,3317,2944,2764,2900,4825,2842,4496,3376,3595,1214,4477,4859,2743,4171,298,3984,1407,1763,1703,1830,2721,4928,3606,1193,2287,1454,3608,3947,834,2138,3222,2200,2871,4160,1733,2200,4465,2636,3004,3154,741,4572,2661,1888,831,587,4762,4210,1984,1657,4309,1711,1356,722,1232,2210,3959,1164,4899,3102,2001,2524,1034,1667,2672,3935,2153,8685,3677,626,404,4208,4399,4469,2786,261,5481,1456,201,3836,1442,2559,2401,730,4591,289,861,4975,4845,1840,3460,3559,3427,521,2610,2405,3979,1896,3330,3658,2993,4785,706,2168,3288,1602,2801,2832,1900,4942,2013,3759,3917,1416,4559,660,4013,2298,2167,4180,1558,10049,594,3194,2968,3611,396,2994,907,2933,7244,2106,3604,4617,4069,3372,4315,3859,2883,4868,1613,4749,3693,1958,1854,4454,4175,1161,1455,3159,1150,10114,2408,1555,800,4661,3537,1441,4176,2450,1908,2494,2152,953,3922,2144,2302,743,1569,1922,10957,4033,1243,3007,3679,2132,3981,1833,2991,1415,2353,2563,4930,291,2003,2048,6523,1195,3386,1498,427,2058,851,3872,1477,3172,3362,670,3773,2365,4955,4715,3258,4428,313,1374,2173,1173,1681,4539,3988,600,2136,3100,3094,2186,4537,1726,4373,1769,4000,2999,1107,1271,4650,1058,2061,2017,1176,490,1037,3702,936,2356,2486,2820,3957,289,3745,4189,4198,3445,1601,801,592,3571,4019,1592,252,4541,3086,3754,561,7690,3966,864,1877,404,2403,3452,431,893,4228,2164,1020,2530,969,1993,4113,10845,3124,3072,2835,4851,1109,4522,4016,4710,2821,3624,1827,4606,512,1466,4329,713,1505,1786,1676,1280,2224,4328,3489,1305,4027,905,4641,756,3821,770,2104,3808,880,3634,2935,1865,1327,1936,3436,4039],\"y\":[634.0,207.0,445.0,427.0,599.0,887.0,31.0,741.0,524.0,688.0,466.0,49.0,845.0,251.0,169.0,776.0,341.0,250.0,967.0,774.0,482.0,645.0,688.0,400.0,73.0,460.0,848.0,46.0,195.0,114.0,976.0,932.0,243.0,222.0,410.0,70.0,96.0,207.0,519.0,621.0,461.0,800.0,125.0,405.0,654.0,908.0,875.0,519.0,260.0,911.0,214.0,771.0,726.0,110.0,196.0,157.0,912.0,889.0,512.0,202.0,234.0,966.0,98.0,723.0,738.0,528.0,881.0,90.0,360.0,811.0,398.0,384.0,974.0,222.0,990.0,266.0,919.0,976.0,436.0,320.0,17.0,552.0,61.0,242.0,543.0,448.0,252.0,66.0,42.0,940.0,528.0,52.0,830.0,559.0,74.0,804.0,733.0,663.0,763.0,67.0,115.0,853.0,379.0,629.0,508.0,462.0,93.0,204.0,293.0,31.0,354.0,971.0,255.0,294.0,682.0,601.0,59.0,627.0,73.0,5.0,500.0,364.0,464.0,10.0,87.0,570.0,667.0,96.0,485.0,740.0,27.0,549.0,219.0,550.0,861.0,991.0,722.0,84.0,12.0,153.0,90.0,799.0,938.0,582.0,96.0,431.0,402.0,629.0,91.0,674.0,901.0,196.0,151.0,564.0,493.0,71.0,266.0,838.0,135.0,72.0,839.0,12.0,867.0,375.0,798.0,696.0,894.0,522.0,46.0,661.0,750.0,101.0,73.0,316.0,482.0,747.0,36.0,634.0,990.0,212.0,33.0,987.0,892.0,489.0,279.0,882.0,721.0,674.0,809.0,296.0,94.0,372.0,164.0,146.0,672.0,205.0,150.0,836.0,701.0,616.0,378.0,998.0,298.0,344.0,496.0,399.0,520.0,19.0,0.0,491.0,974.0,865.0,662.0,250.0,485.0,506.0,534.0,603.0,817.0,300.0,595.0,936.0,488.0,242.0,31.0,392.0,333.0,328.0,828.0,839.0,188.0,405.0,634.0,715.0,598.0,755.0,138.0,310.0,477.0,252.0,385.0,217.0,81.0,429.0,254.0,80.0,361.0,8.0,863.0,270.0,813.0,826.0,511.0,9.0,860.0,226.0,135.0,416.0,463.0,877.0,360.0,830.0,909.0,63.0,300.0,285.0,837.0,320.0,621.0,152.0,486.0,401.0,79.0,778.0,923.0,38.0,95.0,990.0,679.0,617.0,994.0,519.0,25.0,396.0,226.0,993.0,107.0,869.0,60.0,749.0,863.0,158.0,424.0,984.0,20.0,988.0,560.0,721.0,261.0,492.0,222.0,788.0,175.0,198.0,481.0,863.0,580.0,216.0,69.0,807.0,739.0,704.0,357.0,614.0,87.0,559.0,660.0,623.0,350.0,936.0,841.0,89.0,833.0,763.0,68.0,330.0,159.0,340.0,832.0,992.0,849.0,742.0,73.0,190.0,928.0,718.0,238.0,736.0,992.0,165.0,75.0,326.0,173.0,930.0,349.0,152.0,719.0,597.0,286.0,754.0,88.0,768.0,158.0,729.0,37.0,900.0,188.0,89.0,70.0,536.0,609.0,796.0,95.0,871.0,10.0,733.0,608.0,506.0,977.0,761.0,708.0,534.0,71.0,9.0,4.0,502.0,614.0,473.0,67.0,254.0,558.0,513.0,80.0,621.0,902.0,411.0,63.0,889.0,347.0,546.0,810.0,68.0,783.0,9.0,603.0,633.0,65.0,481.0,93.0,568.0,423.0,319.0,434.0,75.0,786.0,551.0,85.0,486.0,267.0,566.0,150.0,623.0,219.0,379.0,97.0,375.0,647.0,44.0,635.0,241.0,858.0,435.0,102.0,305.0,212.0,805.0,693.0,981.0,275.0,460.0,273.0,886.0,478.0,368.0,510.0,368.0,14.0,970.0,284.0,39.0,125.0,619.0,207.0,83.0,633.0,64.0,767.0,75.0,53.0,366.0,15.0,479.0,726.0,567.0,819.0,636.0,829.0,748.0,498.0,72.0,859.0,833.0,482.0,402.0,589.0,880.0,61.0,669.0,224.0,845.0,44.0,415.0,7.0,187.0,876.0,79.0,678.0,530.0,319.0,427.0,161.0,516.0,168.0,504.0,465.0,13.0,2.0,885.0,474.0,703.0,155.0,85.0,26.0,321.0,813.0,355.0,690.0,331.0,441.0,338.0,701.0,411.0,970.0,120.0,187.0,927.0,564.0,71.0,239.0,307.0,236.0,511.0,638.0,537.0,836.0,743.0,371.0,90.0,91.0,40.0,48.0,467.0,831.0,164.0,936.0,29.0,379.0,786.0,194.0,170.0,128.0,744.0,850.0,607.0,45.0,644.0,107.0,887.0,93.0,503.0,9.0,571.0,424.0,404.0,329.0,751.0,269.0,894.0,520.0,865.0,518.0,161.0,328.0,410.0,735.0,539.0,96.0,419.0,578.0,48.0,151.0,894.0,394.0,877.0,249.0,459.0,837.0,726.0,597.0,395.0,459.0,6.0,904.0,841.0,167.0,228.0,847.0,68.0,78.0,125.0,275.0,768.0,499.0,64.0,970.0,516.0,800.0,756.0,688.0,280.0,580.0,610.0,484.0,369.0,79.0,284.0,555.0,714.0,517.0,73.0,170.0,719.0,52.0,13.0,155.0,77.0,311.0,85.0,155.0,423.0,7.0,819.0,533.0,523.0,797.0,508.0,729.0,600.0,75.0,180.0,618.0,647.0,37.0,55.0,528.0,779.0,167.0,772.0,863.0,306.0,627.0,854.0,849.0,4.0,87.0,208.0,424.0,84.0,993.0,609.0,295.0,282.0,958.0,53.0,69.0,874.0,845.0,567.0,300.0,116.0,753.0,825.0,64.0,903.0,560.0,873.0,438.0,201.0,86.0,673.0,892.0,739.0,357.0,105.0,922.0,893.0,106.0,59.0,510.0,936.0,734.0,969.0,677.0,504.0,305.0,804.0,6.0,642.0,787.0,231.0,747.0,357.0,26.0,946.0,797.0,841.0,950.0,945.0,45.0,834.0,171.0,857.0,932.0,87.0,733.0,462.0,955.0,32.0,51.0,298.0,449.0,172.0,424.0,326.0,631.0,276.0,79.0,915.0,367.0,892.0,173.0,201.0,355.0,123.0,9.0,678.0,831.0,269.0,627.0,657.0,816.0,39.0,337.0,632.0,79.0,342.0,659.0,324.0,558.0,452.0,60.0,352.0,572.0,300.0,331.0,938.0,26.0,459.0,751.0,479.0,312.0,901.0,867.0,68.0,832.0,295.0,560.0,518.0,266.0,350.0,564.0,92.0,387.0,724.0,307.0,890.0,454.0,624.0,557.0,579.0,246.0,490.0,732.0,311.0,486.0,663.0,516.0,398.0,93.0,69.0,65.0,824.0,616.0,50.0,90.0,286.0,55.0,684.0,758.0,365.0,615.0,928.0,993.0,261.0,764.0,255.0,1.0,81.0,332.0,518.0,603.0,613.0,136.0,15.0,682.0,323.0,597.0,64.0,905.0,251.0,294.0,73.0,917.0,856.0,93.0,964.0,111.0,619.0,241.0,717.0,84.0,783.0,136.0,763.0,586.0,28.0,856.0,185.0,30.0,319.0,391.0,898.0,303.0,885.0,656.0,925.0,19.0,959.0,302.0,827.0,920.0,662.0,273.0,161.0,58.0,291.0,402.0,457.0,51.0,309.0,253.0,838.0,625.0,769.0,828.0,747.0,85.0,277.0,847.0,2.0,877.0,156.0,814.0,84.0,19.0,755.0,98.0,765.0,996.0,975.0,258.0,983.0,381.0,868.0,226.0,239.0,828.0,40.0,95.0,22.0,313.0,798.0,76.0,706.0,466.0,816.0,867.0,966.0,850.0,656.0,811.0,257.0,322.0,146.0,218.0,744.0,83.0,389.0,937.0,568.0,101.0,223.0,775.0,501.0,795.0,777.0,564.0,359.0,380.0,23.0,31.0,961.0,327.0,584.0,98.0,938.0,61.0,761.0,73.0,54.0],\"type\":\"scatter\",\"hovertemplate\":\"Last Visited Minutes: %{x} <br>Average Spent on App (INR): %{y}\"},{\"marker\":{\"line\":{\"width\":1},\"size\":6},\"mode\":\"markers\",\"name\":\"Needs Attention\",\"x\":[24008,26405,22915,13331,28046,12629,25789,24048,29465,19379,15053,23311,24656,18701,21352,17126,13777,22099,16523,19278,27125,15060,26282,16381,15915,12920,12163,20344,24600,24796,18485,15953,28208,19874,23745,22148,18525,13310,15662,27561,26958,16067,16324,15904],\"y\":[54.0,48.0,23.0,20.0,44.0,13.0,83.0,46.0,100.0,92.0,69.0,10.0,17.0,77.0,32.0,95.0,100.0,42.0,47.0,28.0,50.0,81.0,62.0,59.0,84.0,46.0,56.0,49.0,42.0,88.0,75.0,13.0,45.0,36.0,10.0,4.0,93.0,87.0,12.0,30.0,49.0,3.0,95.0,31.0],\"type\":\"scatter\",\"hovertemplate\":\"Last Visited Minutes: %{x} <br>Average Spent on App (INR): %{y}\"},{\"marker\":{\"line\":{\"width\":1},\"size\":6},\"mode\":\"markers\",\"name\":\"Retained\",\"x\":[37959,49334,39016,30435,40868,42101,33465,41859,40603,31724,43650,38744,38821,49715,36469,45339,47187,49696,39153,37826,32302,37453,47412,31950,45979,38457,45265,36478,46826,37474,44275,44883,34395,32265,38966,44107,41664,31644,34445,32253,36725,33692,32762,45734,39494],\"y\":[97.0,93.0,34.0,67.0,26.0,94.0,8.0,75.0,42.0,95.0,37.0,51.0,93.0,16.0,91.0,39.0,31.0,93.0,25.0,97.0,58.0,15.0,75.0,66.0,17.0,21.0,25.0,25.0,99.0,36.0,26.0,96.0,1.0,92.0,87.0,6.0,5.0,0.0,84.0,97.0,29.0,78.0,42.0,73.0,43.0],\"type\":\"scatter\",\"hovertemplate\":\"Last Visited Minutes: %{x} <br>Average Spent on App (INR): %{y}\"}],                        {\"template\":{\"data\":{\"histogram2dcontour\":[{\"type\":\"histogram2dcontour\",\"colorbar\":{\"outlinewidth\":0,\"ticks\":\"\"},\"colorscale\":[[0.0,\"#0d0887\"],[0.1111111111111111,\"#46039f\"],[0.2222222222222222,\"#7201a8\"],[0.3333333333333333,\"#9c179e\"],[0.4444444444444444,\"#bd3786\"],[0.5555555555555556,\"#d8576b\"],[0.6666666666666666,\"#ed7953\"],[0.7777777777777778,\"#fb9f3a\"],[0.8888888888888888,\"#fdca26\"],[1.0,\"#f0f921\"]]}],\"choropleth\":[{\"type\":\"choropleth\",\"colorbar\":{\"outlinewidth\":0,\"ticks\":\"\"}}],\"histogram2d\":[{\"type\":\"histogram2d\",\"colorbar\":{\"outlinewidth\":0,\"ticks\":\"\"},\"colorscale\":[[0.0,\"#0d0887\"],[0.1111111111111111,\"#46039f\"],[0.2222222222222222,\"#7201a8\"],[0.3333333333333333,\"#9c179e\"],[0.4444444444444444,\"#bd3786\"],[0.5555555555555556,\"#d8576b\"],[0.6666666666666666,\"#ed7953\"],[0.7777777777777778,\"#fb9f3a\"],[0.8888888888888888,\"#fdca26\"],[1.0,\"#f0f921\"]]}],\"heatmap\":[{\"type\":\"heatmap\",\"colorbar\":{\"outlinewidth\":0,\"ticks\":\"\"},\"colorscale\":[[0.0,\"#0d0887\"],[0.1111111111111111,\"#46039f\"],[0.2222222222222222,\"#7201a8\"],[0.3333333333333333,\"#9c179e\"],[0.4444444444444444,\"#bd3786\"],[0.5555555555555556,\"#d8576b\"],[0.6666666666666666,\"#ed7953\"],[0.7777777777777778,\"#fb9f3a\"],[0.8888888888888888,\"#fdca26\"],[1.0,\"#f0f921\"]]}],\"heatmapgl\":[{\"type\":\"heatmapgl\",\"colorbar\":{\"outlinewidth\":0,\"ticks\":\"\"},\"colorscale\":[[0.0,\"#0d0887\"],[0.1111111111111111,\"#46039f\"],[0.2222222222222222,\"#7201a8\"],[0.3333333333333333,\"#9c179e\"],[0.4444444444444444,\"#bd3786\"],[0.5555555555555556,\"#d8576b\"],[0.6666666666666666,\"#ed7953\"],[0.7777777777777778,\"#fb9f3a\"],[0.8888888888888888,\"#fdca26\"],[1.0,\"#f0f921\"]]}],\"contourcarpet\":[{\"type\":\"contourcarpet\",\"colorbar\":{\"outlinewidth\":0,\"ticks\":\"\"}}],\"contour\":[{\"type\":\"contour\",\"colorbar\":{\"outlinewidth\":0,\"ticks\":\"\"},\"colorscale\":[[0.0,\"#0d0887\"],[0.1111111111111111,\"#46039f\"],[0.2222222222222222,\"#7201a8\"],[0.3333333333333333,\"#9c179e\"],[0.4444444444444444,\"#bd3786\"],[0.5555555555555556,\"#d8576b\"],[0.6666666666666666,\"#ed7953\"],[0.7777777777777778,\"#fb9f3a\"],[0.8888888888888888,\"#fdca26\"],[1.0,\"#f0f921\"]]}],\"surface\":[{\"type\":\"surface\",\"colorbar\":{\"outlinewidth\":0,\"ticks\":\"\"},\"colorscale\":[[0.0,\"#0d0887\"],[0.1111111111111111,\"#46039f\"],[0.2222222222222222,\"#7201a8\"],[0.3333333333333333,\"#9c179e\"],[0.4444444444444444,\"#bd3786\"],[0.5555555555555556,\"#d8576b\"],[0.6666666666666666,\"#ed7953\"],[0.7777777777777778,\"#fb9f3a\"],[0.8888888888888888,\"#fdca26\"],[1.0,\"#f0f921\"]]}],\"mesh3d\":[{\"type\":\"mesh3d\",\"colorbar\":{\"outlinewidth\":0,\"ticks\":\"\"}}],\"scatter\":[{\"fillpattern\":{\"fillmode\":\"overlay\",\"size\":10,\"solidity\":0.2},\"type\":\"scatter\"}],\"parcoords\":[{\"type\":\"parcoords\",\"line\":{\"colorbar\":{\"outlinewidth\":0,\"ticks\":\"\"}}}],\"scatterpolargl\":[{\"type\":\"scatterpolargl\",\"marker\":{\"colorbar\":{\"outlinewidth\":0,\"ticks\":\"\"}}}],\"bar\":[{\"error_x\":{\"color\":\"#2a3f5f\"},\"error_y\":{\"color\":\"#2a3f5f\"},\"marker\":{\"line\":{\"color\":\"#E5ECF6\",\"width\":0.5},\"pattern\":{\"fillmode\":\"overlay\",\"size\":10,\"solidity\":0.2}},\"type\":\"bar\"}],\"scattergeo\":[{\"type\":\"scattergeo\",\"marker\":{\"colorbar\":{\"outlinewidth\":0,\"ticks\":\"\"}}}],\"scatterpolar\":[{\"type\":\"scatterpolar\",\"marker\":{\"colorbar\":{\"outlinewidth\":0,\"ticks\":\"\"}}}],\"histogram\":[{\"marker\":{\"pattern\":{\"fillmode\":\"overlay\",\"size\":10,\"solidity\":0.2}},\"type\":\"histogram\"}],\"scattergl\":[{\"type\":\"scattergl\",\"marker\":{\"colorbar\":{\"outlinewidth\":0,\"ticks\":\"\"}}}],\"scatter3d\":[{\"type\":\"scatter3d\",\"line\":{\"colorbar\":{\"outlinewidth\":0,\"ticks\":\"\"}},\"marker\":{\"colorbar\":{\"outlinewidth\":0,\"ticks\":\"\"}}}],\"scattermapbox\":[{\"type\":\"scattermapbox\",\"marker\":{\"colorbar\":{\"outlinewidth\":0,\"ticks\":\"\"}}}],\"scatterternary\":[{\"type\":\"scatterternary\",\"marker\":{\"colorbar\":{\"outlinewidth\":0,\"ticks\":\"\"}}}],\"scattercarpet\":[{\"type\":\"scattercarpet\",\"marker\":{\"colorbar\":{\"outlinewidth\":0,\"ticks\":\"\"}}}],\"carpet\":[{\"aaxis\":{\"endlinecolor\":\"#2a3f5f\",\"gridcolor\":\"white\",\"linecolor\":\"white\",\"minorgridcolor\":\"white\",\"startlinecolor\":\"#2a3f5f\"},\"baxis\":{\"endlinecolor\":\"#2a3f5f\",\"gridcolor\":\"white\",\"linecolor\":\"white\",\"minorgridcolor\":\"white\",\"startlinecolor\":\"#2a3f5f\"},\"type\":\"carpet\"}],\"table\":[{\"cells\":{\"fill\":{\"color\":\"#EBF0F8\"},\"line\":{\"color\":\"white\"}},\"header\":{\"fill\":{\"color\":\"#C8D4E3\"},\"line\":{\"color\":\"white\"}},\"type\":\"table\"}],\"barpolar\":[{\"marker\":{\"line\":{\"color\":\"#E5ECF6\",\"width\":0.5},\"pattern\":{\"fillmode\":\"overlay\",\"size\":10,\"solidity\":0.2}},\"type\":\"barpolar\"}],\"pie\":[{\"automargin\":true,\"type\":\"pie\"}]},\"layout\":{\"autotypenumbers\":\"strict\",\"colorway\":[\"#636efa\",\"#EF553B\",\"#00cc96\",\"#ab63fa\",\"#FFA15A\",\"#19d3f3\",\"#FF6692\",\"#B6E880\",\"#FF97FF\",\"#FECB52\"],\"font\":{\"color\":\"#2a3f5f\"},\"hovermode\":\"closest\",\"hoverlabel\":{\"align\":\"left\"},\"paper_bgcolor\":\"white\",\"plot_bgcolor\":\"#E5ECF6\",\"polar\":{\"bgcolor\":\"#E5ECF6\",\"angularaxis\":{\"gridcolor\":\"white\",\"linecolor\":\"white\",\"ticks\":\"\"},\"radialaxis\":{\"gridcolor\":\"white\",\"linecolor\":\"white\",\"ticks\":\"\"}},\"ternary\":{\"bgcolor\":\"#E5ECF6\",\"aaxis\":{\"gridcolor\":\"white\",\"linecolor\":\"white\",\"ticks\":\"\"},\"baxis\":{\"gridcolor\":\"white\",\"linecolor\":\"white\",\"ticks\":\"\"},\"caxis\":{\"gridcolor\":\"white\",\"linecolor\":\"white\",\"ticks\":\"\"}},\"coloraxis\":{\"colorbar\":{\"outlinewidth\":0,\"ticks\":\"\"}},\"colorscale\":{\"sequential\":[[0.0,\"#0d0887\"],[0.1111111111111111,\"#46039f\"],[0.2222222222222222,\"#7201a8\"],[0.3333333333333333,\"#9c179e\"],[0.4444444444444444,\"#bd3786\"],[0.5555555555555556,\"#d8576b\"],[0.6666666666666666,\"#ed7953\"],[0.7777777777777778,\"#fb9f3a\"],[0.8888888888888888,\"#fdca26\"],[1.0,\"#f0f921\"]],\"sequentialminus\":[[0.0,\"#0d0887\"],[0.1111111111111111,\"#46039f\"],[0.2222222222222222,\"#7201a8\"],[0.3333333333333333,\"#9c179e\"],[0.4444444444444444,\"#bd3786\"],[0.5555555555555556,\"#d8576b\"],[0.6666666666666666,\"#ed7953\"],[0.7777777777777778,\"#fb9f3a\"],[0.8888888888888888,\"#fdca26\"],[1.0,\"#f0f921\"]],\"diverging\":[[0,\"#8e0152\"],[0.1,\"#c51b7d\"],[0.2,\"#de77ae\"],[0.3,\"#f1b6da\"],[0.4,\"#fde0ef\"],[0.5,\"#f7f7f7\"],[0.6,\"#e6f5d0\"],[0.7,\"#b8e186\"],[0.8,\"#7fbc41\"],[0.9,\"#4d9221\"],[1,\"#276419\"]]},\"xaxis\":{\"gridcolor\":\"white\",\"linecolor\":\"white\",\"ticks\":\"\",\"title\":{\"standoff\":15},\"zerolinecolor\":\"white\",\"automargin\":true,\"zerolinewidth\":2},\"yaxis\":{\"gridcolor\":\"white\",\"linecolor\":\"white\",\"ticks\":\"\",\"title\":{\"standoff\":15},\"zerolinecolor\":\"white\",\"automargin\":true,\"zerolinewidth\":2},\"scene\":{\"xaxis\":{\"backgroundcolor\":\"#E5ECF6\",\"gridcolor\":\"white\",\"linecolor\":\"white\",\"showbackground\":true,\"ticks\":\"\",\"zerolinecolor\":\"white\",\"gridwidth\":2},\"yaxis\":{\"backgroundcolor\":\"#E5ECF6\",\"gridcolor\":\"white\",\"linecolor\":\"white\",\"showbackground\":true,\"ticks\":\"\",\"zerolinecolor\":\"white\",\"gridwidth\":2},\"zaxis\":{\"backgroundcolor\":\"#E5ECF6\",\"gridcolor\":\"white\",\"linecolor\":\"white\",\"showbackground\":true,\"ticks\":\"\",\"zerolinecolor\":\"white\",\"gridwidth\":2}},\"shapedefaults\":{\"line\":{\"color\":\"#2a3f5f\"}},\"annotationdefaults\":{\"arrowcolor\":\"#2a3f5f\",\"arrowhead\":0,\"arrowwidth\":1},\"geo\":{\"bgcolor\":\"white\",\"landcolor\":\"#E5ECF6\",\"subunitcolor\":\"white\",\"showland\":true,\"showlakes\":true,\"lakecolor\":\"white\"},\"title\":{\"x\":0.05},\"mapbox\":{\"style\":\"light\"}}},\"scene\":{\"xaxis\":{\"title\":{\"text\":\"Last Visited Minutes\",\"font\":{\"color\":\"black\"}}},\"yaxis\":{\"title\":{\"text\":\"Average Spent on App (INR)\",\"font\":{\"color\":\"black\"}}}},\"width\":800,\"height\":800,\"autosize\":true,\"showlegend\":true,\"yaxis\":{\"title\":{\"text\":\"Average Spent on App (INR)\"}},\"xaxis\":{\"title\":{\"text\":\"Last Visited Minutes\"}}},                        {\"responsive\": true}                    ).then(function(){\n",
              "                            \n",
              "var gd = document.getElementById('7e8c1a18-3cf0-470a-aa3a-22d241ffadd8');\n",
              "var x = new MutationObserver(function (mutations, observer) {{\n",
              "        var display = window.getComputedStyle(gd).display;\n",
              "        if (!display || display === 'none') {{\n",
              "            console.log([gd, 'removed!']);\n",
              "            Plotly.purge(gd);\n",
              "            observer.disconnect();\n",
              "        }}\n",
              "}});\n",
              "\n",
              "// Listen for the removal of the full notebook cells\n",
              "var notebookContainer = gd.closest('#notebook-container');\n",
              "if (notebookContainer) {{\n",
              "    x.observe(notebookContainer, {childList: true});\n",
              "}}\n",
              "\n",
              "// Listen for the clearing of the current output cell\n",
              "var outputEl = gd.closest('.output');\n",
              "if (outputEl) {{\n",
              "    x.observe(outputEl, {childList: true});\n",
              "}}\n",
              "\n",
              "                        })                };                            </script>        </div>\n",
              "</body>\n",
              "</html>"
            ]
          },
          "metadata": {}
        }
      ]
    },
    {
      "cell_type": "markdown",
      "source": [
        "# **Summary**\n",
        "So this is how you can segment users based on how they engage with the app. App users segmentation helps businesses find retained users, find the user segment for a marketing campaign, and solve many other business problems where you need to search for users based on similar characteristics."
      ],
      "metadata": {
        "id": "P6ORqR6-Ts7Y"
      }
    }
  ]
}