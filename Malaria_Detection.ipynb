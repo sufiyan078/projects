{
  "nbformat": 4,
  "nbformat_minor": 0,
  "metadata": {
    "colab": {
      "provenance": []
    },
    "kernelspec": {
      "name": "python3",
      "display_name": "Python 3"
    },
    "language_info": {
      "name": "python"
    },
    "accelerator": "TPU"
  },
  "cells": [
    {
      "cell_type": "code",
      "execution_count": 12,
      "metadata": {
        "id": "zJeRmVuQ3ogV"
      },
      "outputs": [],
      "source": [
        "import numpy as np\n",
        "import pandas as pd\n",
        "import matplotlib.pyplot as plt\n",
        "import seaborn as sns\n",
        "import tensorflow as tf\n",
        "import tensorflow_datasets as tfds\n",
        "from tensorflow.keras.layers import Conv2D, Dense, MaxPool2D , Flatten , ZeroPadding2D , Dropout\n",
        "from tensorflow.keras.preprocessing.image import ImageDataGenerator\n",
        "from tensorflow.keras import Sequential"
      ]
    },
    {
      "cell_type": "code",
      "source": [
        "!git clone https://github.com/laxmimerit/Malaria-Classification-Using-CNN.git"
      ],
      "metadata": {
        "colab": {
          "base_uri": "https://localhost:8080/"
        },
        "id": "W7lYv-nYs6kn",
        "outputId": "8e1d587d-c4eb-41af-b1e3-503055124812"
      },
      "execution_count": 13,
      "outputs": [
        {
          "output_type": "stream",
          "name": "stdout",
          "text": [
            "fatal: destination path 'Malaria-Classification-Using-CNN' already exists and is not an empty directory.\n"
          ]
        }
      ]
    },
    {
      "cell_type": "markdown",
      "source": [
        "## **Data Prepration**"
      ],
      "metadata": {
        "id": "ERBMNys5eFjk"
      }
    },
    {
      "cell_type": "code",
      "source": [
        "image_width =64\n",
        "image_height = 64"
      ],
      "metadata": {
        "id": "R72uIRmJktBl"
      },
      "execution_count": 14,
      "outputs": []
    },
    {
      "cell_type": "code",
      "source": [
        "datagen =ImageDataGenerator(rescale = 1/255.0 ,validation_split= 0.2)"
      ],
      "metadata": {
        "id": "YvLnzTZblL7V"
      },
      "execution_count": 15,
      "outputs": []
    },
    {
      "cell_type": "code",
      "source": [
        "train_data_generater = datagen.flow_from_directory(directory = '/content/Malaria-Classification-Using-CNN/malaria-dataset',\n",
        "                                                   target_size =(image_width,image_height),\n",
        "                                                   class_mode ='binary',\n",
        "                                                   batch_size = 16,\n",
        "                                                   subset = 'training')"
      ],
      "metadata": {
        "colab": {
          "base_uri": "https://localhost:8080/"
        },
        "id": "ENmIkpOrlcN0",
        "outputId": "ff8bd96b-2ec2-45c8-8bc4-b5781993b580"
      },
      "execution_count": 16,
      "outputs": [
        {
          "output_type": "stream",
          "name": "stdout",
          "text": [
            "Found 22048 images belonging to 2 classes.\n"
          ]
        }
      ]
    },
    {
      "cell_type": "code",
      "source": [
        "validation_data_generater = datagen.flow_from_directory(directory = '/content/Malaria-Classification-Using-CNN/malaria-dataset',\n",
        "                                                   target_size =(image_width,image_height),\n",
        "                                                   class_mode ='binary',\n",
        "                                                   batch_size = 16,\n",
        "                                                   subset = 'validation')"
      ],
      "metadata": {
        "colab": {
          "base_uri": "https://localhost:8080/"
        },
        "id": "pV0vh_bCuNIc",
        "outputId": "584ba16d-1ac1-4605-8608-e1bc5ae80e7d"
      },
      "execution_count": 17,
      "outputs": [
        {
          "output_type": "stream",
          "name": "stdout",
          "text": [
            "Found 5510 images belonging to 2 classes.\n"
          ]
        }
      ]
    },
    {
      "cell_type": "code",
      "source": [
        "train_data_generater.labels"
      ],
      "metadata": {
        "colab": {
          "base_uri": "https://localhost:8080/"
        },
        "id": "W4Xp7gYnuZEh",
        "outputId": "e0f39ba6-9af3-47dc-c574-0f0bca06f636"
      },
      "execution_count": 18,
      "outputs": [
        {
          "output_type": "execute_result",
          "data": {
            "text/plain": [
              "array([0, 0, 0, ..., 1, 1, 1], dtype=int32)"
            ]
          },
          "metadata": {},
          "execution_count": 18
        }
      ]
    },
    {
      "cell_type": "markdown",
      "source": [
        "# **Cnn model**"
      ],
      "metadata": {
        "id": "Ggd6ViWbuik4"
      }
    },
    {
      "cell_type": "markdown",
      "source": [
        "## **Model Creation and Training**\n"
      ],
      "metadata": {
        "id": "NqoS6R1Ad-kB"
      }
    },
    {
      "cell_type": "code",
      "source": [
        "model =Sequential()\n",
        "\n",
        "model.add(Conv2D(16,(3,3), input_shape =(image_width , image_height , 3),activation = 'relu'))\n",
        "model.add(MaxPool2D(2,2))\n",
        "model.add(Dropout(0.2))\n",
        "\n",
        "model.add(Conv2D(32,(3,3),activation ='relu'))\n",
        "model.add(MaxPool2D(2,2))\n",
        "model.add(Dropout(0.3))\n",
        "\n",
        "model.add(Flatten())\n",
        "model.add(Dense(64,activation ='relu'))\n",
        "model.add(Dense(64,activation ='relu'))\n",
        "model.add(Dense(64,activation ='relu'))\n",
        "model.add(Dropout(0.5))\n",
        "\n",
        "model.add(Dense(1, activation = 'sigmoid'))"
      ],
      "metadata": {
        "id": "0HD8SEp0uhBa"
      },
      "execution_count": 38,
      "outputs": []
    },
    {
      "cell_type": "code",
      "source": [
        "model.summary()"
      ],
      "metadata": {
        "colab": {
          "base_uri": "https://localhost:8080/"
        },
        "id": "dsUCC4t_wMg8",
        "outputId": "e09721ec-07c8-412d-ff3f-87c48e09897d"
      },
      "execution_count": 39,
      "outputs": [
        {
          "output_type": "stream",
          "name": "stdout",
          "text": [
            "Model: \"sequential_3\"\n",
            "_________________________________________________________________\n",
            " Layer (type)                Output Shape              Param #   \n",
            "=================================================================\n",
            " conv2d_6 (Conv2D)           (None, 62, 62, 16)        448       \n",
            "                                                                 \n",
            " max_pooling2d_6 (MaxPooling  (None, 31, 31, 16)       0         \n",
            " 2D)                                                             \n",
            "                                                                 \n",
            " dropout_9 (Dropout)         (None, 31, 31, 16)        0         \n",
            "                                                                 \n",
            " conv2d_7 (Conv2D)           (None, 29, 29, 32)        4640      \n",
            "                                                                 \n",
            " max_pooling2d_7 (MaxPooling  (None, 14, 14, 32)       0         \n",
            " 2D)                                                             \n",
            "                                                                 \n",
            " dropout_10 (Dropout)        (None, 14, 14, 32)        0         \n",
            "                                                                 \n",
            " flatten_3 (Flatten)         (None, 6272)              0         \n",
            "                                                                 \n",
            " dense_8 (Dense)             (None, 64)                401472    \n",
            "                                                                 \n",
            " dense_9 (Dense)             (None, 64)                4160      \n",
            "                                                                 \n",
            " dense_10 (Dense)            (None, 64)                4160      \n",
            "                                                                 \n",
            " dropout_11 (Dropout)        (None, 64)                0         \n",
            "                                                                 \n",
            " dense_11 (Dense)            (None, 1)                 65        \n",
            "                                                                 \n",
            "=================================================================\n",
            "Total params: 414,945\n",
            "Trainable params: 414,945\n",
            "Non-trainable params: 0\n",
            "_________________________________________________________________\n"
          ]
        }
      ]
    },
    {
      "cell_type": "code",
      "source": [
        "model.compile(optimizer = 'adam',loss = 'binary_crossentropy',metrics = 'accuracy')"
      ],
      "metadata": {
        "id": "DqvbexCmwQFe"
      },
      "execution_count": 40,
      "outputs": []
    },
    {
      "cell_type": "code",
      "source": [
        "history =model.fit_generator(generator = train_data_generater,\n",
        "                             steps_per_epoch = len(train_data_generater),\n",
        "                             epochs = 5,\n",
        "                             validation_data =validation_data_generater,\n",
        "                             validation_steps= len(validation_data_generater)\n",
        "                             )"
      ],
      "metadata": {
        "colab": {
          "base_uri": "https://localhost:8080/"
        },
        "id": "z8vT2XpXwhDj",
        "outputId": "b8f21f6e-6e92-49fb-a78d-1d5dba95ff1a"
      },
      "execution_count": 41,
      "outputs": [
        {
          "output_type": "stream",
          "name": "stdout",
          "text": [
            "Epoch 1/5\n"
          ]
        },
        {
          "output_type": "stream",
          "name": "stderr",
          "text": [
            "<ipython-input-41-b75b95b1dc48>:1: UserWarning: `Model.fit_generator` is deprecated and will be removed in a future version. Please use `Model.fit`, which supports generators.\n",
            "  history =model.fit_generator(generator = train_data_generater,\n"
          ]
        },
        {
          "output_type": "stream",
          "name": "stdout",
          "text": [
            "1378/1378 [==============================] - 121s 87ms/step - loss: 0.3872 - accuracy: 0.8237 - val_loss: 0.2056 - val_accuracy: 0.9336\n",
            "Epoch 2/5\n",
            "1378/1378 [==============================] - 111s 81ms/step - loss: 0.2015 - accuracy: 0.9430 - val_loss: 0.1772 - val_accuracy: 0.9448\n",
            "Epoch 3/5\n",
            "1378/1378 [==============================] - 110s 79ms/step - loss: 0.1733 - accuracy: 0.9492 - val_loss: 0.1852 - val_accuracy: 0.9443\n",
            "Epoch 4/5\n",
            "1378/1378 [==============================] - 112s 81ms/step - loss: 0.1568 - accuracy: 0.9532 - val_loss: 0.2102 - val_accuracy: 0.9372\n",
            "Epoch 5/5\n",
            "1378/1378 [==============================] - 111s 80ms/step - loss: 0.1499 - accuracy: 0.9544 - val_loss: 0.1823 - val_accuracy: 0.9410\n"
          ]
        }
      ]
    },
    {
      "cell_type": "code",
      "source": [
        "history.history"
      ],
      "metadata": {
        "colab": {
          "base_uri": "https://localhost:8080/"
        },
        "id": "LBKD0foXXrzh",
        "outputId": "aff9fe60-730c-42a0-eb85-40361a292703"
      },
      "execution_count": 42,
      "outputs": [
        {
          "output_type": "execute_result",
          "data": {
            "text/plain": [
              "{'loss': [0.38723301887512207,\n",
              "  0.2014685869216919,\n",
              "  0.17330288887023926,\n",
              "  0.15680713951587677,\n",
              "  0.14986369013786316],\n",
              " 'accuracy': [0.8237481713294983,\n",
              "  0.9429880380630493,\n",
              "  0.949201762676239,\n",
              "  0.9531930088996887,\n",
              "  0.9543722867965698],\n",
              " 'val_loss': [0.20563095808029175,\n",
              "  0.17720818519592285,\n",
              "  0.18524377048015594,\n",
              "  0.2101978063583374,\n",
              "  0.18227730691432953],\n",
              " 'val_accuracy': [0.9335753321647644,\n",
              "  0.9448275566101074,\n",
              "  0.944283127784729,\n",
              "  0.9372050762176514,\n",
              "  0.9410163164138794]}"
            ]
          },
          "metadata": {},
          "execution_count": 42
        }
      ]
    },
    {
      "cell_type": "markdown",
      "source": [
        "## **Data visiualization**"
      ],
      "metadata": {
        "id": "D95dphpVegaA"
      }
    },
    {
      "cell_type": "code",
      "source": [
        "def learning_curve(history,epoch):\n",
        "  epoch_range = range(1,epoch+1)\n",
        "  plt.plot(epoch_range,history.history['accuracy'])\n",
        "  plt.plot(epoch_range,history.history['val_accuracy'])\n",
        "  plt.title('Model accuracy')\n",
        "  plt.xlabel('epoch')\n",
        "  plt.ylabel('Accuracy')\n",
        "  plt.legend(['Train' , 'Val'],loc ='upper left')\n",
        "  plt.show()\n",
        "\n",
        "\n",
        "  plt.plot(epoch_range,history.history['loss'])\n",
        "  plt.plot(epoch_range,history.history['val_loss'])\n",
        "  plt.title('Model loss')\n",
        "  plt.xlabel('epoch')\n",
        "  plt.ylabel('loss')\n",
        "  plt.legend(['Train' , 'Val'],loc ='upper left')\n",
        "  plt.show()"
      ],
      "metadata": {
        "id": "Ej1usRQRYDrm"
      },
      "execution_count": 43,
      "outputs": []
    },
    {
      "cell_type": "code",
      "source": [
        "learning_curve(history,5)"
      ],
      "metadata": {
        "colab": {
          "base_uri": "https://localhost:8080/",
          "height": 927
        },
        "id": "QcWBKO4KZTXy",
        "outputId": "9e456ff3-ea39-4a34-8b50-086faca0b73d"
      },
      "execution_count": 47,
      "outputs": [
        {
          "output_type": "display_data",
          "data": {
            "text/plain": [
              "<Figure size 640x480 with 1 Axes>"
            ],
            "image/png": "[encoded data removed]"
          },
          "metadata": {}
        },
        {
          "output_type": "display_data",
          "data": {
            "text/plain": [
              "<Figure size 640x480 with 1 Axes>"
            ],
            "image/png": "[encoded data removed]"
          },
          "metadata": {}
        }
      ]
    }
  ]
}