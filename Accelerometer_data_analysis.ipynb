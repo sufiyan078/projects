{
  "nbformat": 4,
  "nbformat_minor": 0,
  "metadata": {
    "colab": {
      "provenance": []
    },
    "kernelspec": {
      "name": "python3",
      "display_name": "Python 3"
    },
    "language_info": {
      "name": "python"
    }
  },
  "cells": [
    {
      "cell_type": "markdown",
      "source": [
        "**Accelerometer is a device used to measure the acceleration or vibrations of a motion. The data provided by an accelerometer is three-dimensional and can be used in data-driven applications for solving problems like fall detection and health monitoring.**"
      ],
      "metadata": {
        "id": "AwgtYluu0Gtb"
      }
    },
    {
      "cell_type": "code",
      "execution_count": 1,
      "metadata": {
        "id": "uznSQtM8z8pB"
      },
      "outputs": [],
      "source": [
        "import numpy as np\n",
        "import pandas as pd"
      ]
    },
    {
      "cell_type": "code",
      "source": [
        "import zipfile\n",
        "with zipfile.ZipFile('/content/Acc-Data.zip') as zip_file:\n",
        "    file_list = zip_file.namelist()\n",
        "\n",
        "file_list"
      ],
      "metadata": {
        "colab": {
          "base_uri": "https://localhost:8080/"
        },
        "id": "Cm5dPXT-0lQX",
        "outputId": "c5db4791-10f5-4fd7-d72d-298548bc1381"
      },
      "execution_count": 2,
      "outputs": [
        {
          "output_type": "execute_result",
          "data": {
            "text/plain": [
              "['Acc Data/', 'Acc Data/accdata.csv', '__MACOSX/Acc Data/._accdata.csv']"
            ]
          },
          "metadata": {},
          "execution_count": 2
        }
      ]
    },
    {
      "cell_type": "code",
      "source": [
        "import pandas as pd\n",
        "with zipfile.ZipFile('/content/Acc-Data.zip') as zip_file:\n",
        "    df = pd.read_csv(zip_file.open('Acc Data/accdata.csv'))"
      ],
      "metadata": {
        "id": "qI0QNKym0xU-"
      },
      "execution_count": 3,
      "outputs": []
    },
    {
      "cell_type": "code",
      "source": [
        "df"
      ],
      "metadata": {
        "colab": {
          "base_uri": "https://localhost:8080/",
          "height": 424
        },
        "id": "o3Yg9oI406jG",
        "outputId": "70dfc72c-d479-4e46-e744-04ddba0e3b9b"
      },
      "execution_count": 4,
      "outputs": [
        {
          "output_type": "execute_result",
          "data": {
            "text/plain": [
              "             Date      Time   accel_x   accel_y   accel_z\n",
              "0      2022-09-03  23:35:16 -1.838747  3.543418  9.126697\n",
              "1      2022-09-03  23:35:31  1.110910  1.810017  9.634268\n",
              "2      2022-09-03  23:35:47  8.829816  0.833182  4.663905\n",
              "3      2022-09-03  23:36:52 -0.852336 -0.124498  9.787497\n",
              "4      2022-09-03  23:37:44 -0.900220 -0.095768  9.835381\n",
              "...           ...       ...       ...       ...       ...\n",
              "27932  2022-09-17  23:35:31 -3.706224  7.556100 -4.845864\n",
              "27933  2022-09-17  23:36:12 -0.296881  0.430956  9.749189\n",
              "27934  2022-09-17  23:36:27 -0.785298  0.603339  9.931149\n",
              "27935  2022-09-17  23:36:42  0.229843  0.986411  9.854534\n",
              "27936  2022-09-17  23:36:57 -0.134075  1.254562  9.758766\n",
              "\n",
              "[27937 rows x 5 columns]"
            ],
            "text/html": [
              "\n",
              "  <div id=\"df-54b0f727-1fa8-4540-8961-de9b4bf79420\">\n",
              "    <div class=\"colab-df-container\">\n",
              "      <div>\n",
              "<style scoped>\n",
              "    .dataframe tbody tr th:only-of-type {\n",
              "        vertical-align: middle;\n",
              "    }\n",
              "\n",
              "    .dataframe tbody tr th {\n",
              "        vertical-align: top;\n",
              "    }\n",
              "\n",
              "    .dataframe thead th {\n",
              "        text-align: right;\n",
              "    }\n",
              "</style>\n",
              "<table border=\"1\" class=\"dataframe\">\n",
              "  <thead>\n",
              "    <tr style=\"text-align: right;\">\n",
              "      <th></th>\n",
              "      <th>Date</th>\n",
              "      <th>Time</th>\n",
              "      <th>accel_x</th>\n",
              "      <th>accel_y</th>\n",
              "      <th>accel_z</th>\n",
              "    </tr>\n",
              "  </thead>\n",
              "  <tbody>\n",
              "    <tr>\n",
              "      <th>0</th>\n",
              "      <td>2022-09-03</td>\n",
              "      <td>23:35:16</td>\n",
              "      <td>-1.838747</td>\n",
              "      <td>3.543418</td>\n",
              "      <td>9.126697</td>\n",
              "    </tr>\n",
              "    <tr>\n",
              "      <th>1</th>\n",
              "      <td>2022-09-03</td>\n",
              "      <td>23:35:31</td>\n",
              "      <td>1.110910</td>\n",
              "      <td>1.810017</td>\n",
              "      <td>9.634268</td>\n",
              "    </tr>\n",
              "    <tr>\n",
              "      <th>2</th>\n",
              "      <td>2022-09-03</td>\n",
              "      <td>23:35:47</td>\n",
              "      <td>8.829816</td>\n",
              "      <td>0.833182</td>\n",
              "      <td>4.663905</td>\n",
              "    </tr>\n",
              "    <tr>\n",
              "      <th>3</th>\n",
              "      <td>2022-09-03</td>\n",
              "      <td>23:36:52</td>\n",
              "      <td>-0.852336</td>\n",
              "      <td>-0.124498</td>\n",
              "      <td>9.787497</td>\n",
              "    </tr>\n",
              "    <tr>\n",
              "      <th>4</th>\n",
              "      <td>2022-09-03</td>\n",
              "      <td>23:37:44</td>\n",
              "      <td>-0.900220</td>\n",
              "      <td>-0.095768</td>\n",
              "      <td>9.835381</td>\n",
              "    </tr>\n",
              "    <tr>\n",
              "      <th>...</th>\n",
              "      <td>...</td>\n",
              "      <td>...</td>\n",
              "      <td>...</td>\n",
              "      <td>...</td>\n",
              "      <td>...</td>\n",
              "    </tr>\n",
              "    <tr>\n",
              "      <th>27932</th>\n",
              "      <td>2022-09-17</td>\n",
              "      <td>23:35:31</td>\n",
              "      <td>-3.706224</td>\n",
              "      <td>7.556100</td>\n",
              "      <td>-4.845864</td>\n",
              "    </tr>\n",
              "    <tr>\n",
              "      <th>27933</th>\n",
              "      <td>2022-09-17</td>\n",
              "      <td>23:36:12</td>\n",
              "      <td>-0.296881</td>\n",
              "      <td>0.430956</td>\n",
              "      <td>9.749189</td>\n",
              "    </tr>\n",
              "    <tr>\n",
              "      <th>27934</th>\n",
              "      <td>2022-09-17</td>\n",
              "      <td>23:36:27</td>\n",
              "      <td>-0.785298</td>\n",
              "      <td>0.603339</td>\n",
              "      <td>9.931149</td>\n",
              "    </tr>\n",
              "    <tr>\n",
              "      <th>27935</th>\n",
              "      <td>2022-09-17</td>\n",
              "      <td>23:36:42</td>\n",
              "      <td>0.229843</td>\n",
              "      <td>0.986411</td>\n",
              "      <td>9.854534</td>\n",
              "    </tr>\n",
              "    <tr>\n",
              "      <th>27936</th>\n",
              "      <td>2022-09-17</td>\n",
              "      <td>23:36:57</td>\n",
              "      <td>-0.134075</td>\n",
              "      <td>1.254562</td>\n",
              "      <td>9.758766</td>\n",
              "    </tr>\n",
              "  </tbody>\n",
              "</table>\n",
              "<p>27937 rows × 5 columns</p>\n",
              "</div>\n",
              "      <button class=\"colab-df-convert\" onclick=\"convertToInteractive('df-54b0f727-1fa8-4540-8961-de9b4bf79420')\"\n",
              "              title=\"Convert this dataframe to an interactive table.\"\n",
              "              style=\"display:none;\">\n",
              "        \n",
              "  <svg xmlns=\"http://www.w3.org/2000/svg\" height=\"24px\"viewBox=\"0 0 24 24\"\n",
              "       width=\"24px\">\n",
              "    <path d=\"M0 0h24v24H0V0z\" fill=\"none\"/>\n",
              "    <path d=\"M18.56 5.44l.94 2.06.94-2.06 2.06-.94-2.06-.94-.94-2.06-.94 2.06-2.06.94zm-11 1L8.5 8.5l.94-2.06 2.06-.94-2.06-.94L8.5 2.5l-.94 2.06-2.06.94zm10 10l.94 2.06.94-2.06 2.06-.94-2.06-.94-.94-2.06-.94 2.06-2.06.94z\"/><path d=\"M17.41 7.96l-1.37-1.37c-.4-.4-.92-.59-1.43-.59-.52 0-1.04.2-1.43.59L10.3 9.45l-7.72 7.72c-.78.78-.78 2.05 0 2.83L4 21.41c.39.39.9.59 1.41.59.51 0 1.02-.2 1.41-.59l7.78-7.78 2.81-2.81c.8-.78.8-2.07 0-2.86zM5.41 20L4 18.59l7.72-7.72 1.47 1.35L5.41 20z\"/>\n",
              "  </svg>\n",
              "      </button>\n",
              "      \n",
              "  <style>\n",
              "    .colab-df-container {\n",
              "      display:flex;\n",
              "      flex-wrap:wrap;\n",
              "      gap: 12px;\n",
              "    }\n",
              "\n",
              "    .colab-df-convert {\n",
              "      background-color: #E8F0FE;\n",
              "      border: none;\n",
              "      border-radius: 50%;\n",
              "      cursor: pointer;\n",
              "      display: none;\n",
              "      fill: #1967D2;\n",
              "      height: 32px;\n",
              "      padding: 0 0 0 0;\n",
              "      width: 32px;\n",
              "    }\n",
              "\n",
              "    .colab-df-convert:hover {\n",
              "      background-color: #E2EBFA;\n",
              "      box-shadow: 0px 1px 2px rgba(60, 64, 67, 0.3), 0px 1px 3px 1px rgba(60, 64, 67, 0.15);\n",
              "      fill: #174EA6;\n",
              "    }\n",
              "\n",
              "    [theme=dark] .colab-df-convert {\n",
              "      background-color: #3B4455;\n",
              "      fill: #D2E3FC;\n",
              "    }\n",
              "\n",
              "    [theme=dark] .colab-df-convert:hover {\n",
              "      background-color: #434B5C;\n",
              "      box-shadow: 0px 1px 3px 1px rgba(0, 0, 0, 0.15);\n",
              "      filter: drop-shadow(0px 1px 2px rgba(0, 0, 0, 0.3));\n",
              "      fill: #FFFFFF;\n",
              "    }\n",
              "  </style>\n",
              "\n",
              "      <script>\n",
              "        const buttonEl =\n",
              "          document.querySelector('#df-54b0f727-1fa8-4540-8961-de9b4bf79420 button.colab-df-convert');\n",
              "        buttonEl.style.display =\n",
              "          google.colab.kernel.accessAllowed ? 'block' : 'none';\n",
              "\n",
              "        async function convertToInteractive(key) {\n",
              "          const element = document.querySelector('#df-54b0f727-1fa8-4540-8961-de9b4bf79420');\n",
              "          const dataTable =\n",
              "            await google.colab.kernel.invokeFunction('convertToInteractive',\n",
              "                                                     [key], {});\n",
              "          if (!dataTable) return;\n",
              "\n",
              "          const docLinkHtml = 'Like what you see? Visit the ' +\n",
              "            '<a target=\"_blank\" href=https://colab.research.google.com/notebooks/data_table.ipynb>data table notebook</a>'\n",
              "            + ' to learn more about interactive tables.';\n",
              "          element.innerHTML = '';\n",
              "          dataTable['output_type'] = 'display_data';\n",
              "          await google.colab.output.renderOutput(dataTable, element);\n",
              "          const docLink = document.createElement('div');\n",
              "          docLink.innerHTML = docLinkHtml;\n",
              "          element.appendChild(docLink);\n",
              "        }\n",
              "      </script>\n",
              "    </div>\n",
              "  </div>\n",
              "  "
            ]
          },
          "metadata": {},
          "execution_count": 4
        }
      ]
    },
    {
      "cell_type": "code",
      "source": [
        "df.columns"
      ],
      "metadata": {
        "colab": {
          "base_uri": "https://localhost:8080/"
        },
        "id": "cCmZQDNo1BuP",
        "outputId": "d021ff29-c838-476b-a2d8-981aff2906d8"
      },
      "execution_count": 5,
      "outputs": [
        {
          "output_type": "execute_result",
          "data": {
            "text/plain": [
              "Index(['Date', 'Time', 'accel_x', 'accel_y', 'accel_z'], dtype='object')"
            ]
          },
          "metadata": {},
          "execution_count": 5
        }
      ]
    },
    {
      "cell_type": "code",
      "source": [
        "df.info()"
      ],
      "metadata": {
        "colab": {
          "base_uri": "https://localhost:8080/"
        },
        "id": "LkOccBw01ETO",
        "outputId": "502310db-6a0c-481e-b007-6e6cf8ab0970"
      },
      "execution_count": 6,
      "outputs": [
        {
          "output_type": "stream",
          "name": "stdout",
          "text": [
            "<class 'pandas.core.frame.DataFrame'>\n",
            "RangeIndex: 27937 entries, 0 to 27936\n",
            "Data columns (total 5 columns):\n",
            " #   Column   Non-Null Count  Dtype  \n",
            "---  ------   --------------  -----  \n",
            " 0   Date     27937 non-null  object \n",
            " 1   Time     27937 non-null  object \n",
            " 2   accel_x  27937 non-null  float64\n",
            " 3   accel_y  27937 non-null  float64\n",
            " 4   accel_z  27937 non-null  float64\n",
            "dtypes: float64(3), object(2)\n",
            "memory usage: 1.1+ MB\n"
          ]
        }
      ]
    },
    {
      "cell_type": "code",
      "source": [
        "df.describe()"
      ],
      "metadata": {
        "colab": {
          "base_uri": "https://localhost:8080/",
          "height": 300
        },
        "id": "UgW9abCl1JIx",
        "outputId": "5d81df6c-e601-4740-befc-f5995eb776e1"
      },
      "execution_count": 7,
      "outputs": [
        {
          "output_type": "execute_result",
          "data": {
            "text/plain": [
              "            accel_x       accel_y       accel_z\n",
              "count  27937.000000  27937.000000  27937.000000\n",
              "mean       0.780857      0.964171      5.648214\n",
              "std        3.371547      4.768724      5.609732\n",
              "min      -21.739351    -35.549107    -63.858147\n",
              "25%       -0.076614     -0.191536      1.953669\n",
              "50%        0.411803      0.392649      8.925584\n",
              "75%        1.599327      3.667917      9.844957\n",
              "max       21.116859     21.231781     23.702597"
            ],
            "text/html": [
              "\n",
              "  <div id=\"df-e13a880d-d0fa-4877-9e8c-fa199e5674b5\">\n",
              "    <div class=\"colab-df-container\">\n",
              "      <div>\n",
              "<style scoped>\n",
              "    .dataframe tbody tr th:only-of-type {\n",
              "        vertical-align: middle;\n",
              "    }\n",
              "\n",
              "    .dataframe tbody tr th {\n",
              "        vertical-align: top;\n",
              "    }\n",
              "\n",
              "    .dataframe thead th {\n",
              "        text-align: right;\n",
              "    }\n",
              "</style>\n",
              "<table border=\"1\" class=\"dataframe\">\n",
              "  <thead>\n",
              "    <tr style=\"text-align: right;\">\n",
              "      <th></th>\n",
              "      <th>accel_x</th>\n",
              "      <th>accel_y</th>\n",
              "      <th>accel_z</th>\n",
              "    </tr>\n",
              "  </thead>\n",
              "  <tbody>\n",
              "    <tr>\n",
              "      <th>count</th>\n",
              "      <td>27937.000000</td>\n",
              "      <td>27937.000000</td>\n",
              "      <td>27937.000000</td>\n",
              "    </tr>\n",
              "    <tr>\n",
              "      <th>mean</th>\n",
              "      <td>0.780857</td>\n",
              "      <td>0.964171</td>\n",
              "      <td>5.648214</td>\n",
              "    </tr>\n",
              "    <tr>\n",
              "      <th>std</th>\n",
              "      <td>3.371547</td>\n",
              "      <td>4.768724</td>\n",
              "      <td>5.609732</td>\n",
              "    </tr>\n",
              "    <tr>\n",
              "      <th>min</th>\n",
              "      <td>-21.739351</td>\n",
              "      <td>-35.549107</td>\n",
              "      <td>-63.858147</td>\n",
              "    </tr>\n",
              "    <tr>\n",
              "      <th>25%</th>\n",
              "      <td>-0.076614</td>\n",
              "      <td>-0.191536</td>\n",
              "      <td>1.953669</td>\n",
              "    </tr>\n",
              "    <tr>\n",
              "      <th>50%</th>\n",
              "      <td>0.411803</td>\n",
              "      <td>0.392649</td>\n",
              "      <td>8.925584</td>\n",
              "    </tr>\n",
              "    <tr>\n",
              "      <th>75%</th>\n",
              "      <td>1.599327</td>\n",
              "      <td>3.667917</td>\n",
              "      <td>9.844957</td>\n",
              "    </tr>\n",
              "    <tr>\n",
              "      <th>max</th>\n",
              "      <td>21.116859</td>\n",
              "      <td>21.231781</td>\n",
              "      <td>23.702597</td>\n",
              "    </tr>\n",
              "  </tbody>\n",
              "</table>\n",
              "</div>\n",
              "      <button class=\"colab-df-convert\" onclick=\"convertToInteractive('df-e13a880d-d0fa-4877-9e8c-fa199e5674b5')\"\n",
              "              title=\"Convert this dataframe to an interactive table.\"\n",
              "              style=\"display:none;\">\n",
              "        \n",
              "  <svg xmlns=\"http://www.w3.org/2000/svg\" height=\"24px\"viewBox=\"0 0 24 24\"\n",
              "       width=\"24px\">\n",
              "    <path d=\"M0 0h24v24H0V0z\" fill=\"none\"/>\n",
              "    <path d=\"M18.56 5.44l.94 2.06.94-2.06 2.06-.94-2.06-.94-.94-2.06-.94 2.06-2.06.94zm-11 1L8.5 8.5l.94-2.06 2.06-.94-2.06-.94L8.5 2.5l-.94 2.06-2.06.94zm10 10l.94 2.06.94-2.06 2.06-.94-2.06-.94-.94-2.06-.94 2.06-2.06.94z\"/><path d=\"M17.41 7.96l-1.37-1.37c-.4-.4-.92-.59-1.43-.59-.52 0-1.04.2-1.43.59L10.3 9.45l-7.72 7.72c-.78.78-.78 2.05 0 2.83L4 21.41c.39.39.9.59 1.41.59.51 0 1.02-.2 1.41-.59l7.78-7.78 2.81-2.81c.8-.78.8-2.07 0-2.86zM5.41 20L4 18.59l7.72-7.72 1.47 1.35L5.41 20z\"/>\n",
              "  </svg>\n",
              "      </button>\n",
              "      \n",
              "  <style>\n",
              "    .colab-df-container {\n",
              "      display:flex;\n",
              "      flex-wrap:wrap;\n",
              "      gap: 12px;\n",
              "    }\n",
              "\n",
              "    .colab-df-convert {\n",
              "      background-color: #E8F0FE;\n",
              "      border: none;\n",
              "      border-radius: 50%;\n",
              "      cursor: pointer;\n",
              "      display: none;\n",
              "      fill: #1967D2;\n",
              "      height: 32px;\n",
              "      padding: 0 0 0 0;\n",
              "      width: 32px;\n",
              "    }\n",
              "\n",
              "    .colab-df-convert:hover {\n",
              "      background-color: #E2EBFA;\n",
              "      box-shadow: 0px 1px 2px rgba(60, 64, 67, 0.3), 0px 1px 3px 1px rgba(60, 64, 67, 0.15);\n",
              "      fill: #174EA6;\n",
              "    }\n",
              "\n",
              "    [theme=dark] .colab-df-convert {\n",
              "      background-color: #3B4455;\n",
              "      fill: #D2E3FC;\n",
              "    }\n",
              "\n",
              "    [theme=dark] .colab-df-convert:hover {\n",
              "      background-color: #434B5C;\n",
              "      box-shadow: 0px 1px 3px 1px rgba(0, 0, 0, 0.15);\n",
              "      filter: drop-shadow(0px 1px 2px rgba(0, 0, 0, 0.3));\n",
              "      fill: #FFFFFF;\n",
              "    }\n",
              "  </style>\n",
              "\n",
              "      <script>\n",
              "        const buttonEl =\n",
              "          document.querySelector('#df-e13a880d-d0fa-4877-9e8c-fa199e5674b5 button.colab-df-convert');\n",
              "        buttonEl.style.display =\n",
              "          google.colab.kernel.accessAllowed ? 'block' : 'none';\n",
              "\n",
              "        async function convertToInteractive(key) {\n",
              "          const element = document.querySelector('#df-e13a880d-d0fa-4877-9e8c-fa199e5674b5');\n",
              "          const dataTable =\n",
              "            await google.colab.kernel.invokeFunction('convertToInteractive',\n",
              "                                                     [key], {});\n",
              "          if (!dataTable) return;\n",
              "\n",
              "          const docLinkHtml = 'Like what you see? Visit the ' +\n",
              "            '<a target=\"_blank\" href=https://colab.research.google.com/notebooks/data_table.ipynb>data table notebook</a>'\n",
              "            + ' to learn more about interactive tables.';\n",
              "          element.innerHTML = '';\n",
              "          dataTable['output_type'] = 'display_data';\n",
              "          await google.colab.output.renderOutput(dataTable, element);\n",
              "          const docLink = document.createElement('div');\n",
              "          docLink.innerHTML = docLinkHtml;\n",
              "          element.appendChild(docLink);\n",
              "        }\n",
              "      </script>\n",
              "    </div>\n",
              "  </div>\n",
              "  "
            ]
          },
          "metadata": {},
          "execution_count": 7
        }
      ]
    },
    {
      "cell_type": "code",
      "source": [
        "df.isna().sum()"
      ],
      "metadata": {
        "colab": {
          "base_uri": "https://localhost:8080/"
        },
        "id": "aEfzH6QG1Net",
        "outputId": "ae3e0894-6f43-4d2b-fa6c-0773cfa73542"
      },
      "execution_count": 8,
      "outputs": [
        {
          "output_type": "execute_result",
          "data": {
            "text/plain": [
              "Date       0\n",
              "Time       0\n",
              "accel_x    0\n",
              "accel_y    0\n",
              "accel_z    0\n",
              "dtype: int64"
            ]
          },
          "metadata": {},
          "execution_count": 8
        }
      ]
    },
    {
      "cell_type": "code",
      "source": [
        "df.duplicated().sum()"
      ],
      "metadata": {
        "colab": {
          "base_uri": "https://localhost:8080/"
        },
        "id": "aIqMdXDU1R-Z",
        "outputId": "a48ce7a9-5a6f-47ab-a459-7b9296623ff8"
      },
      "execution_count": 10,
      "outputs": [
        {
          "output_type": "execute_result",
          "data": {
            "text/plain": [
              "0"
            ]
          },
          "metadata": {},
          "execution_count": 10
        }
      ]
    },
    {
      "cell_type": "markdown",
      "source": [
        "creating a new feature to represent the magnitude of the acceleration vector:"
      ],
      "metadata": {
        "id": "g4vWE5dM2DQY"
      }
    },
    {
      "cell_type": "code",
      "source": [
        "df['accel_mag'] = (df['accel_x'] ** 2 + df['accel_y'] ** 2 + df['accel_z'] ** 2) ** 0.5"
      ],
      "metadata": {
        "id": "PDB1QDI61Y-v"
      },
      "execution_count": 11,
      "outputs": []
    },
    {
      "cell_type": "code",
      "source": [
        "df.columns"
      ],
      "metadata": {
        "colab": {
          "base_uri": "https://localhost:8080/"
        },
        "id": "wHNRHz-b134g",
        "outputId": "6e788638-b4a1-4bf4-d492-4596791d21c3"
      },
      "execution_count": 12,
      "outputs": [
        {
          "output_type": "execute_result",
          "data": {
            "text/plain": [
              "Index(['Date', 'Time', 'accel_x', 'accel_y', 'accel_z', 'accel_mag'], dtype='object')"
            ]
          },
          "metadata": {},
          "execution_count": 12
        }
      ]
    },
    {
      "cell_type": "code",
      "source": [
        "df.isna().sum()"
      ],
      "metadata": {
        "colab": {
          "base_uri": "https://localhost:8080/"
        },
        "id": "G5Mkuh2D17g0",
        "outputId": "555aff20-dc45-4e2d-a0a6-21511ebabe40"
      },
      "execution_count": 13,
      "outputs": [
        {
          "output_type": "execute_result",
          "data": {
            "text/plain": [
              "Date         0\n",
              "Time         0\n",
              "accel_x      0\n",
              "accel_y      0\n",
              "accel_z      0\n",
              "accel_mag    0\n",
              "dtype: int64"
            ]
          },
          "metadata": {},
          "execution_count": 13
        }
      ]
    },
    {
      "cell_type": "code",
      "source": [
        "df.duplicated().sum()"
      ],
      "metadata": {
        "colab": {
          "base_uri": "https://localhost:8080/"
        },
        "id": "gtiqYeTX1-NQ",
        "outputId": "daeb82d5-2424-46d8-8f90-67c69ef77ea3"
      },
      "execution_count": 14,
      "outputs": [
        {
          "output_type": "execute_result",
          "data": {
            "text/plain": [
              "0"
            ]
          },
          "metadata": {},
          "execution_count": 14
        }
      ]
    },
    {
      "cell_type": "code",
      "source": [
        "df['Date'].unique()"
      ],
      "metadata": {
        "colab": {
          "base_uri": "https://localhost:8080/"
        },
        "id": "oY09WYtE2G-T",
        "outputId": "5337df64-b857-427d-dae8-edffc8cc3aeb"
      },
      "execution_count": 15,
      "outputs": [
        {
          "output_type": "execute_result",
          "data": {
            "text/plain": [
              "array(['2022-09-03', '2022-09-04', '2022-09-05', '2022-09-06',\n",
              "       '2022-09-07', '2022-09-08', '2022-09-09', '2022-09-10',\n",
              "       '2022-09-11', '2022-09-12', '2022-09-13', '2022-09-14',\n",
              "       '2022-09-15', '2022-09-16', '2022-09-17'], dtype=object)"
            ]
          },
          "metadata": {},
          "execution_count": 15
        }
      ]
    },
    {
      "cell_type": "markdown",
      "source": [
        "The above data is from SEPTEMBER-3 to SEPTEMBER-17"
      ],
      "metadata": {
        "id": "ODjIQD602Zdn"
      }
    },
    {
      "cell_type": "code",
      "source": [
        "writer = pd.ExcelWriter('Accelerometer data analysis.xlsx')"
      ],
      "metadata": {
        "id": "5M2Z3f0oseGt"
      },
      "execution_count": 18,
      "outputs": []
    },
    {
      "cell_type": "code",
      "source": [
        "df.to_excel(writer)"
      ],
      "metadata": {
        "id": "8t5kfcHesivV"
      },
      "execution_count": 19,
      "outputs": []
    },
    {
      "cell_type": "code",
      "source": [
        "writer.save()\n",
        "print('DataFrame is written successfully to Excel File.')"
      ],
      "metadata": {
        "id": "pVXW9qzsslrL",
        "outputId": "40638b8f-bf0c-4045-ae01-c43698de977f",
        "colab": {
          "base_uri": "https://localhost:8080/"
        }
      },
      "execution_count": 20,
      "outputs": [
        {
          "output_type": "stream",
          "name": "stderr",
          "text": [
            "<ipython-input-20-a23b5e58f680>:1: FutureWarning: save is not part of the public API, usage can give unexpected results and will be removed in a future version\n",
            "  writer.save()\n"
          ]
        },
        {
          "output_type": "stream",
          "name": "stdout",
          "text": [
            "DataFrame is written successfully to Excel File.\n"
          ]
        }
      ]
    },
    {
      "cell_type": "markdown",
      "source": [
        "**Now, for visiualization i am using tableau tool**\n"
      ],
      "metadata": {
        "id": "kigTCpJ23UmJ"
      }
    },
    {
      "cell_type": "markdown",
      "source": [
        "https://public.tableau.com/views/Accelerometerdataanalysis/Dashboard1?:language=en-GB&publish=yes&:display_count=n&:origin=viz_share_link"
      ],
      "metadata": {
        "id": "JicjsdF-7x3z"
      }
    },
    {
      "cell_type": "markdown",
      "source": [
        "# Summary\n",
        "\n",
        "Accelerometer is a device used to measure the acceleration or vibrations of a motion. The data provided by an accelerometer is three-dimensional and can be used in data-driven applications for solving problems like fall detection and health monitoring."
      ],
      "metadata": {
        "id": "_Z5nKWSQ7_pK"
      }
    }
  ]
}