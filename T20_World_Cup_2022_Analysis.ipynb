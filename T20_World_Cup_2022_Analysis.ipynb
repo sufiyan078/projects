{
  "nbformat": 4,
  "nbformat_minor": 0,
  "metadata": {
    "colab": {
      "provenance": []
    },
    "kernelspec": {
      "name": "python3",
      "display_name": "Python 3"
    },
    "language_info": {
      "name": "python"
    }
  },
  "cells": [
    {
      "cell_type": "code",
      "execution_count": null,
      "metadata": {
        "id": "HSkVekZSuM-k"
      },
      "outputs": [],
      "source": [
        "import numpy as np\n",
        "import pandas as pd"
      ]
    },
    {
      "cell_type": "code",
      "source": [
        "df=pd.read_csv('/content/t20-world-cup-22.csv')"
      ],
      "metadata": {
        "id": "ZaOKOrGRueic"
      },
      "execution_count": null,
      "outputs": []
    },
    {
      "cell_type": "code",
      "source": [
        "df.head(10)"
      ],
      "metadata": {
        "colab": {
          "base_uri": "https://localhost:8080/",
          "height": 635
        },
        "id": "WjZtcO03ukeC",
        "outputId": "7ab4cdf3-bf22-40d7-9d4c-f2bad4c842e3"
      },
      "execution_count": null,
      "outputs": [
        {
          "output_type": "execute_result",
          "data": {
            "text/plain": [
              "              venue         team1         team2     stage   toss winner  \\\n",
              "0               SCG   New Zealand     Australia  Super 12     Australia   \n",
              "1     Optus Stadium   Afghanistan       England  Super 12       England   \n",
              "2  Blundstone Arena       Ireland     Sri lanka  Super 12       Ireland   \n",
              "3               MCG      Pakistan         India  Super 12         India   \n",
              "4  Blundstone Arena    Bangladesh   Netherlands  Super 12   Netherlands   \n",
              "5  Blundstone Arena      Zimbabwe  South Africa  Super 12      Zimbabwe   \n",
              "6     Optus Stadium     Sri lanka     Australia  Super 12     Australia   \n",
              "7               MCG       Ireland       England  Super 12       England   \n",
              "8               MCG   New Zealand   Afghanistan  Super 12           NaN   \n",
              "9               SCG  South Africa    Bangladesh  Super 12  South Africa   \n",
              "\n",
              "  toss decision  first innings score  first innings wickets  \\\n",
              "0         Field                200.0                    3.0   \n",
              "1         Field                112.0                   10.0   \n",
              "2           Bat                128.0                    8.0   \n",
              "3         Field                159.0                    8.0   \n",
              "4         Field                144.0                    8.0   \n",
              "5           Bat                 79.0                    5.0   \n",
              "6         Field                157.0                    6.0   \n",
              "7         Field                157.0                   10.0   \n",
              "8           NaN                  NaN                    NaN   \n",
              "9           Bat                205.0                    5.0   \n",
              "\n",
              "   second innings score  second innings wickets        winner   won by  \\\n",
              "0                 111.0                    10.0   New Zealand     Runs   \n",
              "1                 113.0                     5.0       England  Wickets   \n",
              "2                 133.0                     1.0     Sri lanka  Wickets   \n",
              "3                 160.0                     6.0         India  Wickets   \n",
              "4                 135.0                    10.0    Bangladesh     Runs   \n",
              "5                  51.0                     0.0           NaN      NaN   \n",
              "6                 158.0                     3.0     Australia  Wickets   \n",
              "7                 105.0                     5.0       Ireland     Runs   \n",
              "8                   NaN                     NaN           NaN      NaN   \n",
              "9                 101.0                    10.0  South Africa     Runs   \n",
              "\n",
              "  player of the match        top scorer  highest score         best bowler  \\\n",
              "0        Devon Conway      Devon Conway           92.0         Tim Southee   \n",
              "1          Sam Curran    Ibrahim Zadran           32.0          Sam Curran   \n",
              "2        Kusal Mendis      Kusal Mendis           68.0  Maheesh Theekshana   \n",
              "3         Virat Kohli       Virat Kohli           82.0       Hardik Pandya   \n",
              "4        Taskin Ahmed   Colin Ackermann           62.0        Taskin Ahmed   \n",
              "5                 NaN   Quinton de Kock           47.0         Lungi Ngidi   \n",
              "6      Marcus Stoinis    Marcus Stoinis           59.0       Glenn Maxwell   \n",
              "7    Andrew Balbirnie  Andrew Balbirnie           62.0    Liam Livingstone   \n",
              "8                 NaN               NaN            NaN                 NaN   \n",
              "9       Rilee Rossouw     Rilee Rossouw          109.0       Anrich Nortje   \n",
              "\n",
              "  best bowling figure  \n",
              "0                 3-6  \n",
              "1                5-10  \n",
              "2                2-19  \n",
              "3                3-30  \n",
              "4                4-25  \n",
              "5                2-20  \n",
              "6                 1-5  \n",
              "7                3-17  \n",
              "8                 NaN  \n",
              "9                4-10  "
            ],
            "text/html": [
              "\n",
              "  <div id=\"df-46873277-08f5-4e2f-856b-f36ae0a6b931\">\n",
              "    <div class=\"colab-df-container\">\n",
              "      <div>\n",
              "<style scoped>\n",
              "    .dataframe tbody tr th:only-of-type {\n",
              "        vertical-align: middle;\n",
              "    }\n",
              "\n",
              "    .dataframe tbody tr th {\n",
              "        vertical-align: top;\n",
              "    }\n",
              "\n",
              "    .dataframe thead th {\n",
              "        text-align: right;\n",
              "    }\n",
              "</style>\n",
              "<table border=\"1\" class=\"dataframe\">\n",
              "  <thead>\n",
              "    <tr style=\"text-align: right;\">\n",
              "      <th></th>\n",
              "      <th>venue</th>\n",
              "      <th>team1</th>\n",
              "      <th>team2</th>\n",
              "      <th>stage</th>\n",
              "      <th>toss winner</th>\n",
              "      <th>toss decision</th>\n",
              "      <th>first innings score</th>\n",
              "      <th>first innings wickets</th>\n",
              "      <th>second innings score</th>\n",
              "      <th>second innings wickets</th>\n",
              "      <th>winner</th>\n",
              "      <th>won by</th>\n",
              "      <th>player of the match</th>\n",
              "      <th>top scorer</th>\n",
              "      <th>highest score</th>\n",
              "      <th>best bowler</th>\n",
              "      <th>best bowling figure</th>\n",
              "    </tr>\n",
              "  </thead>\n",
              "  <tbody>\n",
              "    <tr>\n",
              "      <th>0</th>\n",
              "      <td>SCG</td>\n",
              "      <td>New Zealand</td>\n",
              "      <td>Australia</td>\n",
              "      <td>Super 12</td>\n",
              "      <td>Australia</td>\n",
              "      <td>Field</td>\n",
              "      <td>200.0</td>\n",
              "      <td>3.0</td>\n",
              "      <td>111.0</td>\n",
              "      <td>10.0</td>\n",
              "      <td>New Zealand</td>\n",
              "      <td>Runs</td>\n",
              "      <td>Devon Conway</td>\n",
              "      <td>Devon Conway</td>\n",
              "      <td>92.0</td>\n",
              "      <td>Tim Southee</td>\n",
              "      <td>3-6</td>\n",
              "    </tr>\n",
              "    <tr>\n",
              "      <th>1</th>\n",
              "      <td>Optus Stadium</td>\n",
              "      <td>Afghanistan</td>\n",
              "      <td>England</td>\n",
              "      <td>Super 12</td>\n",
              "      <td>England</td>\n",
              "      <td>Field</td>\n",
              "      <td>112.0</td>\n",
              "      <td>10.0</td>\n",
              "      <td>113.0</td>\n",
              "      <td>5.0</td>\n",
              "      <td>England</td>\n",
              "      <td>Wickets</td>\n",
              "      <td>Sam Curran</td>\n",
              "      <td>Ibrahim Zadran</td>\n",
              "      <td>32.0</td>\n",
              "      <td>Sam Curran</td>\n",
              "      <td>5-10</td>\n",
              "    </tr>\n",
              "    <tr>\n",
              "      <th>2</th>\n",
              "      <td>Blundstone Arena</td>\n",
              "      <td>Ireland</td>\n",
              "      <td>Sri lanka</td>\n",
              "      <td>Super 12</td>\n",
              "      <td>Ireland</td>\n",
              "      <td>Bat</td>\n",
              "      <td>128.0</td>\n",
              "      <td>8.0</td>\n",
              "      <td>133.0</td>\n",
              "      <td>1.0</td>\n",
              "      <td>Sri lanka</td>\n",
              "      <td>Wickets</td>\n",
              "      <td>Kusal Mendis</td>\n",
              "      <td>Kusal Mendis</td>\n",
              "      <td>68.0</td>\n",
              "      <td>Maheesh Theekshana</td>\n",
              "      <td>2-19</td>\n",
              "    </tr>\n",
              "    <tr>\n",
              "      <th>3</th>\n",
              "      <td>MCG</td>\n",
              "      <td>Pakistan</td>\n",
              "      <td>India</td>\n",
              "      <td>Super 12</td>\n",
              "      <td>India</td>\n",
              "      <td>Field</td>\n",
              "      <td>159.0</td>\n",
              "      <td>8.0</td>\n",
              "      <td>160.0</td>\n",
              "      <td>6.0</td>\n",
              "      <td>India</td>\n",
              "      <td>Wickets</td>\n",
              "      <td>Virat Kohli</td>\n",
              "      <td>Virat Kohli</td>\n",
              "      <td>82.0</td>\n",
              "      <td>Hardik Pandya</td>\n",
              "      <td>3-30</td>\n",
              "    </tr>\n",
              "    <tr>\n",
              "      <th>4</th>\n",
              "      <td>Blundstone Arena</td>\n",
              "      <td>Bangladesh</td>\n",
              "      <td>Netherlands</td>\n",
              "      <td>Super 12</td>\n",
              "      <td>Netherlands</td>\n",
              "      <td>Field</td>\n",
              "      <td>144.0</td>\n",
              "      <td>8.0</td>\n",
              "      <td>135.0</td>\n",
              "      <td>10.0</td>\n",
              "      <td>Bangladesh</td>\n",
              "      <td>Runs</td>\n",
              "      <td>Taskin Ahmed</td>\n",
              "      <td>Colin Ackermann</td>\n",
              "      <td>62.0</td>\n",
              "      <td>Taskin Ahmed</td>\n",
              "      <td>4-25</td>\n",
              "    </tr>\n",
              "    <tr>\n",
              "      <th>5</th>\n",
              "      <td>Blundstone Arena</td>\n",
              "      <td>Zimbabwe</td>\n",
              "      <td>South Africa</td>\n",
              "      <td>Super 12</td>\n",
              "      <td>Zimbabwe</td>\n",
              "      <td>Bat</td>\n",
              "      <td>79.0</td>\n",
              "      <td>5.0</td>\n",
              "      <td>51.0</td>\n",
              "      <td>0.0</td>\n",
              "      <td>NaN</td>\n",
              "      <td>NaN</td>\n",
              "      <td>NaN</td>\n",
              "      <td>Quinton de Kock</td>\n",
              "      <td>47.0</td>\n",
              "      <td>Lungi Ngidi</td>\n",
              "      <td>2-20</td>\n",
              "    </tr>\n",
              "    <tr>\n",
              "      <th>6</th>\n",
              "      <td>Optus Stadium</td>\n",
              "      <td>Sri lanka</td>\n",
              "      <td>Australia</td>\n",
              "      <td>Super 12</td>\n",
              "      <td>Australia</td>\n",
              "      <td>Field</td>\n",
              "      <td>157.0</td>\n",
              "      <td>6.0</td>\n",
              "      <td>158.0</td>\n",
              "      <td>3.0</td>\n",
              "      <td>Australia</td>\n",
              "      <td>Wickets</td>\n",
              "      <td>Marcus Stoinis</td>\n",
              "      <td>Marcus Stoinis</td>\n",
              "      <td>59.0</td>\n",
              "      <td>Glenn Maxwell</td>\n",
              "      <td>1-5</td>\n",
              "    </tr>\n",
              "    <tr>\n",
              "      <th>7</th>\n",
              "      <td>MCG</td>\n",
              "      <td>Ireland</td>\n",
              "      <td>England</td>\n",
              "      <td>Super 12</td>\n",
              "      <td>England</td>\n",
              "      <td>Field</td>\n",
              "      <td>157.0</td>\n",
              "      <td>10.0</td>\n",
              "      <td>105.0</td>\n",
              "      <td>5.0</td>\n",
              "      <td>Ireland</td>\n",
              "      <td>Runs</td>\n",
              "      <td>Andrew Balbirnie</td>\n",
              "      <td>Andrew Balbirnie</td>\n",
              "      <td>62.0</td>\n",
              "      <td>Liam Livingstone</td>\n",
              "      <td>3-17</td>\n",
              "    </tr>\n",
              "    <tr>\n",
              "      <th>8</th>\n",
              "      <td>MCG</td>\n",
              "      <td>New Zealand</td>\n",
              "      <td>Afghanistan</td>\n",
              "      <td>Super 12</td>\n",
              "      <td>NaN</td>\n",
              "      <td>NaN</td>\n",
              "      <td>NaN</td>\n",
              "      <td>NaN</td>\n",
              "      <td>NaN</td>\n",
              "      <td>NaN</td>\n",
              "      <td>NaN</td>\n",
              "      <td>NaN</td>\n",
              "      <td>NaN</td>\n",
              "      <td>NaN</td>\n",
              "      <td>NaN</td>\n",
              "      <td>NaN</td>\n",
              "      <td>NaN</td>\n",
              "    </tr>\n",
              "    <tr>\n",
              "      <th>9</th>\n",
              "      <td>SCG</td>\n",
              "      <td>South Africa</td>\n",
              "      <td>Bangladesh</td>\n",
              "      <td>Super 12</td>\n",
              "      <td>South Africa</td>\n",
              "      <td>Bat</td>\n",
              "      <td>205.0</td>\n",
              "      <td>5.0</td>\n",
              "      <td>101.0</td>\n",
              "      <td>10.0</td>\n",
              "      <td>South Africa</td>\n",
              "      <td>Runs</td>\n",
              "      <td>Rilee Rossouw</td>\n",
              "      <td>Rilee Rossouw</td>\n",
              "      <td>109.0</td>\n",
              "      <td>Anrich Nortje</td>\n",
              "      <td>4-10</td>\n",
              "    </tr>\n",
              "  </tbody>\n",
              "</table>\n",
              "</div>\n",
              "      <button class=\"colab-df-convert\" onclick=\"convertToInteractive('df-46873277-08f5-4e2f-856b-f36ae0a6b931')\"\n",
              "              title=\"Convert this dataframe to an interactive table.\"\n",
              "              style=\"display:none;\">\n",
              "        \n",
              "  <svg xmlns=\"http://www.w3.org/2000/svg\" height=\"24px\"viewBox=\"0 0 24 24\"\n",
              "       width=\"24px\">\n",
              "    <path d=\"M0 0h24v24H0V0z\" fill=\"none\"/>\n",
              "    <path d=\"M18.56 5.44l.94 2.06.94-2.06 2.06-.94-2.06-.94-.94-2.06-.94 2.06-2.06.94zm-11 1L8.5 8.5l.94-2.06 2.06-.94-2.06-.94L8.5 2.5l-.94 2.06-2.06.94zm10 10l.94 2.06.94-2.06 2.06-.94-2.06-.94-.94-2.06-.94 2.06-2.06.94z\"/><path d=\"M17.41 7.96l-1.37-1.37c-.4-.4-.92-.59-1.43-.59-.52 0-1.04.2-1.43.59L10.3 9.45l-7.72 7.72c-.78.78-.78 2.05 0 2.83L4 21.41c.39.39.9.59 1.41.59.51 0 1.02-.2 1.41-.59l7.78-7.78 2.81-2.81c.8-.78.8-2.07 0-2.86zM5.41 20L4 18.59l7.72-7.72 1.47 1.35L5.41 20z\"/>\n",
              "  </svg>\n",
              "      </button>\n",
              "      \n",
              "  <style>\n",
              "    .colab-df-container {\n",
              "      display:flex;\n",
              "      flex-wrap:wrap;\n",
              "      gap: 12px;\n",
              "    }\n",
              "\n",
              "    .colab-df-convert {\n",
              "      background-color: #E8F0FE;\n",
              "      border: none;\n",
              "      border-radius: 50%;\n",
              "      cursor: pointer;\n",
              "      display: none;\n",
              "      fill: #1967D2;\n",
              "      height: 32px;\n",
              "      padding: 0 0 0 0;\n",
              "      width: 32px;\n",
              "    }\n",
              "\n",
              "    .colab-df-convert:hover {\n",
              "      background-color: #E2EBFA;\n",
              "      box-shadow: 0px 1px 2px rgba(60, 64, 67, 0.3), 0px 1px 3px 1px rgba(60, 64, 67, 0.15);\n",
              "      fill: #174EA6;\n",
              "    }\n",
              "\n",
              "    [theme=dark] .colab-df-convert {\n",
              "      background-color: #3B4455;\n",
              "      fill: #D2E3FC;\n",
              "    }\n",
              "\n",
              "    [theme=dark] .colab-df-convert:hover {\n",
              "      background-color: #434B5C;\n",
              "      box-shadow: 0px 1px 3px 1px rgba(0, 0, 0, 0.15);\n",
              "      filter: drop-shadow(0px 1px 2px rgba(0, 0, 0, 0.3));\n",
              "      fill: #FFFFFF;\n",
              "    }\n",
              "  </style>\n",
              "\n",
              "      <script>\n",
              "        const buttonEl =\n",
              "          document.querySelector('#df-46873277-08f5-4e2f-856b-f36ae0a6b931 button.colab-df-convert');\n",
              "        buttonEl.style.display =\n",
              "          google.colab.kernel.accessAllowed ? 'block' : 'none';\n",
              "\n",
              "        async function convertToInteractive(key) {\n",
              "          const element = document.querySelector('#df-46873277-08f5-4e2f-856b-f36ae0a6b931');\n",
              "          const dataTable =\n",
              "            await google.colab.kernel.invokeFunction('convertToInteractive',\n",
              "                                                     [key], {});\n",
              "          if (!dataTable) return;\n",
              "\n",
              "          const docLinkHtml = 'Like what you see? Visit the ' +\n",
              "            '<a target=\"_blank\" href=https://colab.research.google.com/notebooks/data_table.ipynb>data table notebook</a>'\n",
              "            + ' to learn more about interactive tables.';\n",
              "          element.innerHTML = '';\n",
              "          dataTable['output_type'] = 'display_data';\n",
              "          await google.colab.output.renderOutput(dataTable, element);\n",
              "          const docLink = document.createElement('div');\n",
              "          docLink.innerHTML = docLinkHtml;\n",
              "          element.appendChild(docLink);\n",
              "        }\n",
              "      </script>\n",
              "    </div>\n",
              "  </div>\n",
              "  "
            ]
          },
          "metadata": {},
          "execution_count": 3
        }
      ]
    },
    {
      "cell_type": "code",
      "source": [
        "df.shape"
      ],
      "metadata": {
        "colab": {
          "base_uri": "https://localhost:8080/"
        },
        "id": "chnbLK-iuroz",
        "outputId": "eda26acb-8693-4fea-d355-f498ad0240c2"
      },
      "execution_count": null,
      "outputs": [
        {
          "output_type": "execute_result",
          "data": {
            "text/plain": [
              "(33, 17)"
            ]
          },
          "metadata": {},
          "execution_count": 4
        }
      ]
    },
    {
      "cell_type": "code",
      "source": [
        "df.describe()"
      ],
      "metadata": {
        "colab": {
          "base_uri": "https://localhost:8080/",
          "height": 300
        },
        "id": "IKkGKP97uxU6",
        "outputId": "41b69cf3-d3fe-408d-947b-be87af2d8c95"
      },
      "execution_count": null,
      "outputs": [
        {
          "output_type": "execute_result",
          "data": {
            "text/plain": [
              "       first innings score  first innings wickets  second innings score  \\\n",
              "count            30.000000              30.000000             30.000000   \n",
              "mean            153.366667               6.866667            130.800000   \n",
              "std              30.440992               2.096521             25.511863   \n",
              "min              79.000000               2.000000             51.000000   \n",
              "25%             134.000000               5.250000            113.500000   \n",
              "50%             157.000000               7.500000            136.000000   \n",
              "75%             179.000000               8.000000            147.750000   \n",
              "max             205.000000              10.000000            170.000000   \n",
              "\n",
              "       second innings wickets  highest score  \n",
              "count               30.000000      30.000000  \n",
              "mean                 6.233333      64.066667  \n",
              "std                  3.013571      17.264541  \n",
              "min                  0.000000      32.000000  \n",
              "25%                  5.000000      52.500000  \n",
              "50%                  6.000000      62.000000  \n",
              "75%                  9.000000      70.250000  \n",
              "max                 10.000000     109.000000  "
            ],
            "text/html": [
              "\n",
              "  <div id=\"df-933f989e-3bde-41de-a779-18cb565acfa7\">\n",
              "    <div class=\"colab-df-container\">\n",
              "      <div>\n",
              "<style scoped>\n",
              "    .dataframe tbody tr th:only-of-type {\n",
              "        vertical-align: middle;\n",
              "    }\n",
              "\n",
              "    .dataframe tbody tr th {\n",
              "        vertical-align: top;\n",
              "    }\n",
              "\n",
              "    .dataframe thead th {\n",
              "        text-align: right;\n",
              "    }\n",
              "</style>\n",
              "<table border=\"1\" class=\"dataframe\">\n",
              "  <thead>\n",
              "    <tr style=\"text-align: right;\">\n",
              "      <th></th>\n",
              "      <th>first innings score</th>\n",
              "      <th>first innings wickets</th>\n",
              "      <th>second innings score</th>\n",
              "      <th>second innings wickets</th>\n",
              "      <th>highest score</th>\n",
              "    </tr>\n",
              "  </thead>\n",
              "  <tbody>\n",
              "    <tr>\n",
              "      <th>count</th>\n",
              "      <td>30.000000</td>\n",
              "      <td>30.000000</td>\n",
              "      <td>30.000000</td>\n",
              "      <td>30.000000</td>\n",
              "      <td>30.000000</td>\n",
              "    </tr>\n",
              "    <tr>\n",
              "      <th>mean</th>\n",
              "      <td>153.366667</td>\n",
              "      <td>6.866667</td>\n",
              "      <td>130.800000</td>\n",
              "      <td>6.233333</td>\n",
              "      <td>64.066667</td>\n",
              "    </tr>\n",
              "    <tr>\n",
              "      <th>std</th>\n",
              "      <td>30.440992</td>\n",
              "      <td>2.096521</td>\n",
              "      <td>25.511863</td>\n",
              "      <td>3.013571</td>\n",
              "      <td>17.264541</td>\n",
              "    </tr>\n",
              "    <tr>\n",
              "      <th>min</th>\n",
              "      <td>79.000000</td>\n",
              "      <td>2.000000</td>\n",
              "      <td>51.000000</td>\n",
              "      <td>0.000000</td>\n",
              "      <td>32.000000</td>\n",
              "    </tr>\n",
              "    <tr>\n",
              "      <th>25%</th>\n",
              "      <td>134.000000</td>\n",
              "      <td>5.250000</td>\n",
              "      <td>113.500000</td>\n",
              "      <td>5.000000</td>\n",
              "      <td>52.500000</td>\n",
              "    </tr>\n",
              "    <tr>\n",
              "      <th>50%</th>\n",
              "      <td>157.000000</td>\n",
              "      <td>7.500000</td>\n",
              "      <td>136.000000</td>\n",
              "      <td>6.000000</td>\n",
              "      <td>62.000000</td>\n",
              "    </tr>\n",
              "    <tr>\n",
              "      <th>75%</th>\n",
              "      <td>179.000000</td>\n",
              "      <td>8.000000</td>\n",
              "      <td>147.750000</td>\n",
              "      <td>9.000000</td>\n",
              "      <td>70.250000</td>\n",
              "    </tr>\n",
              "    <tr>\n",
              "      <th>max</th>\n",
              "      <td>205.000000</td>\n",
              "      <td>10.000000</td>\n",
              "      <td>170.000000</td>\n",
              "      <td>10.000000</td>\n",
              "      <td>109.000000</td>\n",
              "    </tr>\n",
              "  </tbody>\n",
              "</table>\n",
              "</div>\n",
              "      <button class=\"colab-df-convert\" onclick=\"convertToInteractive('df-933f989e-3bde-41de-a779-18cb565acfa7')\"\n",
              "              title=\"Convert this dataframe to an interactive table.\"\n",
              "              style=\"display:none;\">\n",
              "        \n",
              "  <svg xmlns=\"http://www.w3.org/2000/svg\" height=\"24px\"viewBox=\"0 0 24 24\"\n",
              "       width=\"24px\">\n",
              "    <path d=\"M0 0h24v24H0V0z\" fill=\"none\"/>\n",
              "    <path d=\"M18.56 5.44l.94 2.06.94-2.06 2.06-.94-2.06-.94-.94-2.06-.94 2.06-2.06.94zm-11 1L8.5 8.5l.94-2.06 2.06-.94-2.06-.94L8.5 2.5l-.94 2.06-2.06.94zm10 10l.94 2.06.94-2.06 2.06-.94-2.06-.94-.94-2.06-.94 2.06-2.06.94z\"/><path d=\"M17.41 7.96l-1.37-1.37c-.4-.4-.92-.59-1.43-.59-.52 0-1.04.2-1.43.59L10.3 9.45l-7.72 7.72c-.78.78-.78 2.05 0 2.83L4 21.41c.39.39.9.59 1.41.59.51 0 1.02-.2 1.41-.59l7.78-7.78 2.81-2.81c.8-.78.8-2.07 0-2.86zM5.41 20L4 18.59l7.72-7.72 1.47 1.35L5.41 20z\"/>\n",
              "  </svg>\n",
              "      </button>\n",
              "      \n",
              "  <style>\n",
              "    .colab-df-container {\n",
              "      display:flex;\n",
              "      flex-wrap:wrap;\n",
              "      gap: 12px;\n",
              "    }\n",
              "\n",
              "    .colab-df-convert {\n",
              "      background-color: #E8F0FE;\n",
              "      border: none;\n",
              "      border-radius: 50%;\n",
              "      cursor: pointer;\n",
              "      display: none;\n",
              "      fill: #1967D2;\n",
              "      height: 32px;\n",
              "      padding: 0 0 0 0;\n",
              "      width: 32px;\n",
              "    }\n",
              "\n",
              "    .colab-df-convert:hover {\n",
              "      background-color: #E2EBFA;\n",
              "      box-shadow: 0px 1px 2px rgba(60, 64, 67, 0.3), 0px 1px 3px 1px rgba(60, 64, 67, 0.15);\n",
              "      fill: #174EA6;\n",
              "    }\n",
              "\n",
              "    [theme=dark] .colab-df-convert {\n",
              "      background-color: #3B4455;\n",
              "      fill: #D2E3FC;\n",
              "    }\n",
              "\n",
              "    [theme=dark] .colab-df-convert:hover {\n",
              "      background-color: #434B5C;\n",
              "      box-shadow: 0px 1px 3px 1px rgba(0, 0, 0, 0.15);\n",
              "      filter: drop-shadow(0px 1px 2px rgba(0, 0, 0, 0.3));\n",
              "      fill: #FFFFFF;\n",
              "    }\n",
              "  </style>\n",
              "\n",
              "      <script>\n",
              "        const buttonEl =\n",
              "          document.querySelector('#df-933f989e-3bde-41de-a779-18cb565acfa7 button.colab-df-convert');\n",
              "        buttonEl.style.display =\n",
              "          google.colab.kernel.accessAllowed ? 'block' : 'none';\n",
              "\n",
              "        async function convertToInteractive(key) {\n",
              "          const element = document.querySelector('#df-933f989e-3bde-41de-a779-18cb565acfa7');\n",
              "          const dataTable =\n",
              "            await google.colab.kernel.invokeFunction('convertToInteractive',\n",
              "                                                     [key], {});\n",
              "          if (!dataTable) return;\n",
              "\n",
              "          const docLinkHtml = 'Like what you see? Visit the ' +\n",
              "            '<a target=\"_blank\" href=https://colab.research.google.com/notebooks/data_table.ipynb>data table notebook</a>'\n",
              "            + ' to learn more about interactive tables.';\n",
              "          element.innerHTML = '';\n",
              "          dataTable['output_type'] = 'display_data';\n",
              "          await google.colab.output.renderOutput(dataTable, element);\n",
              "          const docLink = document.createElement('div');\n",
              "          docLink.innerHTML = docLinkHtml;\n",
              "          element.appendChild(docLink);\n",
              "        }\n",
              "      </script>\n",
              "    </div>\n",
              "  </div>\n",
              "  "
            ]
          },
          "metadata": {},
          "execution_count": 5
        }
      ]
    },
    {
      "cell_type": "code",
      "source": [
        "df.info()"
      ],
      "metadata": {
        "colab": {
          "base_uri": "https://localhost:8080/"
        },
        "id": "rPx6ilWou9Yf",
        "outputId": "df67e90b-9c96-4a3b-9210-d4e78d1ab21a"
      },
      "execution_count": null,
      "outputs": [
        {
          "output_type": "stream",
          "name": "stdout",
          "text": [
            "<class 'pandas.core.frame.DataFrame'>\n",
            "RangeIndex: 33 entries, 0 to 32\n",
            "Data columns (total 17 columns):\n",
            " #   Column                  Non-Null Count  Dtype  \n",
            "---  ------                  --------------  -----  \n",
            " 0   venue                   33 non-null     object \n",
            " 1   team1                   33 non-null     object \n",
            " 2   team2                   33 non-null     object \n",
            " 3   stage                   33 non-null     object \n",
            " 4   toss winner             30 non-null     object \n",
            " 5   toss decision           30 non-null     object \n",
            " 6   first innings score     30 non-null     float64\n",
            " 7   first innings wickets   30 non-null     float64\n",
            " 8   second innings score    30 non-null     float64\n",
            " 9   second innings wickets  30 non-null     float64\n",
            " 10  winner                  29 non-null     object \n",
            " 11  won by                  29 non-null     object \n",
            " 12  player of the match     29 non-null     object \n",
            " 13  top scorer              30 non-null     object \n",
            " 14  highest score           30 non-null     float64\n",
            " 15  best bowler             30 non-null     object \n",
            " 16  best bowling figure     30 non-null     object \n",
            "dtypes: float64(5), object(12)\n",
            "memory usage: 4.5+ KB\n"
          ]
        }
      ]
    },
    {
      "cell_type": "code",
      "source": [
        "df.isna().sum()"
      ],
      "metadata": {
        "colab": {
          "base_uri": "https://localhost:8080/"
        },
        "id": "NmcbSYUovjKr",
        "outputId": "24f32d83-8ab7-4f5d-a8de-8645319c398d"
      },
      "execution_count": null,
      "outputs": [
        {
          "output_type": "execute_result",
          "data": {
            "text/plain": [
              "venue                     0\n",
              "team1                     0\n",
              "team2                     0\n",
              "stage                     0\n",
              "toss winner               3\n",
              "toss decision             3\n",
              "first innings score       3\n",
              "first innings wickets     3\n",
              "second innings score      3\n",
              "second innings wickets    3\n",
              "winner                    4\n",
              "won by                    4\n",
              "player of the match       4\n",
              "top scorer                3\n",
              "highest score             3\n",
              "best bowler               3\n",
              "best bowling figure       3\n",
              "dtype: int64"
            ]
          },
          "metadata": {},
          "execution_count": 10
        }
      ]
    },
    {
      "cell_type": "code",
      "source": [
        "df['venue'].value_counts()"
      ],
      "metadata": {
        "colab": {
          "base_uri": "https://localhost:8080/"
        },
        "id": "4N0vLyu_vCBD",
        "outputId": "76f6ef6a-2a00-47e6-d5c7-987942580162"
      },
      "execution_count": null,
      "outputs": [
        {
          "output_type": "execute_result",
          "data": {
            "text/plain": [
              "SCG                 7\n",
              "MCG                 7\n",
              "Adelaide Oval       7\n",
              "Optus Stadium       5\n",
              "The Gabba           4\n",
              "Blundstone Arena    3\n",
              "Name: venue, dtype: int64"
            ]
          },
          "metadata": {},
          "execution_count": 7
        }
      ]
    },
    {
      "cell_type": "code",
      "source": [
        "df['team1'].value_counts()"
      ],
      "metadata": {
        "colab": {
          "base_uri": "https://localhost:8080/"
        },
        "id": "7fbBHwx8vMMD",
        "outputId": "0f4db99a-84f9-4ff9-c901-74d93591b3ea"
      },
      "execution_count": null,
      "outputs": [
        {
          "output_type": "execute_result",
          "data": {
            "text/plain": [
              "New Zealand     5\n",
              "India           5\n",
              "Afghanistan     3\n",
              "Pakistan        3\n",
              "Bangladesh      3\n",
              "Zimbabwe        3\n",
              "Australia       3\n",
              "Ireland         2\n",
              "Sri lanka       2\n",
              "Netherlands     2\n",
              "South Africa    1\n",
              "England         1\n",
              "Name: team1, dtype: int64"
            ]
          },
          "metadata": {},
          "execution_count": 8
        }
      ]
    },
    {
      "cell_type": "code",
      "source": [
        "df['team2'].value_counts()"
      ],
      "metadata": {
        "colab": {
          "base_uri": "https://localhost:8080/"
        },
        "id": "AlD-79VOvRZd",
        "outputId": "e88f7f3a-48fe-424a-d593-8782e8f07175"
      },
      "execution_count": null,
      "outputs": [
        {
          "output_type": "execute_result",
          "data": {
            "text/plain": [
              "England         6\n",
              "South Africa    4\n",
              "Pakistan        4\n",
              "Sri lanka       3\n",
              "Netherlands     3\n",
              "Ireland         3\n",
              "Australia       2\n",
              "Afghanistan     2\n",
              "Bangladesh      2\n",
              "Zimbabwe        2\n",
              "India           1\n",
              "New Zealand     1\n",
              "Name: team2, dtype: int64"
            ]
          },
          "metadata": {},
          "execution_count": 9
        }
      ]
    },
    {
      "cell_type": "code",
      "source": [
        "df['stage'].value_counts()"
      ],
      "metadata": {
        "colab": {
          "base_uri": "https://localhost:8080/"
        },
        "id": "WXNt4Rn0vp8A",
        "outputId": "6f4dc481-673d-4f90-a995-c08a7522fff3"
      },
      "execution_count": null,
      "outputs": [
        {
          "output_type": "execute_result",
          "data": {
            "text/plain": [
              "Super 12      30\n",
              "Semi-final     2\n",
              "Final          1\n",
              "Name: stage, dtype: int64"
            ]
          },
          "metadata": {},
          "execution_count": 11
        }
      ]
    },
    {
      "cell_type": "code",
      "source": [
        "df['toss winner'].value_counts()"
      ],
      "metadata": {
        "colab": {
          "base_uri": "https://localhost:8080/"
        },
        "id": "NZq9maMNvwms",
        "outputId": "6213de1b-6966-4cba-9ae0-a858e94bacbd"
      },
      "execution_count": null,
      "outputs": [
        {
          "output_type": "execute_result",
          "data": {
            "text/plain": [
              "England         5\n",
              "India           4\n",
              "Ireland         3\n",
              "Zimbabwe        3\n",
              "Bangladesh      3\n",
              "Australia       2\n",
              "Netherlands     2\n",
              "South Africa    2\n",
              "New Zealand     2\n",
              "Afghanistan     2\n",
              "Pakistan        1\n",
              "Sri lanka       1\n",
              "Name: toss winner, dtype: int64"
            ]
          },
          "metadata": {},
          "execution_count": 12
        }
      ]
    },
    {
      "cell_type": "code",
      "source": [
        "df['toss decision'].value_counts()"
      ],
      "metadata": {
        "colab": {
          "base_uri": "https://localhost:8080/"
        },
        "id": "DNCO56MBv3xA",
        "outputId": "36e6b7f2-8d81-4731-a95d-cb3505ed4c30"
      },
      "execution_count": null,
      "outputs": [
        {
          "output_type": "execute_result",
          "data": {
            "text/plain": [
              "Bat      17\n",
              "Field    13\n",
              "Name: toss decision, dtype: int64"
            ]
          },
          "metadata": {},
          "execution_count": 13
        }
      ]
    },
    {
      "cell_type": "code",
      "source": [
        "df['won by'].value_counts()"
      ],
      "metadata": {
        "colab": {
          "base_uri": "https://localhost:8080/"
        },
        "id": "t9eJaf_HwGnf",
        "outputId": "da39c5c4-2c3a-400d-ab9d-67fb41580e3c"
      },
      "execution_count": null,
      "outputs": [
        {
          "output_type": "execute_result",
          "data": {
            "text/plain": [
              "Runs       16\n",
              "Wickets    13\n",
              "Name: won by, dtype: int64"
            ]
          },
          "metadata": {},
          "execution_count": 14
        }
      ]
    },
    {
      "cell_type": "code",
      "source": [
        "df['player of the match'].value_counts()"
      ],
      "metadata": {
        "colab": {
          "base_uri": "https://localhost:8080/"
        },
        "id": "h1taCHxHwQv5",
        "outputId": "531ccab7-39b4-4186-8392-e84de289ce0f"
      },
      "execution_count": null,
      "outputs": [
        {
          "output_type": "execute_result",
          "data": {
            "text/plain": [
              "Virat Kohli          2\n",
              "Taskin Ahmed         2\n",
              "Suryakumar Yadav     2\n",
              "Shadab Khan          2\n",
              "Sam Curran           2\n",
              "Devon Conway         1\n",
              "Jos Buttler          1\n",
              "Mohammad Rizwan      1\n",
              "Shaheen Afridi       1\n",
              "Colin Ackermann      1\n",
              "Adil Rashid          1\n",
              "Glenn Maxwell        1\n",
              "Kane Williamson      1\n",
              "Max O'Dowd           1\n",
              "Lungi Ngidi          1\n",
              "Wanindu Hasaranga    1\n",
              "Aaron Finch          1\n",
              "Glenn Phillips       1\n",
              "Sikandar Raza        1\n",
              "Rilee Rossouw        1\n",
              "Andrew Balbirnie     1\n",
              "Marcus Stoinis       1\n",
              "Kusal Mendis         1\n",
              "Alex Hales           1\n",
              "Name: player of the match, dtype: int64"
            ]
          },
          "metadata": {},
          "execution_count": 15
        }
      ]
    },
    {
      "cell_type": "code",
      "source": [
        "df['top scorer'].value_counts()"
      ],
      "metadata": {
        "colab": {
          "base_uri": "https://localhost:8080/"
        },
        "id": "bymeqilQwa9F",
        "outputId": "19c9faf0-935c-41bf-f6b2-e1485f8b2b50"
      },
      "execution_count": null,
      "outputs": [
        {
          "output_type": "execute_result",
          "data": {
            "text/plain": [
              "Virat Kohli         3\n",
              "Mohammad Rizwan     2\n",
              "Colin Ackermann     2\n",
              "Najmul Hossain      2\n",
              "Suryakumar Yadav    2\n",
              "Lorcan Tucker       1\n",
              "Alex Hales          1\n",
              "Pathum Nissanka     1\n",
              "Glenn Maxwell       1\n",
              "Kane Williamson     1\n",
              "Shadab Khan         1\n",
              "Max O'Dowd          1\n",
              "Jos Buttler         1\n",
              "de Silva            1\n",
              "Devon Conway        1\n",
              "Ibrahim Zadran      1\n",
              "Glenn Phillips      1\n",
              "Shan Masood         1\n",
              "Rilee Rossouw       1\n",
              "Andrew Balbirnie    1\n",
              "Marcus Stoinis      1\n",
              "Quinton de Kock     1\n",
              "Kusal Mendis        1\n",
              "Ben Stokes          1\n",
              "Name: top scorer, dtype: int64"
            ]
          },
          "metadata": {},
          "execution_count": 16
        }
      ]
    },
    {
      "cell_type": "code",
      "source": [
        "df['best bowler'].value_counts()"
      ],
      "metadata": {
        "colab": {
          "base_uri": "https://localhost:8080/"
        },
        "id": "iHDS8RMZwgd2",
        "outputId": "9f9bc23b-c107-43e2-db84-e13ae6625fd8"
      },
      "execution_count": null,
      "outputs": [
        {
          "output_type": "execute_result",
          "data": {
            "text/plain": [
              "Sam Curran             3\n",
              "Shaheen Afridi         2\n",
              "Taskin Ahmed           2\n",
              "Lungi Ngidi            2\n",
              "Anrich Nortje          2\n",
              "Tim Southee            1\n",
              "Wanindu Hasaranga      1\n",
              "Ravichandran Ashwin    1\n",
              "Brandon Glover         1\n",
              "Mark Wood              1\n",
              "Naveen-ul-Haq          1\n",
              "Lockie Ferguson        1\n",
              "Hasan Mahmud           1\n",
              "Paul van Meekeren      1\n",
              "Shadab Khan            1\n",
              "Barry McCarthy         1\n",
              "Trent Boult            1\n",
              "Mohammad Wasim         1\n",
              "Bhuvneshwar Kumar      1\n",
              "Liam Livingstone       1\n",
              "Glenn Maxwell          1\n",
              "Hardik Pandya          1\n",
              "Maheesh Theekshana     1\n",
              "Chris Jordan           1\n",
              "Name: best bowler, dtype: int64"
            ]
          },
          "metadata": {},
          "execution_count": 17
        }
      ]
    },
    {
      "cell_type": "code",
      "source": [
        "df['best bowling figure'].value_counts()"
      ],
      "metadata": {
        "colab": {
          "base_uri": "https://localhost:8080/"
        },
        "id": "vr4f-4Tbwk1q",
        "outputId": "f3a5fa18-4c2e-40b0-91d4-e36605b9af19"
      },
      "execution_count": null,
      "outputs": [
        {
          "output_type": "execute_result",
          "data": {
            "text/plain": [
              "3-22    3\n",
              "3-29    2\n",
              "2-19    2\n",
              "3-6     1\n",
              "3-43    1\n",
              "2-24    1\n",
              "4-22    1\n",
              "3-9     1\n",
              "3-26    1\n",
              "3-21    1\n",
              "4-41    1\n",
              "3-47    1\n",
              "2-26    1\n",
              "3-13    1\n",
              "4-29    1\n",
              "5-10    1\n",
              "3-19    1\n",
              "4-13    1\n",
              "4-24    1\n",
              "4-10    1\n",
              "3-17    1\n",
              "1-5     1\n",
              "2-20    1\n",
              "4-25    1\n",
              "3-30    1\n",
              "3-12    1\n",
              "Name: best bowling figure, dtype: int64"
            ]
          },
          "metadata": {},
          "execution_count": 19
        }
      ]
    },
    {
      "cell_type": "markdown",
      "source": [
        "The Visiualization of this problem is done on tableau tool\n"
      ],
      "metadata": {
        "id": "1s-c7pK3Nusg"
      }
    },
    {
      "cell_type": "markdown",
      "source": [
        "https://public.tableau.com/views/T20WorldCup2022Analysis/T20WorldCup2022Analysis?:language=en-US&publish=yes&:display_count=n&:origin=viz_share_link"
      ],
      "metadata": {
        "id": "rlWwSy5uN2mp"
      }
    },
    {
      "cell_type": "markdown",
      "source": [
        "# **Summary**\n",
        "\n",
        "So some highlights of the t20 world cup 2022 we found from our analysis are:\n",
        "\n",
        "\n",
        "1.  England won the most number of matches\n",
        "\n",
        "1.  Virat Kohli scored highest in the most number of matches\n",
        "\n",
        "1.   \n",
        "Sam Curran was the best bowler in the most number of matches\n",
        "\n",
        "1.   More teams won by batting first\n",
        "2.  More teams decided to bat first\n",
        "\n",
        "\n",
        "6. SCG was the best stadium to bat first\n",
        "\n",
        "\n",
        "7.   \n",
        "SCG was the best stadium to defend the target in the World Cup\n",
        "\n",
        "\n",
        "8.   \n",
        "The Optus Stadium was the best stadium to bowl first\n",
        "\n",
        "\n",
        "\n"
      ],
      "metadata": {
        "id": "qNdqsef7N-DW"
      }
    }
  ]
}