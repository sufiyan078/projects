{
  "nbformat": 4,
  "nbformat_minor": 0,
  "metadata": {
    "colab": {
      "provenance": []
    },
    "kernelspec": {
      "name": "python3",
      "display_name": "Python 3"
    },
    "language_info": {
      "name": "python"
    }
  },
  "cells": [
    {
      "cell_type": "code",
      "execution_count": 1,
      "metadata": {
        "id": "bnHGogA4QqJk"
      },
      "outputs": [],
      "source": [
        "import numpy as np\n",
        "import pandas as pd"
      ]
    },
    {
      "cell_type": "code",
      "source": [
        "import zipfile\n",
        "with zipfile.ZipFile('/content/stocks.zip') as zip_file:\n",
        "    file_list = zip_file.namelist()\n",
        "\n",
        "file_list"
      ],
      "metadata": {
        "colab": {
          "base_uri": "https://localhost:8080/"
        },
        "id": "YatRuiChRIxW",
        "outputId": "9d6a368a-cecc-4f84-ff64-ebcc1f7d815d"
      },
      "execution_count": 2,
      "outputs": [
        {
          "output_type": "execute_result",
          "data": {
            "text/plain": [
              "['stocks.csv', '__MACOSX/._stocks.csv']"
            ]
          },
          "metadata": {},
          "execution_count": 2
        }
      ]
    },
    {
      "cell_type": "code",
      "source": [
        "\n",
        "import pandas as pd\n",
        "with zipfile.ZipFile('/content/stocks.zip') as zip_file:\n",
        "    df = pd.read_csv(zip_file.open('stocks.csv'))"
      ],
      "metadata": {
        "id": "NzNpY8NCRYEV"
      },
      "execution_count": 4,
      "outputs": []
    },
    {
      "cell_type": "code",
      "source": [
        "df"
      ],
      "metadata": {
        "colab": {
          "base_uri": "https://localhost:8080/",
          "height": 424
        },
        "id": "9kV49bUSRbqv",
        "outputId": "012c3dc9-481c-4cae-93c0-ef2e5d95ea5a"
      },
      "execution_count": 5,
      "outputs": [
        {
          "output_type": "execute_result",
          "data": {
            "text/plain": [
              "    Ticker        Date        Open        High         Low       Close  \\\n",
              "0     AAPL  2023-02-07  150.639999  155.229996  150.639999  154.649994   \n",
              "1     AAPL  2023-02-08  153.880005  154.580002  151.169998  151.919998   \n",
              "2     AAPL  2023-02-09  153.779999  154.330002  150.419998  150.869995   \n",
              "3     AAPL  2023-02-10  149.460007  151.339996  149.220001  151.009995   \n",
              "4     AAPL  2023-02-13  150.949997  154.259995  150.919998  153.850006   \n",
              "..     ...         ...         ...         ...         ...         ...   \n",
              "243   GOOG  2023-05-01  107.720001  108.680000  107.500000  107.709999   \n",
              "244   GOOG  2023-05-02  107.660004  107.730003  104.500000  105.980003   \n",
              "245   GOOG  2023-05-03  106.220001  108.129997  105.620003  106.120003   \n",
              "246   GOOG  2023-05-04  106.160004  106.300003  104.699997  105.209999   \n",
              "247   GOOG  2023-05-05  105.320000  106.440002  104.738998  106.214996   \n",
              "\n",
              "      Adj Close    Volume  \n",
              "0    154.414230  83322600  \n",
              "1    151.688400  64120100  \n",
              "2    150.639999  56007100  \n",
              "3    151.009995  57450700  \n",
              "4    153.850006  62199000  \n",
              "..          ...       ...  \n",
              "243  107.709999  20926300  \n",
              "244  105.980003  20343100  \n",
              "245  106.120003  17116300  \n",
              "246  105.209999  19780600  \n",
              "247  106.214996  20705300  \n",
              "\n",
              "[248 rows x 8 columns]"
            ],
            "text/html": [
              "\n",
              "  <div id=\"df-a9cc3a3b-d480-4d84-af34-c7395bc17490\">\n",
              "    <div class=\"colab-df-container\">\n",
              "      <div>\n",
              "<style scoped>\n",
              "    .dataframe tbody tr th:only-of-type {\n",
              "        vertical-align: middle;\n",
              "    }\n",
              "\n",
              "    .dataframe tbody tr th {\n",
              "        vertical-align: top;\n",
              "    }\n",
              "\n",
              "    .dataframe thead th {\n",
              "        text-align: right;\n",
              "    }\n",
              "</style>\n",
              "<table border=\"1\" class=\"dataframe\">\n",
              "  <thead>\n",
              "    <tr style=\"text-align: right;\">\n",
              "      <th></th>\n",
              "      <th>Ticker</th>\n",
              "      <th>Date</th>\n",
              "      <th>Open</th>\n",
              "      <th>High</th>\n",
              "      <th>Low</th>\n",
              "      <th>Close</th>\n",
              "      <th>Adj Close</th>\n",
              "      <th>Volume</th>\n",
              "    </tr>\n",
              "  </thead>\n",
              "  <tbody>\n",
              "    <tr>\n",
              "      <th>0</th>\n",
              "      <td>AAPL</td>\n",
              "      <td>2023-02-07</td>\n",
              "      <td>150.639999</td>\n",
              "      <td>155.229996</td>\n",
              "      <td>150.639999</td>\n",
              "      <td>154.649994</td>\n",
              "      <td>154.414230</td>\n",
              "      <td>83322600</td>\n",
              "    </tr>\n",
              "    <tr>\n",
              "      <th>1</th>\n",
              "      <td>AAPL</td>\n",
              "      <td>2023-02-08</td>\n",
              "      <td>153.880005</td>\n",
              "      <td>154.580002</td>\n",
              "      <td>151.169998</td>\n",
              "      <td>151.919998</td>\n",
              "      <td>151.688400</td>\n",
              "      <td>64120100</td>\n",
              "    </tr>\n",
              "    <tr>\n",
              "      <th>2</th>\n",
              "      <td>AAPL</td>\n",
              "      <td>2023-02-09</td>\n",
              "      <td>153.779999</td>\n",
              "      <td>154.330002</td>\n",
              "      <td>150.419998</td>\n",
              "      <td>150.869995</td>\n",
              "      <td>150.639999</td>\n",
              "      <td>56007100</td>\n",
              "    </tr>\n",
              "    <tr>\n",
              "      <th>3</th>\n",
              "      <td>AAPL</td>\n",
              "      <td>2023-02-10</td>\n",
              "      <td>149.460007</td>\n",
              "      <td>151.339996</td>\n",
              "      <td>149.220001</td>\n",
              "      <td>151.009995</td>\n",
              "      <td>151.009995</td>\n",
              "      <td>57450700</td>\n",
              "    </tr>\n",
              "    <tr>\n",
              "      <th>4</th>\n",
              "      <td>AAPL</td>\n",
              "      <td>2023-02-13</td>\n",
              "      <td>150.949997</td>\n",
              "      <td>154.259995</td>\n",
              "      <td>150.919998</td>\n",
              "      <td>153.850006</td>\n",
              "      <td>153.850006</td>\n",
              "      <td>62199000</td>\n",
              "    </tr>\n",
              "    <tr>\n",
              "      <th>...</th>\n",
              "      <td>...</td>\n",
              "      <td>...</td>\n",
              "      <td>...</td>\n",
              "      <td>...</td>\n",
              "      <td>...</td>\n",
              "      <td>...</td>\n",
              "      <td>...</td>\n",
              "      <td>...</td>\n",
              "    </tr>\n",
              "    <tr>\n",
              "      <th>243</th>\n",
              "      <td>GOOG</td>\n",
              "      <td>2023-05-01</td>\n",
              "      <td>107.720001</td>\n",
              "      <td>108.680000</td>\n",
              "      <td>107.500000</td>\n",
              "      <td>107.709999</td>\n",
              "      <td>107.709999</td>\n",
              "      <td>20926300</td>\n",
              "    </tr>\n",
              "    <tr>\n",
              "      <th>244</th>\n",
              "      <td>GOOG</td>\n",
              "      <td>2023-05-02</td>\n",
              "      <td>107.660004</td>\n",
              "      <td>107.730003</td>\n",
              "      <td>104.500000</td>\n",
              "      <td>105.980003</td>\n",
              "      <td>105.980003</td>\n",
              "      <td>20343100</td>\n",
              "    </tr>\n",
              "    <tr>\n",
              "      <th>245</th>\n",
              "      <td>GOOG</td>\n",
              "      <td>2023-05-03</td>\n",
              "      <td>106.220001</td>\n",
              "      <td>108.129997</td>\n",
              "      <td>105.620003</td>\n",
              "      <td>106.120003</td>\n",
              "      <td>106.120003</td>\n",
              "      <td>17116300</td>\n",
              "    </tr>\n",
              "    <tr>\n",
              "      <th>246</th>\n",
              "      <td>GOOG</td>\n",
              "      <td>2023-05-04</td>\n",
              "      <td>106.160004</td>\n",
              "      <td>106.300003</td>\n",
              "      <td>104.699997</td>\n",
              "      <td>105.209999</td>\n",
              "      <td>105.209999</td>\n",
              "      <td>19780600</td>\n",
              "    </tr>\n",
              "    <tr>\n",
              "      <th>247</th>\n",
              "      <td>GOOG</td>\n",
              "      <td>2023-05-05</td>\n",
              "      <td>105.320000</td>\n",
              "      <td>106.440002</td>\n",
              "      <td>104.738998</td>\n",
              "      <td>106.214996</td>\n",
              "      <td>106.214996</td>\n",
              "      <td>20705300</td>\n",
              "    </tr>\n",
              "  </tbody>\n",
              "</table>\n",
              "<p>248 rows × 8 columns</p>\n",
              "</div>\n",
              "      <button class=\"colab-df-convert\" onclick=\"convertToInteractive('df-a9cc3a3b-d480-4d84-af34-c7395bc17490')\"\n",
              "              title=\"Convert this dataframe to an interactive table.\"\n",
              "              style=\"display:none;\">\n",
              "        \n",
              "  <svg xmlns=\"http://www.w3.org/2000/svg\" height=\"24px\"viewBox=\"0 0 24 24\"\n",
              "       width=\"24px\">\n",
              "    <path d=\"M0 0h24v24H0V0z\" fill=\"none\"/>\n",
              "    <path d=\"M18.56 5.44l.94 2.06.94-2.06 2.06-.94-2.06-.94-.94-2.06-.94 2.06-2.06.94zm-11 1L8.5 8.5l.94-2.06 2.06-.94-2.06-.94L8.5 2.5l-.94 2.06-2.06.94zm10 10l.94 2.06.94-2.06 2.06-.94-2.06-.94-.94-2.06-.94 2.06-2.06.94z\"/><path d=\"M17.41 7.96l-1.37-1.37c-.4-.4-.92-.59-1.43-.59-.52 0-1.04.2-1.43.59L10.3 9.45l-7.72 7.72c-.78.78-.78 2.05 0 2.83L4 21.41c.39.39.9.59 1.41.59.51 0 1.02-.2 1.41-.59l7.78-7.78 2.81-2.81c.8-.78.8-2.07 0-2.86zM5.41 20L4 18.59l7.72-7.72 1.47 1.35L5.41 20z\"/>\n",
              "  </svg>\n",
              "      </button>\n",
              "      \n",
              "  <style>\n",
              "    .colab-df-container {\n",
              "      display:flex;\n",
              "      flex-wrap:wrap;\n",
              "      gap: 12px;\n",
              "    }\n",
              "\n",
              "    .colab-df-convert {\n",
              "      background-color: #E8F0FE;\n",
              "      border: none;\n",
              "      border-radius: 50%;\n",
              "      cursor: pointer;\n",
              "      display: none;\n",
              "      fill: #1967D2;\n",
              "      height: 32px;\n",
              "      padding: 0 0 0 0;\n",
              "      width: 32px;\n",
              "    }\n",
              "\n",
              "    .colab-df-convert:hover {\n",
              "      background-color: #E2EBFA;\n",
              "      box-shadow: 0px 1px 2px rgba(60, 64, 67, 0.3), 0px 1px 3px 1px rgba(60, 64, 67, 0.15);\n",
              "      fill: #174EA6;\n",
              "    }\n",
              "\n",
              "    [theme=dark] .colab-df-convert {\n",
              "      background-color: #3B4455;\n",
              "      fill: #D2E3FC;\n",
              "    }\n",
              "\n",
              "    [theme=dark] .colab-df-convert:hover {\n",
              "      background-color: #434B5C;\n",
              "      box-shadow: 0px 1px 3px 1px rgba(0, 0, 0, 0.15);\n",
              "      filter: drop-shadow(0px 1px 2px rgba(0, 0, 0, 0.3));\n",
              "      fill: #FFFFFF;\n",
              "    }\n",
              "  </style>\n",
              "\n",
              "      <script>\n",
              "        const buttonEl =\n",
              "          document.querySelector('#df-a9cc3a3b-d480-4d84-af34-c7395bc17490 button.colab-df-convert');\n",
              "        buttonEl.style.display =\n",
              "          google.colab.kernel.accessAllowed ? 'block' : 'none';\n",
              "\n",
              "        async function convertToInteractive(key) {\n",
              "          const element = document.querySelector('#df-a9cc3a3b-d480-4d84-af34-c7395bc17490');\n",
              "          const dataTable =\n",
              "            await google.colab.kernel.invokeFunction('convertToInteractive',\n",
              "                                                     [key], {});\n",
              "          if (!dataTable) return;\n",
              "\n",
              "          const docLinkHtml = 'Like what you see? Visit the ' +\n",
              "            '<a target=\"_blank\" href=https://colab.research.google.com/notebooks/data_table.ipynb>data table notebook</a>'\n",
              "            + ' to learn more about interactive tables.';\n",
              "          element.innerHTML = '';\n",
              "          dataTable['output_type'] = 'display_data';\n",
              "          await google.colab.output.renderOutput(dataTable, element);\n",
              "          const docLink = document.createElement('div');\n",
              "          docLink.innerHTML = docLinkHtml;\n",
              "          element.appendChild(docLink);\n",
              "        }\n",
              "      </script>\n",
              "    </div>\n",
              "  </div>\n",
              "  "
            ]
          },
          "metadata": {},
          "execution_count": 5
        }
      ]
    },
    {
      "cell_type": "code",
      "source": [
        "df.info()"
      ],
      "metadata": {
        "colab": {
          "base_uri": "https://localhost:8080/"
        },
        "id": "53i8eL5WRz8L",
        "outputId": "e811b3e5-ab9e-44ff-f27e-f2ea642161b0"
      },
      "execution_count": 6,
      "outputs": [
        {
          "output_type": "stream",
          "name": "stdout",
          "text": [
            "<class 'pandas.core.frame.DataFrame'>\n",
            "RangeIndex: 248 entries, 0 to 247\n",
            "Data columns (total 8 columns):\n",
            " #   Column     Non-Null Count  Dtype  \n",
            "---  ------     --------------  -----  \n",
            " 0   Ticker     248 non-null    object \n",
            " 1   Date       248 non-null    object \n",
            " 2   Open       248 non-null    float64\n",
            " 3   High       248 non-null    float64\n",
            " 4   Low        248 non-null    float64\n",
            " 5   Close      248 non-null    float64\n",
            " 6   Adj Close  248 non-null    float64\n",
            " 7   Volume     248 non-null    int64  \n",
            "dtypes: float64(5), int64(1), object(2)\n",
            "memory usage: 15.6+ KB\n"
          ]
        }
      ]
    },
    {
      "cell_type": "code",
      "source": [
        "df.describe()"
      ],
      "metadata": {
        "colab": {
          "base_uri": "https://localhost:8080/",
          "height": 300
        },
        "id": "YfVIl_MBR36S",
        "outputId": "2be5d230-055d-48ee-f2fd-49d8e0d16825"
      },
      "execution_count": 7,
      "outputs": [
        {
          "output_type": "execute_result",
          "data": {
            "text/plain": [
              "             Open        High         Low       Close   Adj Close  \\\n",
              "count  248.000000  248.000000  248.000000  248.000000  248.000000   \n",
              "mean   215.252093  217.919662  212.697452  215.381674  215.362697   \n",
              "std     91.691315   92.863023   90.147881   91.461989   91.454750   \n",
              "min     89.540001   90.129997   88.860001   89.349998   89.349998   \n",
              "25%    135.235004  137.440004  134.822495  136.347498  136.347498   \n",
              "50%    208.764999  212.614998  208.184998  209.920006  209.920006   \n",
              "75%    304.177505  307.565002  295.437500  303.942505  303.942505   \n",
              "max    372.410004  373.829987  361.739990  366.829987  366.829987   \n",
              "\n",
              "             Volume  \n",
              "count  2.480000e+02  \n",
              "mean   3.208210e+07  \n",
              "std    2.233590e+07  \n",
              "min    2.657900e+06  \n",
              "25%    1.714180e+07  \n",
              "50%    2.734000e+07  \n",
              "75%    4.771772e+07  \n",
              "max    1.133164e+08  "
            ],
            "text/html": [
              "\n",
              "  <div id=\"df-f6947d8b-f920-4bbf-96ef-0e125a3080fb\">\n",
              "    <div class=\"colab-df-container\">\n",
              "      <div>\n",
              "<style scoped>\n",
              "    .dataframe tbody tr th:only-of-type {\n",
              "        vertical-align: middle;\n",
              "    }\n",
              "\n",
              "    .dataframe tbody tr th {\n",
              "        vertical-align: top;\n",
              "    }\n",
              "\n",
              "    .dataframe thead th {\n",
              "        text-align: right;\n",
              "    }\n",
              "</style>\n",
              "<table border=\"1\" class=\"dataframe\">\n",
              "  <thead>\n",
              "    <tr style=\"text-align: right;\">\n",
              "      <th></th>\n",
              "      <th>Open</th>\n",
              "      <th>High</th>\n",
              "      <th>Low</th>\n",
              "      <th>Close</th>\n",
              "      <th>Adj Close</th>\n",
              "      <th>Volume</th>\n",
              "    </tr>\n",
              "  </thead>\n",
              "  <tbody>\n",
              "    <tr>\n",
              "      <th>count</th>\n",
              "      <td>248.000000</td>\n",
              "      <td>248.000000</td>\n",
              "      <td>248.000000</td>\n",
              "      <td>248.000000</td>\n",
              "      <td>248.000000</td>\n",
              "      <td>2.480000e+02</td>\n",
              "    </tr>\n",
              "    <tr>\n",
              "      <th>mean</th>\n",
              "      <td>215.252093</td>\n",
              "      <td>217.919662</td>\n",
              "      <td>212.697452</td>\n",
              "      <td>215.381674</td>\n",
              "      <td>215.362697</td>\n",
              "      <td>3.208210e+07</td>\n",
              "    </tr>\n",
              "    <tr>\n",
              "      <th>std</th>\n",
              "      <td>91.691315</td>\n",
              "      <td>92.863023</td>\n",
              "      <td>90.147881</td>\n",
              "      <td>91.461989</td>\n",
              "      <td>91.454750</td>\n",
              "      <td>2.233590e+07</td>\n",
              "    </tr>\n",
              "    <tr>\n",
              "      <th>min</th>\n",
              "      <td>89.540001</td>\n",
              "      <td>90.129997</td>\n",
              "      <td>88.860001</td>\n",
              "      <td>89.349998</td>\n",
              "      <td>89.349998</td>\n",
              "      <td>2.657900e+06</td>\n",
              "    </tr>\n",
              "    <tr>\n",
              "      <th>25%</th>\n",
              "      <td>135.235004</td>\n",
              "      <td>137.440004</td>\n",
              "      <td>134.822495</td>\n",
              "      <td>136.347498</td>\n",
              "      <td>136.347498</td>\n",
              "      <td>1.714180e+07</td>\n",
              "    </tr>\n",
              "    <tr>\n",
              "      <th>50%</th>\n",
              "      <td>208.764999</td>\n",
              "      <td>212.614998</td>\n",
              "      <td>208.184998</td>\n",
              "      <td>209.920006</td>\n",
              "      <td>209.920006</td>\n",
              "      <td>2.734000e+07</td>\n",
              "    </tr>\n",
              "    <tr>\n",
              "      <th>75%</th>\n",
              "      <td>304.177505</td>\n",
              "      <td>307.565002</td>\n",
              "      <td>295.437500</td>\n",
              "      <td>303.942505</td>\n",
              "      <td>303.942505</td>\n",
              "      <td>4.771772e+07</td>\n",
              "    </tr>\n",
              "    <tr>\n",
              "      <th>max</th>\n",
              "      <td>372.410004</td>\n",
              "      <td>373.829987</td>\n",
              "      <td>361.739990</td>\n",
              "      <td>366.829987</td>\n",
              "      <td>366.829987</td>\n",
              "      <td>1.133164e+08</td>\n",
              "    </tr>\n",
              "  </tbody>\n",
              "</table>\n",
              "</div>\n",
              "      <button class=\"colab-df-convert\" onclick=\"convertToInteractive('df-f6947d8b-f920-4bbf-96ef-0e125a3080fb')\"\n",
              "              title=\"Convert this dataframe to an interactive table.\"\n",
              "              style=\"display:none;\">\n",
              "        \n",
              "  <svg xmlns=\"http://www.w3.org/2000/svg\" height=\"24px\"viewBox=\"0 0 24 24\"\n",
              "       width=\"24px\">\n",
              "    <path d=\"M0 0h24v24H0V0z\" fill=\"none\"/>\n",
              "    <path d=\"M18.56 5.44l.94 2.06.94-2.06 2.06-.94-2.06-.94-.94-2.06-.94 2.06-2.06.94zm-11 1L8.5 8.5l.94-2.06 2.06-.94-2.06-.94L8.5 2.5l-.94 2.06-2.06.94zm10 10l.94 2.06.94-2.06 2.06-.94-2.06-.94-.94-2.06-.94 2.06-2.06.94z\"/><path d=\"M17.41 7.96l-1.37-1.37c-.4-.4-.92-.59-1.43-.59-.52 0-1.04.2-1.43.59L10.3 9.45l-7.72 7.72c-.78.78-.78 2.05 0 2.83L4 21.41c.39.39.9.59 1.41.59.51 0 1.02-.2 1.41-.59l7.78-7.78 2.81-2.81c.8-.78.8-2.07 0-2.86zM5.41 20L4 18.59l7.72-7.72 1.47 1.35L5.41 20z\"/>\n",
              "  </svg>\n",
              "      </button>\n",
              "      \n",
              "  <style>\n",
              "    .colab-df-container {\n",
              "      display:flex;\n",
              "      flex-wrap:wrap;\n",
              "      gap: 12px;\n",
              "    }\n",
              "\n",
              "    .colab-df-convert {\n",
              "      background-color: #E8F0FE;\n",
              "      border: none;\n",
              "      border-radius: 50%;\n",
              "      cursor: pointer;\n",
              "      display: none;\n",
              "      fill: #1967D2;\n",
              "      height: 32px;\n",
              "      padding: 0 0 0 0;\n",
              "      width: 32px;\n",
              "    }\n",
              "\n",
              "    .colab-df-convert:hover {\n",
              "      background-color: #E2EBFA;\n",
              "      box-shadow: 0px 1px 2px rgba(60, 64, 67, 0.3), 0px 1px 3px 1px rgba(60, 64, 67, 0.15);\n",
              "      fill: #174EA6;\n",
              "    }\n",
              "\n",
              "    [theme=dark] .colab-df-convert {\n",
              "      background-color: #3B4455;\n",
              "      fill: #D2E3FC;\n",
              "    }\n",
              "\n",
              "    [theme=dark] .colab-df-convert:hover {\n",
              "      background-color: #434B5C;\n",
              "      box-shadow: 0px 1px 3px 1px rgba(0, 0, 0, 0.15);\n",
              "      filter: drop-shadow(0px 1px 2px rgba(0, 0, 0, 0.3));\n",
              "      fill: #FFFFFF;\n",
              "    }\n",
              "  </style>\n",
              "\n",
              "      <script>\n",
              "        const buttonEl =\n",
              "          document.querySelector('#df-f6947d8b-f920-4bbf-96ef-0e125a3080fb button.colab-df-convert');\n",
              "        buttonEl.style.display =\n",
              "          google.colab.kernel.accessAllowed ? 'block' : 'none';\n",
              "\n",
              "        async function convertToInteractive(key) {\n",
              "          const element = document.querySelector('#df-f6947d8b-f920-4bbf-96ef-0e125a3080fb');\n",
              "          const dataTable =\n",
              "            await google.colab.kernel.invokeFunction('convertToInteractive',\n",
              "                                                     [key], {});\n",
              "          if (!dataTable) return;\n",
              "\n",
              "          const docLinkHtml = 'Like what you see? Visit the ' +\n",
              "            '<a target=\"_blank\" href=https://colab.research.google.com/notebooks/data_table.ipynb>data table notebook</a>'\n",
              "            + ' to learn more about interactive tables.';\n",
              "          element.innerHTML = '';\n",
              "          dataTable['output_type'] = 'display_data';\n",
              "          await google.colab.output.renderOutput(dataTable, element);\n",
              "          const docLink = document.createElement('div');\n",
              "          docLink.innerHTML = docLinkHtml;\n",
              "          element.appendChild(docLink);\n",
              "        }\n",
              "      </script>\n",
              "    </div>\n",
              "  </div>\n",
              "  "
            ]
          },
          "metadata": {},
          "execution_count": 7
        }
      ]
    },
    {
      "cell_type": "code",
      "source": [
        "df.isna().sum()"
      ],
      "metadata": {
        "colab": {
          "base_uri": "https://localhost:8080/"
        },
        "id": "khoxNMHZR_KY",
        "outputId": "9ecc9828-9348-4844-93f7-9fcd4ad8e892"
      },
      "execution_count": 8,
      "outputs": [
        {
          "output_type": "execute_result",
          "data": {
            "text/plain": [
              "Ticker       0\n",
              "Date         0\n",
              "Open         0\n",
              "High         0\n",
              "Low          0\n",
              "Close        0\n",
              "Adj Close    0\n",
              "Volume       0\n",
              "dtype: int64"
            ]
          },
          "metadata": {},
          "execution_count": 8
        }
      ]
    },
    {
      "cell_type": "code",
      "source": [
        "df.columns"
      ],
      "metadata": {
        "colab": {
          "base_uri": "https://localhost:8080/"
        },
        "id": "BDUOyH1VSCuR",
        "outputId": "feb56305-3f39-4adc-f298-a871a200184e"
      },
      "execution_count": 10,
      "outputs": [
        {
          "output_type": "execute_result",
          "data": {
            "text/plain": [
              "Index(['Ticker', 'Date', 'Open', 'High', 'Low', 'Close', 'Adj Close',\n",
              "       'Volume'],\n",
              "      dtype='object')"
            ]
          },
          "metadata": {},
          "execution_count": 10
        }
      ]
    },
    {
      "cell_type": "code",
      "source": [
        "df['Ticker'].unique()"
      ],
      "metadata": {
        "colab": {
          "base_uri": "https://localhost:8080/"
        },
        "id": "Cbj6iNGzSGtA",
        "outputId": "ca6c042c-d679-463d-ceb1-504c69851974"
      },
      "execution_count": 11,
      "outputs": [
        {
          "output_type": "execute_result",
          "data": {
            "text/plain": [
              "array(['AAPL', 'MSFT', 'NFLX', 'GOOG'], dtype=object)"
            ]
          },
          "metadata": {},
          "execution_count": 11
        }
      ]
    },
    {
      "cell_type": "code",
      "source": [
        "df['Date'].unique()"
      ],
      "metadata": {
        "colab": {
          "base_uri": "https://localhost:8080/"
        },
        "id": "wPZm8NraSMlr",
        "outputId": "efe4c674-0c89-4fe2-ecfb-004ce85e5bb9"
      },
      "execution_count": 12,
      "outputs": [
        {
          "output_type": "execute_result",
          "data": {
            "text/plain": [
              "array(['2023-02-07', '2023-02-08', '2023-02-09', '2023-02-10',\n",
              "       '2023-02-13', '2023-02-14', '2023-02-15', '2023-02-16',\n",
              "       '2023-02-17', '2023-02-21', '2023-02-22', '2023-02-23',\n",
              "       '2023-02-24', '2023-02-27', '2023-02-28', '2023-03-01',\n",
              "       '2023-03-02', '2023-03-03', '2023-03-06', '2023-03-07',\n",
              "       '2023-03-08', '2023-03-09', '2023-03-10', '2023-03-13',\n",
              "       '2023-03-14', '2023-03-15', '2023-03-16', '2023-03-17',\n",
              "       '2023-03-20', '2023-03-21', '2023-03-22', '2023-03-23',\n",
              "       '2023-03-24', '2023-03-27', '2023-03-28', '2023-03-29',\n",
              "       '2023-03-30', '2023-03-31', '2023-04-03', '2023-04-04',\n",
              "       '2023-04-05', '2023-04-06', '2023-04-10', '2023-04-11',\n",
              "       '2023-04-12', '2023-04-13', '2023-04-14', '2023-04-17',\n",
              "       '2023-04-18', '2023-04-19', '2023-04-20', '2023-04-21',\n",
              "       '2023-04-24', '2023-04-25', '2023-04-26', '2023-04-27',\n",
              "       '2023-04-28', '2023-05-01', '2023-05-02', '2023-05-03',\n",
              "       '2023-05-04', '2023-05-05'], dtype=object)"
            ]
          },
          "metadata": {},
          "execution_count": 12
        }
      ]
    },
    {
      "cell_type": "code",
      "source": [
        "writer = pd.ExcelWriter('stock_market_performance.xlsx')"
      ],
      "metadata": {
        "id": "m-DehSNkTQ4D"
      },
      "execution_count": 15,
      "outputs": []
    },
    {
      "cell_type": "code",
      "source": [
        "df.to_excel(writer)"
      ],
      "metadata": {
        "id": "ChPsYl12TRlS"
      },
      "execution_count": 16,
      "outputs": []
    },
    {
      "cell_type": "code",
      "source": [
        "writer.save()\n",
        "print('DataFrame is written successfully to Excel File.')"
      ],
      "metadata": {
        "colab": {
          "base_uri": "https://localhost:8080/"
        },
        "id": "6AM_kmgTTUFM",
        "outputId": "7f148df7-54a6-4cd3-cb60-6bf3b6825ab1"
      },
      "execution_count": 17,
      "outputs": [
        {
          "output_type": "stream",
          "name": "stdout",
          "text": [
            "DataFrame is written successfully to Excel File.\n"
          ]
        },
        {
          "output_type": "stream",
          "name": "stderr",
          "text": [
            "<ipython-input-17-a23b5e58f680>:1: FutureWarning: save is not part of the public API, usage can give unexpected results and will be removed in a future version\n",
            "  writer.save()\n"
          ]
        }
      ]
    },
    {
      "cell_type": "markdown",
      "source": [
        "Below is the visiualization done with tableau"
      ],
      "metadata": {
        "id": "agPfFMhwqMgV"
      }
    },
    {
      "cell_type": "markdown",
      "source": [
        "https://public.tableau.com/views/Stockmarketperformance/Dashboard1?:language=en-GB&publish=yes&:display_count=n&:origin=viz_share_link"
      ],
      "metadata": {
        "id": "9cHi2IykqI_2"
      }
    }
  ]
}